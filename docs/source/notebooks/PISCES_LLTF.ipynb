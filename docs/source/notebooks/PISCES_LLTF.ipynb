{
 "cells": [
  {
   "cell_type": "markdown",
   "metadata": {},
   "source": [
    "# Attempt to use incomplete LLTF data to calibrate PISCES"
   ]
  },
  {
   "cell_type": "code",
   "execution_count": 1,
   "metadata": {
    "collapsed": false
   },
   "outputs": [
    {
     "name": "stdout",
     "output_type": "stream",
     "text": [
      "Populating the interactive namespace from numpy and matplotlib\n"
     ]
    }
   ],
   "source": [
    "import numpy as np\n",
    "import glob\n",
    "from astropy.io import fits\n",
    "%pylab inline --no-import-all\n",
    "plt.rc('font', family='serif', serif='Times',size=20)\n",
    "plt.rc('text', usetex=True)\n",
    "plt.rc('xtick', labelsize=20)\n",
    "plt.rc('xtick.major', size=10)\n",
    "plt.rc('ytick.major', size=10)\n",
    "plt.rc('ytick', labelsize=20)\n",
    "plt.rc('axes', labelsize=20)\n",
    "plt.rc('figure',titlesize=20)\n",
    "plt.rc('image',origin='lower',interpolation='nearest')\n",
    "\n",
    "import sys\n",
    "import os"
   ]
  },
  {
   "cell_type": "code",
   "execution_count": 2,
   "metadata": {
    "collapsed": false
   },
   "outputs": [
    {
     "data": {
      "text/plain": [
       "SIMPLE  =                    T / conforms to FITS standard                      \n",
       "BITPIX  =                    8 / array data type                                \n",
       "NAXIS   =                    0 / number of array dimensions                     \n",
       "EXTEND  =                    T                                                  \n",
       "COMMENT                                                                         \n",
       "COMMENT ************************************************************            \n",
       "COMMENT ********************** General parameters ******************            \n",
       "COMMENT ************************************************************            \n",
       "COMMENT                                                                         \n",
       "NLENS   =                  108 / # lenslets across array                        \n",
       "PITCH   =             0.000174 / Lenslet pitch (meters)                         \n",
       "INTERLAC=                    2 / Interlacing                                    \n",
       "PHILENS =    26.56505117707799 / Rotation angle of the lenslets (deg)           \n",
       "PIXSIZE =              1.3E-05 / Pixel size (meters)                            \n",
       "LENSAMP =                  0.5 / Lenslet sampling (lam/D)                       \n",
       "LSAMPWAV=                600.0 / Lenslet sampling wavelength (nm)               \n",
       "FWHM    =                    2 / FHWM of PSFLet at detector (pixels)            \n",
       "FWHMLAM =                660.0 / Wavelength at which FWHM is defined (nm)       \n",
       "NPIX    =                 1024 / Number of detector pixels                      \n",
       "DISPDIST=                    F / Use PISCES distortion/dispersion?              "
      ]
     },
     "execution_count": 2,
     "metadata": {},
     "output_type": "execute_result"
    }
   ],
   "source": [
    "os.chdir('/Users/mrizzo/IFS/crispy/crispy/PISCES_LLTF/')\n",
    "\n",
    "import logging as log\n",
    "from crispy.tools.initLogger import getLogger\n",
    "log = getLogger('crispy')\n",
    "from crispy.tools.image import Image\n",
    "from PISCESparams import Params\n",
    "par = Params()\n",
    "par.hdr"
   ]
  },
  {
   "cell_type": "markdown",
   "metadata": {},
   "source": [
    "## Collect LLTF data"
   ]
  },
  {
   "cell_type": "code",
   "execution_count": 9,
   "metadata": {
    "collapsed": false
   },
   "outputs": [
    {
     "name": "stdout",
     "output_type": "stream",
     "text": [
      "crispy - INFO - [ '/Users/mrizzo/IFS/PISCES/data_IFS_170626/Calibra_LLTF_170623_600nm_170623_144454_229546.fits'\n",
      " '/Users/mrizzo/IFS/PISCES/data_IFS_170626/Calibra_LLTF_170623_600nm_170623_150738_918536.fits'\n",
      " '/Users/mrizzo/IFS/PISCES/data_IFS_170626/Calibra_LLTF_170623_600nm_170623_154310_045190.fits'\n",
      " '/Users/mrizzo/IFS/PISCES/data_IFS_170626/Calibra_LLTF_170623_610nm_170623_144607_899479.fits'\n",
      " '/Users/mrizzo/IFS/PISCES/data_IFS_170626/Calibra_LLTF_170623_610nm_170623_150852_364952.fits'\n",
      " '/Users/mrizzo/IFS/PISCES/data_IFS_170626/Calibra_LLTF_170623_610nm_170623_154422_973572.fits'\n",
      " '/Users/mrizzo/IFS/PISCES/data_IFS_170626/Calibra_LLTF_170623_620nm_170623_144720_901586.fits'\n",
      " '/Users/mrizzo/IFS/PISCES/data_IFS_170626/Calibra_LLTF_170623_620nm_170623_151005_846826.fits'\n",
      " '/Users/mrizzo/IFS/PISCES/data_IFS_170626/Calibra_LLTF_170623_620nm_170623_154536_290824.fits'\n",
      " '/Users/mrizzo/IFS/PISCES/data_IFS_170626/Calibra_LLTF_170623_630nm_170623_144833_639517.fits'\n",
      " '/Users/mrizzo/IFS/PISCES/data_IFS_170626/Calibra_LLTF_170623_630nm_170623_151119_190072.fits'\n",
      " '/Users/mrizzo/IFS/PISCES/data_IFS_170626/Calibra_LLTF_170623_630nm_170623_154649_645374.fits'\n",
      " '/Users/mrizzo/IFS/PISCES/data_IFS_170626/Calibra_LLTF_170623_640nm_170623_144947_020067.fits'\n",
      " '/Users/mrizzo/IFS/PISCES/data_IFS_170626/Calibra_LLTF_170623_640nm_170623_151232_917555.fits'\n",
      " '/Users/mrizzo/IFS/PISCES/data_IFS_170626/Calibra_LLTF_170623_640nm_170623_154803_003811.fits'\n",
      " '/Users/mrizzo/IFS/PISCES/data_IFS_170626/Calibra_LLTF_170623_650nm_170623_145100_210322.fits'\n",
      " '/Users/mrizzo/IFS/PISCES/data_IFS_170626/Calibra_LLTF_170623_650nm_170623_151346_788448.fits'\n",
      " '/Users/mrizzo/IFS/PISCES/data_IFS_170626/Calibra_LLTF_170623_650nm_170623_154917_012686.fits'\n",
      " '/Users/mrizzo/IFS/PISCES/data_IFS_170626/Calibra_LLTF_170623_660nm_170623_145213_354752.fits'\n",
      " '/Users/mrizzo/IFS/PISCES/data_IFS_170626/Calibra_LLTF_170623_660nm_170623_151459_465001.fits'\n",
      " '/Users/mrizzo/IFS/PISCES/data_IFS_170626/Calibra_LLTF_170623_660nm_170623_155030_596853.fits'\n",
      " '/Users/mrizzo/IFS/PISCES/data_IFS_170626/Calibra_LLTF_170623_670nm_170623_145326_395243.fits'\n",
      " '/Users/mrizzo/IFS/PISCES/data_IFS_170626/Calibra_LLTF_170623_670nm_170623_151612_788260.fits'\n",
      " '/Users/mrizzo/IFS/PISCES/data_IFS_170626/Calibra_LLTF_170623_670nm_170623_155143_998328.fits'\n",
      " '/Users/mrizzo/IFS/PISCES/data_IFS_170626/Calibra_LLTF_170623_680nm_170623_145439_920947.fits'\n",
      " '/Users/mrizzo/IFS/PISCES/data_IFS_170626/Calibra_LLTF_170623_680nm_170623_151726_062878.fits'\n",
      " '/Users/mrizzo/IFS/PISCES/data_IFS_170626/Calibra_LLTF_170623_680nm_170623_155257_176311.fits'\n",
      " '/Users/mrizzo/IFS/PISCES/data_IFS_170626/Calibra_LLTF_170623_690nm_170623_145553_033748.fits'\n",
      " '/Users/mrizzo/IFS/PISCES/data_IFS_170626/Calibra_LLTF_170623_690nm_170623_151839_240432.fits'\n",
      " '/Users/mrizzo/IFS/PISCES/data_IFS_170626/Calibra_LLTF_170623_690nm_170623_155410_370187.fits'\n",
      " '/Users/mrizzo/IFS/PISCES/data_IFS_170626/Calibra_LLTF_170623_700nm_170623_145706_804544.fits'\n",
      " '/Users/mrizzo/IFS/PISCES/data_IFS_170626/Calibra_LLTF_170623_700nm_170623_151952_754438.fits'\n",
      " '/Users/mrizzo/IFS/PISCES/data_IFS_170626/Calibra_LLTF_170623_700nm_170623_155523_392221.fits'\n",
      " '/Users/mrizzo/IFS/PISCES/data_IFS_170626/Calibra_LLTF_170623_710nm_170623_145819_339678.fits'\n",
      " '/Users/mrizzo/IFS/PISCES/data_IFS_170626/Calibra_LLTF_170623_710nm_170623_152106_141429.fits'\n",
      " '/Users/mrizzo/IFS/PISCES/data_IFS_170626/Calibra_LLTF_170623_710nm_170623_155637_195199.fits'\n",
      " '/Users/mrizzo/IFS/PISCES/data_IFS_170626/Calibra_LLTF_170623_720nm_170623_145932_324124.fits'\n",
      " '/Users/mrizzo/IFS/PISCES/data_IFS_170626/Calibra_LLTF_170623_720nm_170623_152219_226710.fits'\n",
      " '/Users/mrizzo/IFS/PISCES/data_IFS_170626/Calibra_LLTF_170623_720nm_170623_155750_593851.fits']\n"
     ]
    }
   ],
   "source": [
    "import re\n",
    "LLTF_folder = '/Users/mrizzo/IFS/PISCES/data_IFS_170626/'\n",
    "LLTF_list = np.sort(glob.glob(LLTF_folder + 'Calibra_LLTF_170623_???nm_*'))\n",
    "log.info(LLTF_list)\n",
    "wavels = np.arange(600.,725.,10.)"
   ]
  },
  {
   "cell_type": "code",
   "execution_count": 11,
   "metadata": {
    "collapsed": false
   },
   "outputs": [],
   "source": [
    "dark = fits.getdata(LLTF_folder+'Dark_LLTF_170623_60s_170623_150506_052528.fits')\n",
    "for i,wav in enumerate(wavels):\n",
    "    j = i*3\n",
    "    dat = fits.getdata(LLTF_list[j])\n",
    "    dat+= fits.getdata(LLTF_list[j+1])\n",
    "    dat+= fits.getdata(LLTF_list[j+2])\n",
    "    dat /= 3.0\n",
    "    dat -= dark\n",
    "    out = fits.HDUList(fits.PrimaryHDU(dat))\n",
    "    out.writeto(LLTF_folder+'spots_%s.fits' % (str(wav)),overwrite=True)"
   ]
  },
  {
   "cell_type": "code",
   "execution_count": 3,
   "metadata": {
    "collapsed": false
   },
   "outputs": [
    {
     "name": "stdout",
     "output_type": "stream",
     "text": [
      "crispy - INFO - Building calibration files, placing results in ..//ReferenceFiles/LLTFwavecal_attempt/\n",
      "crispy - INFO - Read data from HDU 0 of ..//ReferenceFiles/LLTFwavecal_attempt/spots_650.0.fits\n",
      "crispy - INFO - Read data from HDU 0 of ..//ReferenceFiles/LLTFwavecal_attempt/spots_650.0.fits\n",
      "crispy - INFO - Initializing PSFlet location transformation coefficients\n",
      "crispy - INFO - Performing initial optimization of PSFlet location transformation coefficients for frame ..//ReferenceFiles/LLTFwavecal_attempt/spots_650.0.fits\n",
      "crispy - INFO - Performing final optimization of PSFlet location transformation coefficients for frame ..//ReferenceFiles/LLTFwavecal_attempt/spots_650.0.fits\n",
      "crispy - INFO - Read data from HDU 0 of ..//ReferenceFiles/LLTFwavecal_attempt/spots_660.0.fits\n",
      "crispy - INFO - Initializing transformation coefficients with previous values\n",
      "crispy - INFO - Performing final optimization of PSFlet location transformation coefficients for frame ..//ReferenceFiles/LLTFwavecal_attempt/spots_660.0.fits\n",
      "crispy - INFO - Read data from HDU 0 of ..//ReferenceFiles/LLTFwavecal_attempt/spots_670.0.fits\n",
      "crispy - INFO - Initializing transformation coefficients with previous values\n",
      "crispy - INFO - Performing final optimization of PSFlet location transformation coefficients for frame ..//ReferenceFiles/LLTFwavecal_attempt/spots_670.0.fits\n",
      "crispy - INFO - Read data from HDU 0 of ..//ReferenceFiles/LLTFwavecal_attempt/spots_680.0.fits\n",
      "crispy - INFO - Initializing transformation coefficients with previous values\n",
      "crispy - INFO - Performing final optimization of PSFlet location transformation coefficients for frame ..//ReferenceFiles/LLTFwavecal_attempt/spots_680.0.fits\n",
      "crispy - INFO - Read data from HDU 0 of ..//ReferenceFiles/LLTFwavecal_attempt/spots_690.0.fits\n",
      "crispy - INFO - Initializing transformation coefficients with previous values\n",
      "crispy - INFO - Performing final optimization of PSFlet location transformation coefficients for frame ..//ReferenceFiles/LLTFwavecal_attempt/spots_690.0.fits\n",
      "crispy - INFO - Read data from HDU 0 of ..//ReferenceFiles/LLTFwavecal_attempt/spots_700.0.fits\n",
      "crispy - INFO - Initializing transformation coefficients with previous values\n",
      "crispy - INFO - Performing final optimization of PSFlet location transformation coefficients for frame ..//ReferenceFiles/LLTFwavecal_attempt/spots_700.0.fits\n",
      "crispy - INFO - Read data from HDU 0 of ..//ReferenceFiles/LLTFwavecal_attempt/spots_710.0.fits\n",
      "crispy - INFO - Initializing transformation coefficients with previous values\n",
      "crispy - INFO - Performing final optimization of PSFlet location transformation coefficients for frame ..//ReferenceFiles/LLTFwavecal_attempt/spots_710.0.fits\n",
      "crispy - INFO - Read data from HDU 0 of ..//ReferenceFiles/LLTFwavecal_attempt/spots_720.0.fits\n",
      "crispy - INFO - Initializing transformation coefficients with previous values\n",
      "crispy - INFO - Performing final optimization of PSFlet location transformation coefficients for frame ..//ReferenceFiles/LLTFwavecal_attempt/spots_720.0.fits\n",
      "crispy - INFO - Saving wavelength solution to ..//ReferenceFiles/LLTFwavecal_attempt/lamsol.dat\n",
      "crispy - INFO - Computing wavelength values at pixel centers\n",
      "crispy - INFO - Making high-resolution PSFLet models\n",
      "crispy - INFO - Starting parallel computation\n",
      "crispy - INFO - Computing PSFLet widths...\n",
      "crispy - INFO - Reduced cube will have 6 wavelength bins\n",
      "crispy - INFO - Making polychrome cube\n",
      "crispy - INFO - Saving polychrome cube\n",
      "crispy - INFO - Saving wavelength calibration cube\n",
      "crispy - INFO - Total time elapsed: 209 s\n"
     ]
    }
   ],
   "source": [
    "from crispy.tools.wavecal import buildcalibrations\n",
    "par.gaussian_hires=False # since par.gaussian_hires is False, it will attempt to make high-resolution PSFLets\n",
    "par.lamlist = np.arange(650.,725.,10)\n",
    "par.filelist = [par.wavecalDir+'spots_'+str(wav)+'.fits' for wav in par.lamlist]\n",
    "buildcalibrations(par,\n",
    "                    inspect=True,\n",
    "                    genwavelengthsol=True, # Compute wavelength at the center of all pixels\n",
    "                    makehiresPSFlets=True, # this requires very high SNR on the monochromatic frames\n",
    "                    makePolychrome=True,   # This is needed to use least squares extraction\n",
    "                    makePSFWidths=True,    # Fit PSF widths from high-res PSFLet models\n",
    "                    upsample=3,            # upsampling factor of the high-resolution PSFLets\n",
    "                    nsubarr=4,             # the detector is divided into nsubarr^2 regions for PSFLet averaging\n",
    "                    apodize=False,          # to match PSFlet spot locations, only use the inner circular part of the \n",
    "                                           #detector, hence discarding the corners of the detector where lenslets are \n",
    "                                           #distorted\n",
    "                  ) "
   ]
  }
 ],
 "metadata": {
  "kernelspec": {
   "display_name": "Python 2",
   "language": "python",
   "name": "python2"
  },
  "language_info": {
   "codemirror_mode": {
    "name": "ipython",
    "version": 2
   },
   "file_extension": ".py",
   "mimetype": "text/x-python",
   "name": "python",
   "nbconvert_exporter": "python",
   "pygments_lexer": "ipython2",
   "version": "2.7.13"
  }
 },
 "nbformat": 4,
 "nbformat_minor": 2
}
