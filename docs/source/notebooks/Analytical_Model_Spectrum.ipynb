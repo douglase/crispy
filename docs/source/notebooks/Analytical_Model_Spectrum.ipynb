{
 "cells": [
  {
   "cell_type": "markdown",
   "metadata": {},
   "source": [
    "# Analytical model"
   ]
  },
  {
   "cell_type": "markdown",
   "metadata": {},
   "source": [
    "This is an analytical model to construct a simple SNR of a given spectrum."
   ]
  },
  {
   "cell_type": "code",
   "execution_count": 2,
   "metadata": {},
   "outputs": [
    {
     "name": "stdout",
     "output_type": "stream",
     "text": [
      "Populating the interactive namespace from numpy and matplotlib\n"
     ]
    },
    {
     "data": {
      "text/plain": [
       "SIMPLE  =                    T / conforms to FITS standard                      \n",
       "BITPIX  =                    8 / array data type                                \n",
       "NAXIS   =                    0 / number of array dimensions                     \n",
       "EXTEND  =                    T                                                  \n",
       "COMMENT                                                                         \n",
       "COMMENT ************************************************************            \n",
       "COMMENT ********************** General parameters ******************            \n",
       "COMMENT ************************************************************            \n",
       "COMMENT                                                                         \n",
       "NLENS   =                  108 / # lenslets across array                        \n",
       "PITCH   =             0.000174 / Lenslet pitch (meters)                         \n",
       "INTERLAC=                  2.0 / Interlacing                                    \n",
       "PHILENS =    26.56505117707799 / Rotation angle of the lenslets (deg)           \n",
       "PIXSIZE =              1.3E-05 / Pixel size (meters)                            \n",
       "LENSAMP =                  0.5 / Lenslet sampling (lam/D)                       \n",
       "LSAMPWAV=                660.0 / Lenslet sampling wavelength (nm)               \n",
       "FWHM    =                  2.0 / FHWM of PSFLet at detector (pixels)            \n",
       "FWHMLAM =                660.0 / Wavelength at which FWHM is defined (nm)       \n",
       "NPIX    =                 1024 / Number of detector pixels                      \n",
       "BW      =                 0.18 / Bandwidth                                      \n",
       "PIXPRLAM=                  2.0 / Pixels per resolution element                  \n",
       "R       =                   50 / Spectral resolution                            "
      ]
     },
     "execution_count": 2,
     "metadata": {},
     "output_type": "execute_result"
    }
   ],
   "source": [
    "%pylab inline --no-import-all\n",
    "plt.rc('font', family='serif', serif='Times',size=15)\n",
    "plt.rc('text', usetex=True)\n",
    "plt.rc('xtick', labelsize=20)\n",
    "plt.rc('xtick.major', size=10)\n",
    "plt.rc('ytick.major', size=10)\n",
    "plt.rc('ytick', labelsize=20)\n",
    "plt.rc('axes', labelsize=20)\n",
    "plt.rc('figure',titlesize=25)\n",
    "plt.rcParams['image.origin'] = 'lower'\n",
    "plt.rcParams['image.interpolation'] = 'nearest'\n",
    "plt.rcParams['axes.linewidth'] = 2.\n",
    "from astropy.io import fits\n",
    "import astropy.units as u\n",
    "import astropy.constants as c\n",
    "import pandas as pd\n",
    "import logging as log\n",
    "from crispy.tools.initLogger import getLogger\n",
    "log = getLogger('main')\n",
    "from crispy.tools.image import Image\n",
    "import os\n",
    "os.chdir('/Users/mrizzo/IFS/crispy/crispy/WFIRST/')\n",
    "from params import Params\n",
    "par = Params()\n",
    "par.hdr\n"
   ]
  },
  {
   "cell_type": "markdown",
   "metadata": {},
   "source": [
    "## Load QE"
   ]
  },
  {
   "cell_type": "code",
   "execution_count": 127,
   "metadata": {
    "collapsed": true
   },
   "outputs": [],
   "source": [
    "from scipy.interpolate import interp1d\n",
    "loadQE = np.loadtxt(par.codeRoot+\"/QE_CCD201.txt\")\n",
    "QE = interp1d(loadQE[:,0]/1000,loadQE[:,1])"
   ]
  },
  {
   "cell_type": "markdown",
   "metadata": {},
   "source": [
    "## Load planet fluxes"
   ]
  },
  {
   "cell_type": "code",
   "execution_count": 161,
   "metadata": {},
   "outputs": [
    {
     "data": {
      "text/plain": [
       "[<matplotlib.lines.Line2D at 0x18154f68d0>]"
      ]
     },
     "execution_count": 161,
     "metadata": {},
     "output_type": "execute_result"
    },
    {
     "data": {
      "image/png": "[encoded data removed]",
      "text/plain": [
       "<matplotlib.figure.Figure at 0x1815d8cb50>"
      ]
     },
     "metadata": {},
     "output_type": "display_data"
    }
   ],
   "source": [
    "import pandas as pd\n",
    "table = pd.read_table(par.codeRoot+\"/Inputs/LAS_spectra_for_exospec_bright_comparison_0deg_g0.0_EDC_012618_by_SRH.txt\",\n",
    "                     names=('wavelength','albedo','contrast','star','flux'),\n",
    "                     delimiter=',')\n",
    "plt.plot(table['wavelength'],table['albedo'])"
   ]
  },
  {
   "cell_type": "markdown",
   "metadata": {},
   "source": [
    "## Load stellar spectrum and convert to photons"
   ]
  },
  {
   "cell_type": "code",
   "execution_count": 210,
   "metadata": {
    "collapsed": true
   },
   "outputs": [],
   "source": [
    "from astropy.table import Table,QTable\n",
    "fname = par.codeRoot+'/Inputs/ETC/Spectra.csv'\n",
    "st = pd.read_csv(fname,skip_blank_lines=True,)\n",
    "stars = QTable.from_pandas(st)\n",
    "stars['Wavelength (m) '].unit = u.m\n",
    "stars.rename_column('Wavelength (m) ', 'Wavelength')\n",
    "stars['E_ph (J)'].unit = u.J/u.ph\n",
    "stars.rename_column('E_ph (J)', 'E_ph')\n",
    "cols = ['a0v','a5v','f5v','g0v','g5v','k0v','k5v','m0v','m5v']\n",
    "for col in cols:\n",
    "    stars[col].unit = u.W/u.m**2/u.m\n"
   ]
  },
  {
   "cell_type": "code",
   "execution_count": 211,
   "metadata": {},
   "outputs": [
    {
     "data": {
      "text/latex": [
       "$\\mathrm{\\frac{ph}{s\\,m^{2}}}$"
      ],
      "text/plain": [
       "Unit(\"ph / (m2 s)\")"
      ]
     },
     "execution_count": 211,
     "metadata": {},
     "output_type": "execute_result"
    },
    {
     "data": {
      "image/png": "[encoded data removed]",
      "text/plain": [
       "<matplotlib.figure.Figure at 0x181617b450>"
      ]
     },
     "metadata": {},
     "output_type": "display_data"
    }
   ],
   "source": [
    "star_ph_flux = (stars['g0v']/stars['E_ph']*u.nm).to(u.ph/u.s/u.m**2)\n",
    "plt.plot(stars['Wavelength'].to(u.um),star_ph_flux)\n",
    "star_ph_flux.unit\n"
   ]
  },
  {
   "cell_type": "code",
   "execution_count": 212,
   "metadata": {},
   "outputs": [],
   "source": [
    "# wl = stars['Wavelength'].to(u.um)\n",
    "# wmax = 0.721\n",
    "# wmin=0.6\n",
    "# star_ph_flux = star_ph_flux[wl.value>wmin]\n",
    "# wl = wl[wl.value>wmin]\n",
    "# star_ph_flux = star_ph_flux[wl.value<wmax]\n",
    "# wl = wl[wl.value<wmax]\n",
    "# np.sum(star_ph_flux)"
   ]
  },
  {
   "cell_type": "markdown",
   "metadata": {},
   "source": [
    "## Load planet albedo and convert to planet photons per 1 nm"
   ]
  },
  {
   "cell_type": "code",
   "execution_count": 213,
   "metadata": {},
   "outputs": [
    {
     "name": "stdout",
     "output_type": "stream",
     "text": [
      "0.30003 0.25 um\n",
      "0.99899 1.05 um\n",
      "801 801\n",
      "0.30003 0.301 um\n",
      "0.99899 0.998 um\n"
     ]
    }
   ],
   "source": [
    "albedo = interp1d(table['wavelength'],table['contrast'])\n",
    "wl = stars['Wavelength'].to(u.um)\n",
    "print np.amin(table['wavelength']),np.amin(wl)\n",
    "print np.amax(table['wavelength']),np.amax(wl)\n",
    "print len(wl),len(star_ph_flux)\n",
    "star_ph_flux = star_ph_flux[wl.value>np.amin(table['wavelength'])]\n",
    "wl = wl[wl.value>np.amin(table['wavelength'])]\n",
    "star_ph_flux = star_ph_flux[wl.value<np.amax(table['wavelength'])]\n",
    "wl = wl[wl.value<np.amax(table['wavelength'])]\n",
    "print np.amin(table['wavelength']),np.amin(wl)\n",
    "print np.amax(table['wavelength']),np.amax(wl)\n",
    "\n",
    "planet_ph_flux = star_ph_flux*albedo(wl)"
   ]
  },
  {
   "cell_type": "code",
   "execution_count": 214,
   "metadata": {},
   "outputs": [
    {
     "data": {
      "text/plain": [
       "[<matplotlib.lines.Line2D at 0x1815f09c10>]"
      ]
     },
     "execution_count": 214,
     "metadata": {},
     "output_type": "execute_result"
    },
    {
     "data": {
      "image/png": "[encoded data removed]",
      "text/plain": [
       "<matplotlib.figure.Figure at 0x1816150090>"
      ]
     },
     "metadata": {},
     "output_type": "display_data"
    }
   ],
   "source": [
    "plt.plot(wl,planet_ph_flux)"
   ]
  },
  {
   "cell_type": "code",
   "execution_count": null,
   "metadata": {
    "collapsed": true
   },
   "outputs": [],
   "source": []
  },
  {
   "cell_type": "markdown",
   "metadata": {},
   "source": [
    "## Star magnitude, bandwidth"
   ]
  },
  {
   "cell_type": "code",
   "execution_count": 215,
   "metadata": {},
   "outputs": [
    {
     "name": "stdout",
     "output_type": "stream",
     "text": [
      "1.45337044513 ph / (m2 s)\n"
     ]
    }
   ],
   "source": [
    "Vmag=5\n",
    "planet_ph_flux *= 10**(-0.4*Vmag)\n",
    "wmax = 0.721\n",
    "wmin=0.6\n",
    "planet_ph_flux = planet_ph_flux[wl.value>wmin]\n",
    "star_ph_flux = star_ph_flux[wl.value>wmin]\n",
    "wl = wl[wl.value>wmin]\n",
    "planet_ph_flux = planet_ph_flux[wl.value<wmax]\n",
    "star_ph_flux = star_ph_flux[wl.value<wmax]\n",
    "wl = wl[wl.value<wmax]\n",
    "print np.sum(planet_ph_flux)"
   ]
  },
  {
   "cell_type": "code",
   "execution_count": 216,
   "metadata": {},
   "outputs": [
    {
     "data": {
      "text/plain": [
       "[<matplotlib.lines.Line2D at 0x1815b05450>]"
      ]
     },
     "execution_count": 216,
     "metadata": {},
     "output_type": "execute_result"
    },
    {
     "data": {
      "image/png": "[encoded data removed]",
      "text/plain": [
       "<matplotlib.figure.Figure at 0x1816195a50>"
      ]
     },
     "metadata": {},
     "output_type": "display_data"
    }
   ],
   "source": [
    "plt.plot(wl,planet_ph_flux)"
   ]
  },
  {
   "cell_type": "code",
   "execution_count": 217,
   "metadata": {},
   "outputs": [
    {
     "name": "stdout",
     "output_type": "stream",
     "text": [
      "[ 0.601  0.602  0.603  0.604  0.605  0.606  0.607  0.608  0.609  0.61\n",
      "  0.611  0.612  0.613  0.614  0.615  0.616  0.617  0.618  0.619  0.62\n",
      "  0.621  0.622  0.623  0.624  0.625  0.626  0.627  0.628  0.629  0.63\n",
      "  0.631  0.632  0.633  0.634  0.635  0.636  0.637  0.638  0.639  0.64\n",
      "  0.641  0.642  0.643  0.644  0.645  0.646  0.647  0.648  0.649  0.65\n",
      "  0.651  0.652  0.653  0.654  0.655  0.656  0.657  0.658  0.659  0.66\n",
      "  0.661  0.662  0.663  0.664  0.665  0.666  0.667  0.668  0.669  0.67\n",
      "  0.671  0.672  0.673  0.674  0.675  0.676  0.677  0.678  0.679  0.68\n",
      "  0.681  0.682  0.683  0.684  0.685  0.686  0.687  0.688  0.689  0.69\n",
      "  0.691  0.692  0.693  0.694  0.695  0.696  0.697  0.698  0.699  0.7    0.701\n",
      "  0.702  0.703  0.704  0.705  0.706  0.707  0.708  0.709  0.71   0.711\n",
      "  0.712  0.713  0.714  0.715  0.716  0.717  0.718  0.719  0.72 ] um\n"
     ]
    }
   ],
   "source": [
    "print wl"
   ]
  },
  {
   "cell_type": "code",
   "execution_count": 218,
   "metadata": {
    "collapsed": true
   },
   "outputs": [],
   "source": [
    "from crispy.tools.detutils import rebin\n",
    "nbins = 10\n",
    "pl_ph_flux = planet_ph_flux.reshape(nbins,len(planet_ph_flux)/nbins).sum(-1)\n",
    "w = wl.reshape(nbins,len(planet_ph_flux)/nbins).mean(-1)"
   ]
  },
  {
   "cell_type": "code",
   "execution_count": 219,
   "metadata": {},
   "outputs": [
    {
     "data": {
      "text/plain": [
       "[<matplotlib.lines.Line2D at 0x18159eea10>]"
      ]
     },
     "execution_count": 219,
     "metadata": {},
     "output_type": "execute_result"
    },
    {
     "data": {
      "image/png": "[encoded data removed]",
      "text/plain": [
       "<matplotlib.figure.Figure at 0x1815f00810>"
      ]
     },
     "metadata": {},
     "output_type": "display_data"
    }
   ],
   "source": [
    "plt.plot(w,pl_ph_flux)"
   ]
  },
  {
   "cell_type": "code",
   "execution_count": 220,
   "metadata": {},
   "outputs": [
    {
     "name": "stdout",
     "output_type": "stream",
     "text": [
      "[ 0.00809308  0.00767113  0.00793455  0.00801717  0.00751928  0.00768185\n",
      "  0.00790146  0.00778796  0.00746096  0.00694957] ph / s\n"
     ]
    }
   ],
   "source": [
    "tau=0.0144\n",
    "A = 3.68*u.m**2\n",
    "pl_ph = pl_ph_flux*A*tau\n",
    "print pl_ph"
   ]
  },
  {
   "cell_type": "code",
   "execution_count": 221,
   "metadata": {},
   "outputs": [
    {
     "name": "stdout",
     "output_type": "stream",
     "text": [
      "[ 0.57065367  0.5701678   0.56886772  0.56605492  0.56160082  0.55581856\n",
      "  0.54847324  0.53971917  0.5287044   0.51569647]\n",
      "[ 0.00461835  0.00437383  0.00451371  0.00453816  0.00422284  0.00426971\n",
      "  0.00433374  0.00420331  0.00394464  0.00358387] ct / s\n"
     ]
    }
   ],
   "source": [
    "effQE = QE(w)*0.9*0.97*0.9*0.81\n",
    "print effQE\n",
    "pl_e_rate = pl_ph*effQE*u.count/u.ph\n",
    "print pl_e_rate"
   ]
  },
  {
   "cell_type": "code",
   "execution_count": 229,
   "metadata": {},
   "outputs": [
    {
     "name": "stdout",
     "output_type": "stream",
     "text": [
      "[ 0.00151836  0.0014845   0.00149163  0.001492    0.00140476  0.00143282\n",
      "  0.00144133  0.00140326  0.00133737  0.00123441] ct / s\n",
      "[ 0.00058584  0.00057192  0.00057927  0.00058051  0.00056038  0.00056413\n",
      "  0.00056775  0.00055933  0.0005431   0.00051991] ct / s\n"
     ]
    }
   ],
   "source": [
    "zodi = 1.1e-3*u.ct/u.s\n",
    "CFcontrast = 2.2e-9\n",
    "I_pk = 1.4e-3\n",
    "cgi_mpix = 36\n",
    "sp_tau = 0.34\n",
    "# speckle = 1.56e-3*u.ct/u.s\n",
    "Vmag=5\n",
    "star_ph_flux *= 10**(-0.4*Vmag)\n",
    "st_ph_flux = star_ph_flux.reshape(nbins,len(star_ph_flux)/nbins).sum(-1)\n",
    "\n",
    "w = wl.reshape(nbins,len(star_ph_flux)/nbins).mean(-1)\n",
    "speckle = st_ph_flux*A*QE(w)*u.ct/u.ph*cgi_mpix*sp_tau*I_pk*CFcontrast\n",
    "print speckle\n",
    "mpix = 20\n",
    "cic=2e-2*u.ct\n",
    "ftime = 100*u.s\n",
    "phconv_rate = (zodi+speckle+pl_e_rate)\n",
    "dark = 2.24e-4*u.ct/u.s\n",
    "perpxrate = dark+phconv_rate/mpix\n",
    "print perpxrate"
   ]
  },
  {
   "cell_type": "code",
   "execution_count": 275,
   "metadata": {},
   "outputs": [
    {
     "name": "stdout",
     "output_type": "stream",
     "text": [
      "[ 53.91518859  52.94086762  53.44600857  53.52993604  52.06230568\n",
      "  52.3516173   52.60972596  51.98788104  50.77703737  48.98475874] ct(1/2) 63.4798865783 ct(1/2) [ 54.66081145  53.44211246  53.69856845  53.71187411  50.57140544\n",
      "  51.58142161  51.88773338  50.51732028  48.14518613  44.43888876] ct\n",
      "[ 1662.60484934  1574.57957961  1624.93472883  1633.73731466  1520.22112128\n",
      "  1537.0970692   1560.14518525  1513.19114768  1420.07106699  1290.19325706] ct\n",
      "[ 9.66316749  9.26971039  9.52345692  9.56959394  9.15169584  9.18147189\n",
      "  9.28783091  9.11642827  8.74416636  8.22284383] ct\n"
     ]
    }
   ],
   "source": [
    "obstime = 100*3600*u.s\n",
    "mult = 1.32\n",
    "fpp=0.1\n",
    "shotnoise = np.sqrt((pl_e_rate+mult*(speckle+zodi))*obstime)\n",
    "elecnoise = np.sqrt(mult*mpix*(dark+cic/ftime)*obstime)\n",
    "spnoise = fpp*speckle*obstime\n",
    "print shotnoise,elecnoise,spnoise\n",
    "print pl_e_rate*obstime\n",
    "SNR = pl_e_rate*obstime/(shotnoise.value+elecnoise.value+spnoise.value)\n",
    "print SNR"
   ]
  },
  {
   "cell_type": "code",
   "execution_count": 276,
   "metadata": {},
   "outputs": [
    {
     "name": "stdout",
     "output_type": "stream",
     "text": [
      "[ 0.6065  0.6185  0.6305  0.6425  0.6545  0.6665  0.6785  0.6905  0.7025\n",
      "  0.7145] um [  1.25592302e-08   1.20699203e-08   1.24819111e-08   1.25135395e-08\n",
      "   1.23654764e-08   1.22378358e-08   1.23811491e-08   1.23411420e-08\n",
      "   1.21185700e-08   1.19851260e-08] [  1.29970119e-09   1.30208170e-09   1.31064919e-09   1.30763537e-09\n",
      "   1.35116776e-09   1.33288387e-09   1.33305065e-09   1.35372556e-09\n",
      "   1.38590341e-09   1.45754027e-09]\n"
     ]
    },
    {
     "data": {
      "text/plain": [
       "<Container object of 3 artists>"
      ]
     },
     "execution_count": 276,
     "metadata": {},
     "output_type": "execute_result"
    },
    {
     "data": {
      "image/png": "[encoded data removed]",
      "text/plain": [
       "<matplotlib.figure.Figure at 0x1816a30e10>"
      ]
     },
     "metadata": {},
     "output_type": "display_data"
    }
   ],
   "source": [
    "\n",
    "vals = albedo(w)\n",
    "SNR = SNR.value\n",
    "print w,vals,vals/SNR\n",
    "plt.errorbar(w.value,vals,yerr=vals/SNR,fmt='-o')\n"
   ]
  }
 ],
 "metadata": {
  "kernelspec": {
   "display_name": "Python 2",
   "language": "python",
   "name": "python2"
  },
  "language_info": {
   "codemirror_mode": {
    "name": "ipython",
    "version": 2
   },
   "file_extension": ".py",
   "mimetype": "text/x-python",
   "name": "python",
   "nbconvert_exporter": "python",
   "pygments_lexer": "ipython2",
   "version": "2.7.14"
  }
 },
 "nbformat": 4,
 "nbformat_minor": 2
}
