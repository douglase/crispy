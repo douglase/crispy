{
 "cells": [
  {
   "cell_type": "code",
   "execution_count": 1,
   "metadata": {
    "ExecuteTime": {
     "end_time": "2018-08-06T22:06:47.819557Z",
     "start_time": "2018-08-06T22:06:46.991204Z"
    }
   },
   "outputs": [
    {
     "name": "stdout",
     "output_type": "stream",
     "text": [
      "Populating the interactive namespace from numpy and matplotlib\n"
     ]
    }
   ],
   "source": [
    "%pylab inline --no-import-all\n",
    "matplotlib.rcParams['image.origin'] = 'lower'\n",
    "matplotlib.rcParams['image.interpolation'] = 'nearest'\n",
    "matplotlib.rcParams['axes.linewidth'] = 1.\n",
    "matplotlib.rcParams['lines.linewidth'] = 2.5\n",
    "matplotlib.rcParams['font.size'] = 15\n",
    "\n",
    "import os\n",
    "from astropy.io import fits\n",
    "\n",
    "cmap='inferno'\n",
    "matplotlib.rcParams['image.cmap'] = cmap\n"
   ]
  },
  {
   "cell_type": "code",
   "execution_count": 2,
   "metadata": {
    "ExecuteTime": {
     "end_time": "2018-08-06T22:06:47.829371Z",
     "start_time": "2018-08-06T22:06:47.823173Z"
    },
    "collapsed": true
   },
   "outputs": [],
   "source": [
    "fname = '/Users/mrizzo/Downloads/starshade_spinning_modern_cube_zodi1inc60dist10_rp0ab0mz0p00sl0lcs0st0_ap0_2025_0425_0552_nm_3mas_3nm_no_background.fits'"
   ]
  },
  {
   "cell_type": "code",
   "execution_count": 3,
   "metadata": {
    "ExecuteTime": {
     "end_time": "2018-08-06T22:06:48.560645Z",
     "start_time": "2018-08-06T22:06:47.834593Z"
    }
   },
   "outputs": [
    {
     "name": "stdout",
     "output_type": "stream",
     "text": [
      "(43, 501, 501)\n"
     ]
    }
   ],
   "source": [
    "data = fits.getdata(fname)\n",
    "data=np.swapaxes(data,0,1)\n",
    "print data.shape\n",
    "fits.writeto('/Users/mrizzo/Downloads/test_starshade.fits',data,overwrite=True)"
   ]
  },
  {
   "cell_type": "code",
   "execution_count": 4,
   "metadata": {
    "ExecuteTime": {
     "end_time": "2018-08-06T22:06:48.865442Z",
     "start_time": "2018-08-06T22:06:48.563785Z"
    }
   },
   "outputs": [
    {
     "data": {
      "text/plain": [
       "<matplotlib.colorbar.Colorbar at 0x118cdbd90>"
      ]
     },
     "execution_count": 4,
     "metadata": {},
     "output_type": "execute_result"
    },
    {
     "data": {
      "image/png": "[encoded data removed]",
      "text/plain": [
       "<matplotlib.figure.Figure at 0x110021a50>"
      ]
     },
     "metadata": {},
     "output_type": "display_data"
    }
   ],
   "source": [
    "plt.imshow(data[0])\n",
    "plt.colorbar(fraction=0.046, pad=0.04)\n"
   ]
  },
  {
   "cell_type": "code",
   "execution_count": 5,
   "metadata": {
    "ExecuteTime": {
     "end_time": "2018-08-06T22:06:48.877297Z",
     "start_time": "2018-08-06T22:06:48.868583Z"
    }
   },
   "outputs": [
    {
     "name": "stdout",
     "output_type": "stream",
     "text": [
      "6.7\n"
     ]
    }
   ],
   "source": [
    "sizepix_asec = 3e-3\n",
    "newsize = 0.0201\n",
    "div = newsize/sizepix_asec\n",
    "print div"
   ]
  },
  {
   "cell_type": "code",
   "execution_count": 6,
   "metadata": {
    "ExecuteTime": {
     "end_time": "2018-08-06T22:06:49.131101Z",
     "start_time": "2018-08-06T22:06:48.882935Z"
    },
    "collapsed": true
   },
   "outputs": [],
   "source": [
    "from crispy.tools.detutils import frebin\n",
    "newarray = []\n",
    "for i in range(data.shape[0]):\n",
    "    newarray.append(frebin(data[i],(int(data.shape[1]/div),int(data.shape[2]/div))))\n",
    "newarray = np.array(newarray)"
   ]
  },
  {
   "cell_type": "code",
   "execution_count": 7,
   "metadata": {
    "ExecuteTime": {
     "end_time": "2018-08-06T22:06:49.367025Z",
     "start_time": "2018-08-06T22:06:49.134841Z"
    }
   },
   "outputs": [
    {
     "data": {
      "text/plain": [
       "<matplotlib.colorbar.Colorbar at 0x182030d910>"
      ]
     },
     "execution_count": 7,
     "metadata": {},
     "output_type": "execute_result"
    },
    {
     "data": {
      "image/png": "[encoded data removed]",
      "text/plain": [
       "<matplotlib.figure.Figure at 0x1106c0190>"
      ]
     },
     "metadata": {},
     "output_type": "display_data"
    }
   ],
   "source": [
    "plt.imshow(newarray[0])\n",
    "plt.colorbar(fraction=0.046, pad=0.04)\n"
   ]
  },
  {
   "cell_type": "code",
   "execution_count": 8,
   "metadata": {
    "ExecuteTime": {
     "end_time": "2018-08-06T22:06:49.395243Z",
     "start_time": "2018-08-06T22:06:49.371185Z"
    }
   },
   "outputs": [
    {
     "data": {
      "text/plain": [
       "SIMPLE  =                    T / conforms to FITS standard                      \n",
       "BITPIX  =                    8 / array data type                                \n",
       "NAXIS   =                    0 / number of array dimensions                     \n",
       "EXTEND  =                    T                                                  \n",
       "COMMENT                                                                         \n",
       "COMMENT ************************************************************            \n",
       "COMMENT ********************** General parameters ******************            \n",
       "COMMENT ************************************************************            \n",
       "COMMENT                                                                         \n",
       "NLENS   =                  108 / # lenslets across array                        \n",
       "PITCH   =             0.000174 / Lenslet pitch (meters)                         \n",
       "INTERLAC=                    2 / Interlacing                                    \n",
       "PHILENS =    26.56505117707799 / Rotation angle of the lenslets (deg)           \n",
       "PIXSIZE =              1.3E-05 / Pixel size (meters)                            \n",
       "LENSAMP =                  0.5 / Lenslet sampling (lam/D)                       \n",
       "LSAMPWAV=                660.0 / Lenslet sampling wavelength (nm)               \n",
       "FWHM    =                  2.0 / FHWM of PSFLet at detector (pixels)            \n",
       "FWHMLAM =                660.0 / Wavelength at which FWHM is defined (nm)       \n",
       "NPIX    =                 1024 / Number of detector pixels                      \n",
       "BW      =                 0.21 / Bandwidth                                      \n",
       "PIXPRLAM=                  2.0 / Pixels per resolution element                  \n",
       "R       =                   50 / Spectral resolution                            "
      ]
     },
     "execution_count": 8,
     "metadata": {},
     "output_type": "execute_result"
    }
   ],
   "source": [
    "import os\n",
    "os.chdir('/Users/mrizzo/IFS/crispy/crispy/WFIRST_SC/')\n",
    "from params import Params\n",
    "par = Params()\n",
    "par.BW=0.21\n",
    "par.hdr"
   ]
  },
  {
   "cell_type": "code",
   "execution_count": 9,
   "metadata": {
    "ExecuteTime": {
     "end_time": "2018-08-06T22:06:49.456932Z",
     "start_time": "2018-08-06T22:06:49.400340Z"
    }
   },
   "outputs": [
    {
     "name": "stdout",
     "output_type": "stream",
     "text": [
      "(43, 498, 498)\n",
      "0.0731707317073\n",
      "[ 590.7  594.   597.3  600.6  603.9  607.2  610.5  613.8  617.1  620.4\n",
      "  623.7  627.   630.3  633.6  636.9  640.2  643.5  646.8  650.1  653.4\n",
      "  656.7  660.   663.3  666.6  669.9  673.2  676.5  679.8  683.1  686.4\n",
      "  689.7  693.   696.3  699.6  702.9  706.2  709.5  712.8  716.1  719.4\n",
      "  722.7  726.   729.3]\n"
     ]
    }
   ],
   "source": [
    "from crispy.tools.image import Image\n",
    "cube = fits.HDUList(fits.PrimaryHDU(data[:,:-3,:-3].astype(np.float32)))\n",
    "lamoD_asec = 0.041\n",
    "cube[0].data/= 3. # divide by 3nm to obtain a density\n",
    "print cube[0].data.shape\n",
    "cube[0].header['LAM_C'] = 0.66\n",
    "cube[0].header['PIXSIZE'] = sizepix_asec/lamoD_asec\n",
    "print cube[0].header['PIXSIZE']\n",
    "lams = np.linspace(660.-660.*par.BW/2.0,660.+660.*par.BW/2.0,cube[0].data.shape[0])\n",
    "print lams"
   ]
  },
  {
   "cell_type": "code",
   "execution_count": 10,
   "metadata": {
    "ExecuteTime": {
     "end_time": "2018-08-06T22:07:46.593864Z",
     "start_time": "2018-08-06T22:06:49.460099Z"
    }
   },
   "outputs": [
    {
     "name": "stdout",
     "output_type": "stream",
     "text": [
      "crispy - INFO - The number of input pixels per lenslet is 6.833333\n",
      "crispy - INFO - Using PSFlet gaussian approximation\n",
      "crispy - WARNING - Assuming slices are evenly spread in wavelengths\n",
      "crispy - INFO - Creating Gaussian PSFLet templates\n",
      "crispy - INFO - Writing data to ..//SimResults/imagePlaneRot.fits\n",
      "crispy - INFO - Writing data to ..//SimResults/detectorFrame.fits\n",
      "crispy - INFO - Done.\n",
      "crispy - INFO - Performance: 56 seconds total\n"
     ]
    }
   ],
   "source": [
    "from crispy.IFS import polychromeIFS\n",
    "detectorFrame = polychromeIFS(par,lams,cube[0],parallel=True,QE=True)"
   ]
  },
  {
   "cell_type": "code",
   "execution_count": 12,
   "metadata": {
    "ExecuteTime": {
     "end_time": "2018-08-06T22:08:35.931022Z",
     "start_time": "2018-08-06T22:08:32.621524Z"
    }
   },
   "outputs": [
    {
     "name": "stdout",
     "output_type": "stream",
     "text": [
      "crispy - INFO - Mean, median, std: (1.2841185235129132e-09, 1.788537796799179e-49, 5.0599197969525661e-09)\n",
      "crispy - INFO - Reduced cube will have 21 wavelength bins\n",
      "crispy - INFO - Elapsed time: 3.297973s\n"
     ]
    }
   ],
   "source": [
    "from crispy.IFS import reduceIFSMap\n",
    "reduced = reduceIFSMap(par,detectorFrame,\n",
    "                       name = 'starshade',\n",
    "                        method='optext',\n",
    "                        smoothbad=False,\n",
    "                        pixnoise=0,\n",
    "                        fitbkgnd=False,\n",
    "                        medsub=False,\n",
    "                        gain=1.0,\n",
    "                        niter=3\n",
    "                       )"
   ]
  }
 ],
 "metadata": {
  "kernelspec": {
   "display_name": "Python 2",
   "language": "python",
   "name": "python2"
  },
  "language_info": {
   "codemirror_mode": {
    "name": "ipython",
    "version": 2
   },
   "file_extension": ".py",
   "mimetype": "text/x-python",
   "name": "python",
   "nbconvert_exporter": "python",
   "pygments_lexer": "ipython2",
   "version": "2.7.14"
  },
  "latex_envs": {
   "LaTeX_envs_menu_present": true,
   "autoclose": false,
   "autocomplete": true,
   "bibliofile": "biblio.bib",
   "cite_by": "apalike",
   "current_citInitial": 1,
   "eqLabelWithNumbers": true,
   "eqNumInitial": 1,
   "hotkeys": {
    "equation": "Ctrl-E",
    "itemize": "Ctrl-I"
   },
   "labels_anchors": false,
   "latex_user_defs": false,
   "report_style_numbering": false,
   "user_envs_cfg": false
  },
  "toc": {
   "nav_menu": {},
   "number_sections": true,
   "sideBar": true,
   "skip_h1_title": false,
   "title_cell": "Table of Contents",
   "title_sidebar": "Contents",
   "toc_cell": false,
   "toc_position": {},
   "toc_section_display": true,
   "toc_window_display": true
  },
  "varInspector": {
   "cols": {
    "lenName": 16,
    "lenType": 16,
    "lenVar": 40
   },
   "kernels_config": {
    "python": {
     "delete_cmd_postfix": "",
     "delete_cmd_prefix": "del ",
     "library": "var_list.py",
     "varRefreshCmd": "print(var_dic_list())"
    },
    "r": {
     "delete_cmd_postfix": ") ",
     "delete_cmd_prefix": "rm(",
     "library": "var_list.r",
     "varRefreshCmd": "cat(var_dic_list()) "
    }
   },
   "types_to_exclude": [
    "module",
    "function",
    "builtin_function_or_method",
    "instance",
    "_Feature"
   ],
   "window_display": false
  }
 },
 "nbformat": 4,
 "nbformat_minor": 2
}
