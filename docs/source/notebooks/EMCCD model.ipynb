{
 "cells": [
  {
   "cell_type": "code",
   "execution_count": 1,
   "metadata": {
    "ExecuteTime": {
     "end_time": "2018-05-21T11:18:34.291137Z",
     "start_time": "2018-05-21T11:18:32.664741Z"
    }
   },
   "outputs": [
    {
     "name": "stdout",
     "output_type": "stream",
     "text": [
      "Populating the interactive namespace from numpy and matplotlib\n"
     ]
    }
   ],
   "source": [
    "%pylab inline --no-import-all\n",
    "plt.rc('font', family='serif', serif='Times', size=15)\n",
    "plt.rc('text', usetex=True)\n",
    "plt.rc('xtick', labelsize=20)\n",
    "plt.rc('xtick.major', size=10)\n",
    "plt.rc('ytick.major', size=10)\n",
    "plt.rc('ytick', labelsize=20)\n",
    "plt.rc('axes', labelsize=20)\n",
    "plt.rc('figure', titlesize=25)\n",
    "plt.rcParams['image.origin'] = 'lower'\n",
    "plt.rcParams['image.interpolation'] = 'nearest'\n",
    "plt.rcParams['axes.linewidth'] = 2.\n",
    "from astropy.io import fits"
   ]
  },
  {
   "cell_type": "raw",
   "metadata": {
    "ExecuteTime": {
     "end_time": "2018-03-28T00:56:47.876989Z",
     "start_time": "2018-03-28T00:56:47.576659Z"
    }
   },
   "source": [
    "import math\n",
    "\n",
    "\n",
    "def mkemccd(modeln,\n",
    "            gain=5000.,\n",
    "            dark=0.5,\n",
    "            cic=0.01,\n",
    "            readn=99,\n",
    "            crrate=5.,\n",
    "            HPrate=3.,\n",
    "            frmt=100.,\n",
    "            yrs=3,\n",
    "            transpose=True,\n",
    "            debug=False,\n",
    "            verbose=False):\n",
    "    ''' EMCCD noise generator based on Patrick's IDL code\n",
    "    '''\n",
    "\n",
    "    # whole array including overscan\n",
    "#     xs = 2144\n",
    "#     ys = 1137\n",
    "    xs = 450\n",
    "    ys = 250\n",
    "\n",
    "    # size of image area\n",
    "    if transpose: data = fits.getdata(modeln).T\n",
    "        \n",
    "#     xi = 1024\n",
    "#     yi = 1024\n",
    "    yi,xi = data.shape\n",
    "    \n",
    "#     fudge = 100\n",
    "\n",
    "    ##########################################################################################\n",
    "    # Dark current\n",
    "    ##########################################################################################\n",
    "    if verbose:\n",
    "        print(\"Dark current image\")\n",
    "    dkimg = np.zeros((yi, xi), dtype=np.float)\n",
    "    ndark = np.round(dark/3600.*frmt*xi*yi).astype(int)\n",
    "    x0 = np.random.randint(0, xi, ndark)\n",
    "    y0 = np.random.randint(0, yi, ndark)\n",
    "    dkimg[y0, x0] += 1.\n",
    "\n",
    "    ##########################################################################################\n",
    "    # Clock-Induced Charge\n",
    "    ##########################################################################################\n",
    "    if verbose:\n",
    "        print(\"CIC image\")\n",
    "    cicimg = np.zeros((ys, xs), dtype=np.float)\n",
    "    ncic = np.round(cic*xs*ys).astype(int)\n",
    "    x0 = np.random.randint(0, xs, ncic)\n",
    "    y0 = np.random.randint(0, ys, ncic)\n",
    "    cicimg[y0, x0] += 1\n",
    "\n",
    "    ##########################################################################################\n",
    "    # Hot pixels\n",
    "    ##########################################################################################\n",
    "    if verbose:\n",
    "        print(\"Hot pixels image\")\n",
    "    hpimg = np.zeros(xi*yi, dtype=np.float)\n",
    "    if yrs != 0:\n",
    "        hpmask = fits.getdata(\n",
    "            '/Users/mrizzo/IFS/mkemccd_v6_171207/emccd_hot_pixel_map_%dyr.fits' % np.round(yrs))\n",
    "        hpmask = np.reshape(hpmask[:yi,:xi],-1)\n",
    "        hpidx = np.array(np.where(hpmask > 0)[0])\n",
    "        hpidx = np.concatenate([hpidx, hpidx+1, hpidx+2, hpidx+3])\n",
    "        hpidx[hpidx > len(hpmask)] = len(hpmask)\n",
    "        nhpcnts = np.round(len(hpidx)*HPrate/3600.*frmt).astype(int)\n",
    "#         for i in range(nhpcnts.astype(int)):\n",
    "        idx1 = np.random.randint(0, len(hpidx), nhpcnts)\n",
    "        hpimg[hpidx[idx1]] += 1\n",
    "\n",
    "    hpimg = np.reshape(hpimg, (yi, xi))\n",
    "\n",
    "    ##########################################################################################\n",
    "    # Cosmic rays\n",
    "    ##########################################################################################\n",
    "    if verbose:\n",
    "        print(\"Cosmic ray image\")\n",
    "    crimg = np.zeros(xs*ys, dtype=np.float)\n",
    "    ncr = np.round(crrate*frmt*(xi*0.0013)*(yi*0.0013))\n",
    "    if ncr > 1:\n",
    "        toyx = np.arange(xs, dtype=np.float)\n",
    "        ncrpx = np.round(0.0323*gain+133.5)\n",
    "        ncrpxidx = np.where(toyx == ncrpx)[0][0]\n",
    "        # Empirical toy model\n",
    "        crtoy = 5e3*np.exp(-toyx/300.)+3e4*np.exp(-toyx/30.) + \\\n",
    "            1e4*np.exp(-toyx/15.)+3e5*np.exp(-toyx/5.)\n",
    "        # Scale to photon counting threshold\n",
    "        crtoy = crtoy/crtoy[ncrpxidx]*5.*readn\n",
    "        # Saturate leading pixels\n",
    "        crtoy[0:2] = 65536\n",
    "        # This is not Pythonized yet; I'd have to think about it a bit, but it should be possible\n",
    "        for i in range(ncr.astype(int)):\n",
    "            crx = np.random.randint(0, xi)\n",
    "            crx += xs-xi\n",
    "            cry = np.random.randint(0, yi)\n",
    "            cridx = cry*xs+crx\n",
    "            if cridx > len(crimg)-1-xs:\n",
    "                cridx = len(crimg)-1-xs\n",
    "            crimg[cridx:cridx+xs] = crtoy\n",
    "\n",
    "    crimg = np.reshape(crimg, (ys, xs))\n",
    "\n",
    "    ##########################################################################################\n",
    "    # Photon counts\n",
    "    ##########################################################################################\n",
    "    cpfcutoff = 1.0\n",
    "    pimg = np.reshape(data, -1)\n",
    "#     # do a bunch of verification on the input here\n",
    "#     pimgmin = np.amin(pimg[np.where(pimg > 0)])*frmt\n",
    "#     if pimgmin < cpfcutoff:\n",
    "#         faintidx = np.array(\n",
    "#             np.where((pimg*frmt > 0)*(pimg*frmt <= cpfcutoff))[0])\n",
    "#         pimgfaint = np.zeros(xi*yi, dtype=np.float)\n",
    "#         pimgfaint[faintidx] = pimg[faintidx]*frmt\n",
    "# #         pdist = np.zeros_like(pimgfaint,dtype=np.float)\n",
    "#         pdist = np.cumsum(pimgfaint)/pimgmin\n",
    "\n",
    "#     brightimg = np.zeros(xi*yi, dtype=np.float)\n",
    "#     faintimg = np.zeros(xi*yi, dtype=np.float)\n",
    "\n",
    "#     # bright pixels\n",
    "#     brightidx = np.array(np.where(pimg*frmt>cpfcutoff)[0])\n",
    "#     if len(brightidx)>0:\n",
    "#         brightimg[brightidx] = np.random.poisson(pimg[brightidx]*frmt)\n",
    "\n",
    "#     # faint pixels\n",
    "#     faintidx = np.array(\n",
    "#             np.where((pimg*frmt > 0)*(pimg*frmt <= cpfcutoff))[0])\n",
    "#     faintcpf = int(np.round(np.sum(pimg[faintidx])*frmt))\n",
    "\n",
    "    if verbose:\n",
    "        print(\"Photon counts image\")\n",
    "    phimg = np.reshape(np.random.poisson(pimg*frmt), (yi, xi))\n",
    "\n",
    "    ##########################################################################################\n",
    "    # Add components together\n",
    "    ##########################################################################################\n",
    "    imgsum = cicimg.copy()\n",
    "    imgsum[:yi,xs-xi:xs] += dkimg+hpimg+phimg\n",
    "\n",
    "    ##########################################################################################\n",
    "    # Gain register\n",
    "    ##########################################################################################\n",
    "    if verbose:\n",
    "        print(\"Gain image\")\n",
    "\n",
    "    gainimg = np.zeros((ys, xs), dtype=np.float)\n",
    "#     gainimg = np.zeros(xs*ys, dtype=np.float)\n",
    "#     imgsumnz = imgsum[imgsum > 0]\n",
    "#     countvals = imgsumnz[uniq(np.sort(imgsumnz))]\n",
    "#     x = 10.0**(np.arange(500.)/499.*5.0)\n",
    "#     dx = x*5.0/499.*np.log(10.0)\n",
    "\n",
    "#     for i in range(len(countvals)):\n",
    "#         n = np.float(countvals[i])\n",
    "#         npx = np.array(np.where(imgsum == n)[0])\n",
    "#         cpfbranch = 9.0\n",
    "#         if n < cpfbranch:\n",
    "#             phd = x**(n-1)*np.exp(-x/gain)/gain**n/math.factorial(n-1)\n",
    "#             phd *= dx\n",
    "#             phd /= np.sum(phd)*1e6\n",
    "#             phdc = np.cumsum(phd)\n",
    "\n",
    "#             r = np.random.rand(len(npx))*np.amax(phdc)\n",
    "#             for j in range(len(npx)):\n",
    "#                 done=0\n",
    "#                 idx=0\n",
    "#                 while not done:\n",
    "#                     df = phdc[idx] - r[j]\n",
    "#                     if df > 0: done=1\n",
    "#                     else: idx +=1\n",
    "#                 gainimg[npx[j]] = x[idx]\n",
    "#         else:\n",
    "#             gainimg[npx] = np.random.poisson(gain*n,len(npx))\n",
    "    EMmask = imgsum > 0\n",
    "    gainimg[EMmask] = np.random.gamma(\n",
    "        imgsum[EMmask], gain)\n",
    "\n",
    "    gainimg = np.reshape(gainimg, (ys, xs))\n",
    "    outimg = gainimg+crimg+np.random.normal(0.0, readn, (ys, xs))\n",
    "    if debug:\n",
    "        return outimg, gainimg, crimg, dkimg, hpimg, phimg\n",
    "    else:\n",
    "        return outimg"
   ]
  },
  {
   "cell_type": "code",
   "execution_count": 5,
   "metadata": {
    "ExecuteTime": {
     "end_time": "2018-03-28T17:36:22.285214Z",
     "start_time": "2018-03-28T17:36:22.127951Z"
    },
    "collapsed": true
   },
   "outputs": [],
   "source": [
    "def mkemccd(modeln,\n",
    "            gain=5000.,\n",
    "            dark=0.5,\n",
    "            cic=0.01,\n",
    "            readn=99,\n",
    "            crrate=5.,\n",
    "            HPrate=3.,\n",
    "            frmt=100.,\n",
    "            yrs=3,\n",
    "            xs=450,\n",
    "            ys=250,\n",
    "            transpose=False,\n",
    "            debug=False,\n",
    "            verbose=False):\n",
    "    ''' EMCCD noise generator based on Patrick's IDL code\n",
    "    \n",
    "    Parameters\n",
    "    ----------\n",
    "    modeln: string\n",
    "        Link to the input FITS file\n",
    "    gain: float\n",
    "        Gain of the multiplying register\n",
    "    dark: float\n",
    "        dark current\n",
    "    '''\n",
    "\n",
    "    # whole array including overscan\n",
    "#     xs = 2144\n",
    "#     ys = 1137\n",
    "#     xs = 450\n",
    "#     ys = 250\n",
    "\n",
    "    # size of image area\n",
    "    data = fits.getdata(modeln)\n",
    "    if transpose:\n",
    "        data = data.T\n",
    "\n",
    "    yi, xi = data.shape\n",
    "\n",
    "    ##########################################################################################\n",
    "    # Dark current\n",
    "    ##########################################################################################\n",
    "    if verbose:\n",
    "        print(\"Dark current image\")\n",
    "    dkimg = np.zeros((yi, xi), dtype=np.float)\n",
    "    ndark = np.round(dark/3600.*frmt*xi*yi).astype(int)\n",
    "    if verbose: print('{:} dark counts per exposure'.format(ndark))\n",
    "    x0 = np.random.randint(0, xi, ndark)\n",
    "    y0 = np.random.randint(0, yi, ndark)\n",
    "    dkimg[y0, x0] += 1\n",
    "\n",
    "    ##########################################################################################\n",
    "    # Clock-Induced Charge\n",
    "    ##########################################################################################\n",
    "    if verbose:\n",
    "        print(\"CIC image\")\n",
    "    cicimg = np.zeros((ys, xs), dtype=np.float)\n",
    "    ncic = np.round(cic*xs*ys).astype(int)\n",
    "    if verbose: print('{:} CIC counts per exposure'.format(ncic))\n",
    "    x0 = np.random.randint(0, xs, ncic)\n",
    "    y0 = np.random.randint(0, ys, ncic)\n",
    "    cicimg[y0, x0] += 1\n",
    "\n",
    "    ##########################################################################################\n",
    "    # Hot pixels\n",
    "    ##########################################################################################\n",
    "    if verbose:\n",
    "        print(\"Hot pixels image\")\n",
    "    hpimg = np.zeros(xi*yi, dtype=np.float)\n",
    "    if yrs != 0:\n",
    "        hpmask = fits.getdata(\n",
    "            '/Users/mrizzo/IFS/mkemccd_v6_171207/emccd_hot_pixel_map_%dyr.fits' % np.round(yrs))\n",
    "        hpmask = np.reshape(hpmask[:yi, :xi], -1)\n",
    "        hpidx = np.array(np.where(hpmask > 0)[0])\n",
    "        hpidx = np.concatenate([hpidx, hpidx+1, hpidx+2, hpidx+3])\n",
    "        hpidx[hpidx > len(hpmask)] = len(hpmask)\n",
    "        nhpcnts = np.round(len(hpidx)*HPrate/3600.*frmt).astype(int)\n",
    "        if verbose: print('{:} Hot pixel counts per exposure'.format(nhpcnts))\n",
    "        \n",
    "        idx1 = np.random.randint(0, len(hpidx), nhpcnts)\n",
    "        hpimg[hpidx[idx1]] += 1\n",
    "\n",
    "    hpimg = np.reshape(hpimg, (yi, xi))\n",
    "\n",
    "    ##########################################################################################\n",
    "    # Cosmic rays\n",
    "    ##########################################################################################\n",
    "    if verbose:\n",
    "        print(\"Cosmic ray image\")\n",
    "    crimg = np.zeros(xs*ys, dtype=np.float)\n",
    "    ncr = np.round(crrate*frmt*(xi*0.0013)*(yi*0.0013))\n",
    "    if verbose: print('{:} cosmic rays per exposure'.format(ncr))\n",
    "    if ncr > 1:\n",
    "        toyx = np.arange(xs, dtype=np.float)\n",
    "        ncrpx = np.round(0.0323*gain+133.5)\n",
    "        ncrpxidx = np.where(toyx == ncrpx)[0][0]\n",
    "        # Empirical toy model\n",
    "        crtoy = 5e3*np.exp(-toyx/300.)+3e4*np.exp(-toyx/30.) + \\\n",
    "            1e4*np.exp(-toyx/15.)+3e5*np.exp(-toyx/5.)\n",
    "        # Scale to photon counting threshold\n",
    "        crtoy = crtoy/crtoy[ncrpxidx]*5.*readn\n",
    "        # Saturate leading pixels\n",
    "        crtoy[0:2] = 65536\n",
    "        # This is not Pythonized yet; I'd have to think about it a bit, but it should be possible\n",
    "        for i in range(ncr.astype(int)):\n",
    "            crx = np.random.randint(0, xi)\n",
    "            crx += xs-xi\n",
    "            cry = np.random.randint(0, yi)\n",
    "            cridx = cry*xs+crx\n",
    "            if cridx > len(crimg)-1-xs:\n",
    "                cridx = len(crimg)-1-xs\n",
    "            crimg[cridx:cridx+xs] = crtoy\n",
    "\n",
    "    crimg = np.reshape(crimg, (ys, xs))\n",
    "\n",
    "    ##########################################################################################\n",
    "    # Photon counts\n",
    "    ##########################################################################################\n",
    "    if verbose:\n",
    "        print(\"Photon counts image\")\n",
    "    phimg = np.random.poisson(data*frmt)\n",
    "\n",
    "    ##########################################################################################\n",
    "    # Add components together\n",
    "    ##########################################################################################\n",
    "    imgsum = cicimg.copy()\n",
    "    imgsum[:yi, xs-xi:xs] += dkimg+hpimg+phimg\n",
    "\n",
    "    ##########################################################################################\n",
    "    # Gain register\n",
    "    ##########################################################################################\n",
    "    if verbose:\n",
    "        print(\"Gain image\")\n",
    "\n",
    "    gainimg = np.zeros((ys, xs), dtype=np.float)\n",
    "    EMmask = imgsum > 0\n",
    "    gainimg[EMmask] = np.random.gamma(\n",
    "        imgsum[EMmask], gain)\n",
    "\n",
    "    outimg = gainimg+crimg+np.random.normal(0.0, readn, (ys, xs))\n",
    "    if debug:\n",
    "        return outimg, gainimg, crimg, dkimg, hpimg, phimg\n",
    "    else:\n",
    "        return outimg"
   ]
  },
  {
   "cell_type": "code",
   "execution_count": null,
   "metadata": {
    "collapsed": true
   },
   "outputs": [],
   "source": []
  },
  {
   "cell_type": "code",
   "execution_count": 16,
   "metadata": {
    "ExecuteTime": {
     "end_time": "2018-03-26T18:36:22.655145Z",
     "start_time": "2018-03-26T18:36:22.632908Z"
    }
   },
   "outputs": [
    {
     "data": {
      "text/plain": [
       "1048576"
      ]
     },
     "execution_count": 16,
     "metadata": {},
     "output_type": "execute_result"
    }
   ],
   "source": [
    "yrs=3\n",
    "hpmask = fits.getdata('/Users/mrizzo/IFS/mkemccd_v6_171207/emccd_hot_pixel_map_%dyr.fits' % np.round(yrs))\n",
    "np.prod(hpmask.shape)"
   ]
  },
  {
   "cell_type": "code",
   "execution_count": 23,
   "metadata": {
    "ExecuteTime": {
     "end_time": "2018-03-26T18:50:50.786021Z",
     "start_time": "2018-03-26T18:50:50.774041Z"
    }
   },
   "outputs": [
    {
     "name": "stdout",
     "output_type": "stream",
     "text": [
      "(1048576,)\n",
      "62916\n",
      "10000 661616\n"
     ]
    }
   ],
   "source": [
    "xi = 1024\n",
    "yi = 1024\n",
    "hpidx = np.array(np.where(np.reshape(hpmask,-1)> 0)[0])\n",
    "print np.reshape(hpmask,-1).shape\n",
    "hpidx = np.concatenate([hpidx,hpidx+1,hpidx+2,hpidx+3])\n",
    "print len(hpidx)\n",
    "\n",
    "hpidx[hpidx>(xi-1)*(yi-1)] = (xi-1)*(yi-1)\n",
    "\n",
    "idx1 = 10000#np.random.randint(np.prod(hpidx.shape))\n",
    "print idx1,hpidx[idx1]"
   ]
  },
  {
   "cell_type": "code",
   "execution_count": 37,
   "metadata": {
    "ExecuteTime": {
     "end_time": "2018-03-26T19:07:22.441237Z",
     "start_time": "2018-03-26T19:07:22.435192Z"
    }
   },
   "outputs": [
    {
     "name": "stdout",
     "output_type": "stream",
     "text": [
      "295\n"
     ]
    }
   ],
   "source": [
    "xs = 2133\n",
    "gain=5000.\n",
    "toyx = np.arange(xs,dtype=np.float)\n",
    "ncrpx = np.round(0.0323*gain+133.5)\n",
    "ncrpxidx = np.where(toyx == ncrpx)[0][0]\n",
    "print ncrpxidx"
   ]
  },
  {
   "cell_type": "code",
   "execution_count": 40,
   "metadata": {
    "ExecuteTime": {
     "end_time": "2018-03-26T20:59:40.247530Z",
     "start_time": "2018-03-26T20:59:40.240702Z"
    }
   },
   "outputs": [
    {
     "name": "stdout",
     "output_type": "stream",
     "text": [
      "[[0 1]\n",
      " [2 3]\n",
      " [4 5]\n",
      " [6 7]\n",
      " [8 9]]\n"
     ]
    }
   ],
   "source": [
    "a = np.arange(10)\n",
    "b = np.reshape(a,(5,2))\n",
    "print b"
   ]
  },
  {
   "cell_type": "code",
   "execution_count": 46,
   "metadata": {
    "ExecuteTime": {
     "end_time": "2018-03-26T21:10:57.381626Z",
     "start_time": "2018-03-26T21:10:57.360068Z"
    }
   },
   "outputs": [
    {
     "name": "stdout",
     "output_type": "stream",
     "text": [
      "1.15905e-06\n",
      "[ 7550  7551  7552 ..., 15098 15099 15100]\n"
     ]
    }
   ],
   "source": [
    "pimg = np.reshape(fits.getdata('/Users/mrizzo/IFS/mkemccd_v6_171207/speckles_phot_per_second.fits'),-1)\n",
    "pimgmin = np.amin(pimg[np.where(pimg>0)])\n",
    "print pimgmin\n",
    "frmt=100\n",
    "cpfcutoff=1\n",
    "faintidx = np.array(np.where((pimg*frmt > 0)*(pimg*frmt<=cpfcutoff))[0])\n",
    "print faintidx"
   ]
  },
  {
   "cell_type": "code",
   "execution_count": 51,
   "metadata": {
    "ExecuteTime": {
     "end_time": "2018-03-26T21:20:35.053480Z",
     "start_time": "2018-03-26T21:20:35.046807Z"
    }
   },
   "outputs": [
    {
     "name": "stdout",
     "output_type": "stream",
     "text": [
      "0\n"
     ]
    }
   ],
   "source": [
    "cpfcutoff=1000\n",
    "a = np.array(np.where(pimg*frmt>cpfcutoff)[0])\n",
    "print len(a)"
   ]
  },
  {
   "cell_type": "code",
   "execution_count": 58,
   "metadata": {
    "ExecuteTime": {
     "end_time": "2018-03-26T21:31:09.562019Z",
     "start_time": "2018-03-26T21:31:09.414068Z"
    }
   },
   "outputs": [
    {
     "name": "stdout",
     "output_type": "stream",
     "text": [
      "[ 8023  8024  8025 ..., 14624 14625 14626]\n"
     ]
    },
    {
     "data": {
      "text/plain": [
       "<matplotlib.image.AxesImage at 0x113a97d10>"
      ]
     },
     "execution_count": 58,
     "metadata": {},
     "output_type": "execute_result"
    },
    {
     "data": {
      "image/png": "[encoded data removed]",
      "text/plain": [
       "<matplotlib.figure.Figure at 0x109890390>"
      ]
     },
     "metadata": {},
     "output_type": "display_data"
    }
   ],
   "source": [
    "cpfcutoff=1\n",
    "brightidx = np.array(np.where(pimg*frmt>cpfcutoff)[0])\n",
    "print brightidx\n",
    "brightimg = np.zeros(150*150, dtype=np.float)\n",
    "brightimg[brightidx] = np.random.poisson(pimg[brightidx]*frmt)\n",
    "plt.imshow(np.reshape(brightimg,(150,150)))"
   ]
  },
  {
   "cell_type": "code",
   "execution_count": 62,
   "metadata": {
    "ExecuteTime": {
     "end_time": "2018-03-26T21:35:17.433653Z",
     "start_time": "2018-03-26T21:35:17.426145Z"
    }
   },
   "outputs": [
    {
     "name": "stdout",
     "output_type": "stream",
     "text": [
      "48\n"
     ]
    }
   ],
   "source": [
    "faintidx = np.array(\n",
    "        np.where((pimg*frmt > 0)*(pimg*frmt <= cpfcutoff))[0])\n",
    "faintcpf = int(np.round(np.sum(pimg[faintidx])*frmt))\n",
    "print faintcpf"
   ]
  },
  {
   "cell_type": "code",
   "execution_count": 128,
   "metadata": {
    "ExecuteTime": {
     "end_time": "2018-03-27T19:34:09.550618Z",
     "start_time": "2018-03-27T19:34:09.215387Z"
    }
   },
   "outputs": [
    {
     "name": "stdout",
     "output_type": "stream",
     "text": [
      "Dark current image\n",
      "CIC image\n",
      "Hot pixels image\n",
      "Cosmic ray image\n",
      "Photon counts image\n",
      "Gain image\n"
     ]
    }
   ],
   "source": [
    "outimg, gainimg, crimg, dkimg, hpimg, phimg = mkemccd(\n",
    "    '/Users/mrizzo/IFS/OS5_SIM_2.0_noiseless/average/average_target_star_detector.fits',\n",
    "    frmt=100,\n",
    "    crrate=5.)"
   ]
  },
  {
   "cell_type": "code",
   "execution_count": null,
   "metadata": {
    "collapsed": true
   },
   "outputs": [],
   "source": []
  },
  {
   "cell_type": "code",
   "execution_count": 129,
   "metadata": {
    "ExecuteTime": {
     "end_time": "2018-03-27T19:34:11.124110Z",
     "start_time": "2018-03-27T19:34:10.992565Z"
    },
    "collapsed": true
   },
   "outputs": [],
   "source": [
    "out = fits.HDUList(fits.PrimaryHDU(outimg.astype(np.float32)))\n",
    "out.writeto('/Users/mrizzo/Downloads/outimg.fits',overwrite=True)\n",
    "out = fits.HDUList(fits.PrimaryHDU(crimg.astype(np.float32)))\n",
    "out.writeto('/Users/mrizzo/Downloads/crimg.fits',overwrite=True)\n",
    "out = fits.HDUList(fits.PrimaryHDU(phimg.astype(np.float32)))\n",
    "out.writeto('/Users/mrizzo/Downloads/phimg.fits',overwrite=True)\n",
    "out = fits.HDUList(fits.PrimaryHDU(dkimg.astype(np.float32)))\n",
    "out.writeto('/Users/mrizzo/Downloads/dkimg.fits',overwrite=True)\n",
    "out = fits.HDUList(fits.PrimaryHDU(hpimg.astype(np.float32)))\n",
    "out.writeto('/Users/mrizzo/Downloads/hpimg.fits',overwrite=True)\n",
    "# data = fits.getdata('/Users/mrizzo/IFS/OS5_SIM_2.0_noiseless/average/average_target_star_detector.fits')\n",
    "# out = fits.HDUList(fits.PrimaryHDU(data.astype(np.float32)))\n",
    "# out.writeto('/Users/mrizzo/Downloads/data.fits')\n"
   ]
  },
  {
   "cell_type": "code",
   "execution_count": 20,
   "metadata": {
    "ExecuteTime": {
     "end_time": "2018-05-21T11:27:04.278917Z",
     "start_time": "2018-05-21T11:26:51.417899Z"
    }
   },
   "outputs": [
    {
     "name": "stdout",
     "output_type": "stream",
     "text": [
      "0\n",
      "100\n",
      "200\n",
      "300\n",
      "400\n",
      "500\n",
      "600\n",
      "700\n",
      "800\n",
      "900\n",
      "1000\n",
      "1100\n"
     ]
    }
   ],
   "source": [
    "# xs = 2144\n",
    "# ys = 1137\n",
    "xs = 450\n",
    "ys = 250\n",
    "analog = np.zeros((ys, xs), dtype=np.float)\n",
    "phcounting = np.zeros((ys, xs), dtype=np.float)\n",
    "for i in range(1200):\n",
    "#     img += mkemccd(\n",
    "#         '/Users/mrizzo/IFS/OS5_SIM_2.0_noiseless/average/average_target_star_detector.fits',crrate=5.)\n",
    "    if i%100==0: print(i)\n",
    "    img = mkemccd(\n",
    "        '/Users/mrizzo/IFS/mkemccd_v6_171207/speckles_phot_per_second.fits',verbose=False,gain=4000,readn=100,dark=0.5,yrs=4,frmt=72,crrate=5.,HPrate=3.)\n",
    "#     img = mkemccd(\n",
    "#         '/Users/mrizzo/IFS/OS5_SIM_2.0_noiseless/average/average_target_star_detector.fits',gain=5000,readn=100,dark=0.5,yrs=2,frmt=72,crrate=5.,HPrate=3.)\n",
    "    phcounting[img>500] += 1\n",
    "    analog += img\n",
    "out = fits.HDUList(fits.PrimaryHDU(analog.astype(np.float32)))\n",
    "out.writeto('/Users/mrizzo/Downloads/analog.fits',overwrite=True)\n",
    "out = fits.HDUList(fits.PrimaryHDU(phcounting.astype(np.float32)))\n",
    "out.writeto('/Users/mrizzo/Downloads/phcounting.fits',overwrite=True)\n",
    "    "
   ]
  },
  {
   "cell_type": "code",
   "execution_count": 28,
   "metadata": {
    "ExecuteTime": {
     "end_time": "2018-05-21T12:15:21.159043Z",
     "start_time": "2018-05-21T12:15:13.658109Z"
    }
   },
   "outputs": [
    {
     "name": "stdout",
     "output_type": "stream",
     "text": [
      "Number of reads: 1200\n",
      "227 dark counts per exposure\n",
      "1125 CIC counts per exposure\n",
      "14 cosmic rays per exposure\n",
      "107 hot pixel counts per exposure\n"
     ]
    }
   ],
   "source": [
    "from crispy.tools.detector import readoutPhotonFluxMapWFIRST as readoutWFIRST\n",
    "data = fits.getdata('/Users/mrizzo/IFS/mkemccd_v6_171207/speckles_phot_per_second.fits')\n",
    "xs = 450\n",
    "ys = 250\n",
    "analog = np.zeros((ys, xs), dtype=np.float)\n",
    "phcounting = np.zeros((ys, xs), dtype=np.float)\n",
    "\n",
    "img = readoutWFIRST(\n",
    "    data,\n",
    "    tottime=24.*3600.,\n",
    "    inttime=72.,\n",
    "    QE=1.0,\n",
    "    darkBOL=1.4e-4,\n",
    "    darkEOL=1.4e-4,#2.8e-4,\n",
    "    CIC=1e-2,\n",
    "    eff=1.0,\n",
    "    EMGain=4000.,\n",
    "    RN=100.0,\n",
    "    PCbias=0.0,\n",
    "    crrate=5.0, # per active area per second\n",
    "    hprate=3.0,\n",
    "    threshold=5.,\n",
    "    lifefraction=0.8,\n",
    "    dqeKnee=1.,#0.858,\n",
    "    dqeFluxSlope=0.0,\n",
    "    dqeKneeFlux=0.089,\n",
    "    xs=xs,\n",
    "    ys=ys,\n",
    "    transpose=False,\n",
    "    returnFullFrame=False,\n",
    "    nonoise=False,\n",
    "    poisson=True,\n",
    "    EMStats=True,\n",
    "    PCmode=False,\n",
    "    PCcorrect=False,\n",
    "    verbose=True)"
   ]
  },
  {
   "cell_type": "code",
   "execution_count": 29,
   "metadata": {
    "ExecuteTime": {
     "end_time": "2018-05-21T12:15:26.014547Z",
     "start_time": "2018-05-21T12:15:25.380041Z"
    }
   },
   "outputs": [],
   "source": [
    "fits.writeto('/Users/mrizzo/Downloads/img.fits',img*4000.,overwrite=True)\n",
    "# out = fits.HDUList(fits.PrimaryHDU(phcounting.astype(np.float32)))\n",
    "# out.writeto('/Users/mrizzo/Downloads/phcounting.fits',overwrite=True)\n"
   ]
  },
  {
   "cell_type": "code",
   "execution_count": 30,
   "metadata": {
    "ExecuteTime": {
     "end_time": "2018-05-21T12:15:27.533175Z",
     "start_time": "2018-05-21T12:15:27.437622Z"
    },
    "collapsed": true
   },
   "outputs": [],
   "source": [
    "fits.writeto('/Users/mrizzo/Downloads/imgmean.fits',np.sum(img,axis=0)*4000.,overwrite=True)\n"
   ]
  },
  {
   "cell_type": "code",
   "execution_count": 17,
   "metadata": {
    "ExecuteTime": {
     "end_time": "2018-05-21T11:22:49.070669Z",
     "start_time": "2018-05-21T11:22:49.039934Z"
    },
    "collapsed": true
   },
   "outputs": [],
   "source": [
    "from crispy.tools.detector import mkemccd\n",
    "\n",
    "img2 = mkemccd(\n",
    "    '/Users/mrizzo/IFS/mkemccd_v6_171207/speckles_phot_per_second.fits',gain=4000,readn=100,dark=0.5,yrs=4,frmt=100,crrate=5.,HPrate=3.)\n",
    "out = fits.HDUList(fits.PrimaryHDU(img2.astype(np.float32)))\n",
    "out.writeto('/Users/mrizzo/Downloads/img2.fits',overwrite=True)\n"
   ]
  }
 ],
 "metadata": {
  "kernelspec": {
   "display_name": "Python 2",
   "language": "python",
   "name": "python2"
  },
  "language_info": {
   "codemirror_mode": {
    "name": "ipython",
    "version": 2
   },
   "file_extension": ".py",
   "mimetype": "text/x-python",
   "name": "python",
   "nbconvert_exporter": "python",
   "pygments_lexer": "ipython2",
   "version": "2.7.14"
  },
  "latex_envs": {
   "LaTeX_envs_menu_present": true,
   "autoclose": false,
   "autocomplete": true,
   "bibliofile": "biblio.bib",
   "cite_by": "apalike",
   "current_citInitial": 1,
   "eqLabelWithNumbers": true,
   "eqNumInitial": 1,
   "hotkeys": {
    "equation": "Ctrl-E",
    "itemize": "Ctrl-I"
   },
   "labels_anchors": false,
   "latex_user_defs": false,
   "report_style_numbering": false,
   "user_envs_cfg": false
  },
  "toc": {
   "nav_menu": {},
   "number_sections": true,
   "sideBar": true,
   "skip_h1_title": false,
   "title_cell": "Table of Contents",
   "title_sidebar": "Contents",
   "toc_cell": false,
   "toc_position": {},
   "toc_section_display": true,
   "toc_window_display": true
  },
  "varInspector": {
   "cols": {
    "lenName": 16,
    "lenType": 16,
    "lenVar": 40
   },
   "kernels_config": {
    "python": {
     "delete_cmd_postfix": "",
     "delete_cmd_prefix": "del ",
     "library": "var_list.py",
     "varRefreshCmd": "print(var_dic_list())"
    },
    "r": {
     "delete_cmd_postfix": ") ",
     "delete_cmd_prefix": "rm(",
     "library": "var_list.r",
     "varRefreshCmd": "cat(var_dic_list()) "
    }
   },
   "types_to_exclude": [
    "module",
    "function",
    "builtin_function_or_method",
    "instance",
    "_Feature"
   ],
   "window_display": false
  }
 },
 "nbformat": 4,
 "nbformat_minor": 2
}
