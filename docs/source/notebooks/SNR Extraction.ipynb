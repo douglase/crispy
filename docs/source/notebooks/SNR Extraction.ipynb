{
 "cells": [
  {
   "cell_type": "code",
   "execution_count": 160,
   "metadata": {},
   "outputs": [
    {
     "name": "stdout",
     "output_type": "stream",
     "text": [
      "Populating the interactive namespace from numpy and matplotlib\n"
     ]
    },
    {
     "data": {
      "text/plain": [
       "SIMPLE  =                    T / conforms to FITS standard                      \n",
       "BITPIX  =                    8 / array data type                                \n",
       "NAXIS   =                    0 / number of array dimensions                     \n",
       "EXTEND  =                    T                                                  \n",
       "COMMENT                                                                         \n",
       "COMMENT ************************************************************            \n",
       "COMMENT ********************** General parameters ******************            \n",
       "COMMENT ************************************************************            \n",
       "COMMENT                                                                         \n",
       "NLENS   =                  108 / # lenslets across array                        \n",
       "PITCH   =             0.000174 / Lenslet pitch (meters)                         \n",
       "INTERLAC=                  2.0 / Interlacing                                    \n",
       "PHILENS =    26.56505117707799 / Rotation angle of the lenslets (deg)           \n",
       "PIXSIZE =              1.3E-05 / Pixel size (meters)                            \n",
       "LENSAMP =                  0.5 / Lenslet sampling (lam/D)                       \n",
       "LSAMPWAV=                660.0 / Lenslet sampling wavelength (nm)               \n",
       "FWHM    =                  2.0 / FHWM of PSFLet at detector (pixels)            \n",
       "FWHMLAM =                660.0 / Wavelength at which FWHM is defined (nm)       \n",
       "NPIX    =                 1024 / Number of detector pixels                      \n",
       "BW      =                 0.18 / Bandwidth                                      \n",
       "PIXPRLAM=                  2.0 / Pixels per resolution element                  \n",
       "R       =                   50 / Spectral resolution                            "
      ]
     },
     "execution_count": 160,
     "metadata": {},
     "output_type": "execute_result"
    }
   ],
   "source": [
    "import numpy as np\n",
    "import glob,os\n",
    "%pylab inline --no-import-all\n",
    "plt.rc('font', family='serif', serif='Times',size=15)\n",
    "plt.rc('text', usetex=True)\n",
    "plt.rc('xtick', labelsize=20)\n",
    "plt.rc('xtick.major', size=10)\n",
    "plt.rc('ytick.major', size=10)\n",
    "plt.rc('ytick', labelsize=20)\n",
    "plt.rc('axes', labelsize=20)\n",
    "plt.rc('figure',titlesize=25)\n",
    "plt.rcParams['image.origin'] = 'lower'\n",
    "plt.rcParams['image.interpolation'] = 'nearest'\n",
    "plt.rcParams['axes.linewidth'] = 2.\n",
    "from astropy.io import fits\n",
    "\n",
    "import logging as log\n",
    "from crispy.tools.initLogger import getLogger\n",
    "log = getLogger('main')\n",
    "from crispy.tools.image import Image\n",
    "os.chdir('/Users/mrizzo/IFS/crispy/crispy/WFIRST/')\n",
    "from params import Params\n",
    "par = Params()\n",
    "par.hdr"
   ]
  },
  {
   "cell_type": "code",
   "execution_count": 3,
   "metadata": {},
   "outputs": [
    {
     "name": "stdout",
     "output_type": "stream",
     "text": [
      "crispy - INFO - Read data from HDU 0 of ..//ReferenceFiles/wavecalR50_660/polychromeR50stack.fits\n"
     ]
    }
   ],
   "source": [
    "lensX=10\n",
    "lensY=10\n",
    "\n",
    "from crispy.tools.locate_psflets import PSFLets\n",
    "from crispy.tools.reduction import get_cutout\n",
    "polychromeR = fits.open(par.wavecalDir + 'polychromeR%d.fits' % (par.R))\n",
    "psflets = polychromeR[0].data\n",
    "psftool = PSFLets()\n",
    "lamlist = np.loadtxt(par.wavecalDir + \"lamsol.dat\")[:, 0]\n",
    "allcoef = np.loadtxt(par.wavecalDir + \"lamsol.dat\")[:, 1:]\n",
    "\n",
    "# lam in nm\n",
    "psftool.geninterparray(lamlist, allcoef)\n",
    "\n",
    "xlist = []\n",
    "ylist = []\n",
    "for lam in lamlist:\n",
    "    _x,_y = psftool.return_locations(lam, allcoef, lensX, lensY)\n",
    "    xlist += [_x]    \n",
    "    ylist += [_y]    \n",
    "\n",
    "im = Image(filename = par.wavecalDir + 'polychromeR%dstack.fits' % (par.R))\n",
    "subim, psflet_subarr, [x0, x1, y0, y1] = get_cutout(im,xlist,ylist,psflets)\n"
   ]
  },
  {
   "cell_type": "code",
   "execution_count": 4,
   "metadata": {},
   "outputs": [
    {
     "data": {
      "text/plain": [
       "<matplotlib.colorbar.Colorbar at 0x1c1e69f450>"
      ]
     },
     "execution_count": 4,
     "metadata": {},
     "output_type": "execute_result"
    },
    {
     "data": {
      "image/png": "[encoded data removed]",
      "text/plain": [
       "<matplotlib.figure.Figure at 0x10e789310>"
      ]
     },
     "metadata": {},
     "output_type": "display_data"
    }
   ],
   "source": [
    "plt.imshow(subim)\n",
    "plt.colorbar(orientation='horizontal')"
   ]
  },
  {
   "cell_type": "code",
   "execution_count": 5,
   "metadata": {},
   "outputs": [
    {
     "name": "stdout",
     "output_type": "stream",
     "text": [
      "119.967\n"
     ]
    }
   ],
   "source": [
    "print np.sum(subim)"
   ]
  },
  {
   "cell_type": "code",
   "execution_count": 6,
   "metadata": {},
   "outputs": [
    {
     "data": {
      "image/png": "[encoded data removed]",
      "text/plain": [
       "<matplotlib.figure.Figure at 0x1c12b07bd0>"
      ]
     },
     "metadata": {},
     "output_type": "display_data"
    }
   ],
   "source": [
    "plt.imshow(psflet_subarr[0])\n",
    "for i in range(psflet_subarr.shape[0]):\n",
    "    psflet_subarr[i] /= np.sum(psflet_subarr[i])"
   ]
  },
  {
   "cell_type": "code",
   "execution_count": 7,
   "metadata": {},
   "outputs": [
    {
     "name": "stdout",
     "output_type": "stream",
     "text": [
      "9.63189459363\n"
     ]
    }
   ],
   "source": [
    "print 1./np.sum(psflet_subarr[0]**2)"
   ]
  },
  {
   "cell_type": "code",
   "execution_count": 8,
   "metadata": {},
   "outputs": [
    {
     "name": "stdout",
     "output_type": "stream",
     "text": [
      "10.0\n"
     ]
    },
    {
     "data": {
      "image/png": "[encoded data removed]",
      "text/plain": [
       "<matplotlib.figure.Figure at 0x1c1e79c310>"
      ]
     },
     "metadata": {},
     "output_type": "display_data"
    }
   ],
   "source": [
    "subim = np.sum(psflet_subarr,axis=0)\n",
    "plt.imshow(subim)\n",
    "plt.colorbar(orientation='horizontal')\n",
    "print np.sum(subim)"
   ]
  },
  {
   "cell_type": "code",
   "execution_count": 281,
   "metadata": {},
   "outputs": [
    {
     "data": {
      "text/plain": [
       "0.19446558720480406"
      ]
     },
     "execution_count": 281,
     "metadata": {},
     "output_type": "execute_result"
    }
   ],
   "source": []
  },
  {
   "cell_type": "code",
   "execution_count": 176,
   "metadata": {
    "collapsed": true
   },
   "outputs": [],
   "source": [
    "Nelec = 1000\n",
    "poisson = np.random.poisson(subim*Nelec)"
   ]
  },
  {
   "cell_type": "code",
   "execution_count": 183,
   "metadata": {},
   "outputs": [
    {
     "data": {
      "text/plain": [
       "<matplotlib.image.AxesImage at 0x1c251633d0>"
      ]
     },
     "execution_count": 183,
     "metadata": {},
     "output_type": "execute_result"
    },
    {
     "data": {
      "image/png": "[encoded data removed]",
      "text/plain": [
       "<matplotlib.figure.Figure at 0x1c243f21d0>"
      ]
     },
     "metadata": {},
     "output_type": "display_data"
    }
   ],
   "source": [
    "plt.imshow(poisson)\n",
    "plt.colorbar(orientation='horizontal')\n",
    "plt.imshow(subim*Nelec)"
   ]
  },
  {
   "cell_type": "code",
   "execution_count": 177,
   "metadata": {},
   "outputs": [
    {
     "data": {
      "text/plain": [
       "[<matplotlib.lines.Line2D at 0x1c24186510>]"
      ]
     },
     "execution_count": 177,
     "metadata": {},
     "output_type": "execute_result"
    },
    {
     "data": {
      "image/png": "[encoded data removed]",
      "text/plain": [
       "<matplotlib.figure.Figure at 0x1c247ac110>"
      ]
     },
     "metadata": {},
     "output_type": "display_data"
    }
   ],
   "source": [
    "from crispy.IFS import reduceIFSMap\n",
    "subim_flat = np.reshape(poisson, -1)\n",
    "psflets_flat = np.reshape(psflet_subarr, (psflet_subarr.shape[0], -1))\n",
    "coef = np.linalg.lstsq(psflets_flat.T, subim_flat)[0]\n",
    "plt.plot(coef)"
   ]
  },
  {
   "cell_type": "code",
   "execution_count": 163,
   "metadata": {},
   "outputs": [
    {
     "name": "stdout",
     "output_type": "stream",
     "text": [
      "[ 1029.07494861   879.24787784  1033.37495909  1000.32638945  1011.97641341\n",
      "  1087.82293205   897.36978627  1060.88131053  1016.17029911   975.87481607]\n",
      "[ 1029.07494861   879.24787784  1033.37495909  1000.32638945  1011.97641341\n",
      "  1087.82293205   897.36978627  1060.88131053  1016.17029911   975.87481607]\n"
     ]
    },
    {
     "data": {
      "text/html": [
       "<div>\n",
       "<style scoped>\n",
       "    .dataframe tbody tr th:only-of-type {\n",
       "        vertical-align: middle;\n",
       "    }\n",
       "\n",
       "    .dataframe tbody tr th {\n",
       "        vertical-align: top;\n",
       "    }\n",
       "\n",
       "    .dataframe thead th {\n",
       "        text-align: right;\n",
       "    }\n",
       "</style>\n",
       "<table border=\"1\" class=\"dataframe\">\n",
       "  <thead>\n",
       "    <tr style=\"text-align: right;\">\n",
       "      <th></th>\n",
       "      <th>0</th>\n",
       "      <th>1</th>\n",
       "      <th>2</th>\n",
       "      <th>3</th>\n",
       "      <th>4</th>\n",
       "      <th>5</th>\n",
       "      <th>6</th>\n",
       "      <th>7</th>\n",
       "      <th>8</th>\n",
       "      <th>9</th>\n",
       "    </tr>\n",
       "  </thead>\n",
       "  <tbody>\n",
       "    <tr>\n",
       "      <th>0</th>\n",
       "      <td>1.038217e-01</td>\n",
       "      <td>3.781686e-02</td>\n",
       "      <td>1.840839e-03</td>\n",
       "      <td>1.013038e-05</td>\n",
       "      <td>8.652204e-09</td>\n",
       "      <td>4.499302e-08</td>\n",
       "      <td>2.484550e-07</td>\n",
       "      <td>2.281947e-07</td>\n",
       "      <td>8.982292e-08</td>\n",
       "      <td>2.520272e-07</td>\n",
       "    </tr>\n",
       "    <tr>\n",
       "      <th>1</th>\n",
       "      <td>3.781686e-02</td>\n",
       "      <td>1.018298e-01</td>\n",
       "      <td>3.907701e-02</td>\n",
       "      <td>2.134296e-03</td>\n",
       "      <td>1.585353e-05</td>\n",
       "      <td>2.551539e-08</td>\n",
       "      <td>6.033666e-08</td>\n",
       "      <td>2.579995e-07</td>\n",
       "      <td>3.781318e-07</td>\n",
       "      <td>1.250960e-07</td>\n",
       "    </tr>\n",
       "    <tr>\n",
       "      <th>2</th>\n",
       "      <td>1.840839e-03</td>\n",
       "      <td>3.907701e-02</td>\n",
       "      <td>9.909606e-02</td>\n",
       "      <td>4.004341e-02</td>\n",
       "      <td>2.592649e-03</td>\n",
       "      <td>2.970352e-05</td>\n",
       "      <td>5.567989e-08</td>\n",
       "      <td>4.694419e-08</td>\n",
       "      <td>3.752633e-07</td>\n",
       "      <td>5.447811e-07</td>\n",
       "    </tr>\n",
       "    <tr>\n",
       "      <th>3</th>\n",
       "      <td>1.013038e-05</td>\n",
       "      <td>2.134296e-03</td>\n",
       "      <td>4.004341e-02</td>\n",
       "      <td>9.722045e-02</td>\n",
       "      <td>4.058052e-02</td>\n",
       "      <td>3.158885e-03</td>\n",
       "      <td>4.540734e-05</td>\n",
       "      <td>1.168523e-07</td>\n",
       "      <td>5.635559e-08</td>\n",
       "      <td>4.599480e-07</td>\n",
       "    </tr>\n",
       "    <tr>\n",
       "      <th>4</th>\n",
       "      <td>8.652204e-09</td>\n",
       "      <td>1.585353e-05</td>\n",
       "      <td>2.592649e-03</td>\n",
       "      <td>4.058052e-02</td>\n",
       "      <td>9.465773e-02</td>\n",
       "      <td>4.112732e-02</td>\n",
       "      <td>3.674209e-03</td>\n",
       "      <td>6.368950e-05</td>\n",
       "      <td>2.097110e-07</td>\n",
       "      <td>7.582652e-08</td>\n",
       "    </tr>\n",
       "    <tr>\n",
       "      <th>5</th>\n",
       "      <td>4.499302e-08</td>\n",
       "      <td>2.551539e-08</td>\n",
       "      <td>2.970352e-05</td>\n",
       "      <td>3.158885e-03</td>\n",
       "      <td>4.112732e-02</td>\n",
       "      <td>9.028060e-02</td>\n",
       "      <td>4.157850e-02</td>\n",
       "      <td>4.249863e-03</td>\n",
       "      <td>9.927493e-05</td>\n",
       "      <td>4.333803e-07</td>\n",
       "    </tr>\n",
       "    <tr>\n",
       "      <th>6</th>\n",
       "      <td>2.484550e-07</td>\n",
       "      <td>6.033666e-08</td>\n",
       "      <td>5.567989e-08</td>\n",
       "      <td>4.540734e-05</td>\n",
       "      <td>3.674209e-03</td>\n",
       "      <td>4.157850e-02</td>\n",
       "      <td>8.755923e-02</td>\n",
       "      <td>4.206276e-02</td>\n",
       "      <td>4.888705e-03</td>\n",
       "      <td>1.282256e-04</td>\n",
       "    </tr>\n",
       "    <tr>\n",
       "      <th>7</th>\n",
       "      <td>2.281947e-07</td>\n",
       "      <td>2.579995e-07</td>\n",
       "      <td>4.694419e-08</td>\n",
       "      <td>1.168523e-07</td>\n",
       "      <td>6.368950e-05</td>\n",
       "      <td>4.249863e-03</td>\n",
       "      <td>4.206276e-02</td>\n",
       "      <td>8.837557e-02</td>\n",
       "      <td>4.320411e-02</td>\n",
       "      <td>5.265365e-03</td>\n",
       "    </tr>\n",
       "    <tr>\n",
       "      <th>8</th>\n",
       "      <td>8.982292e-08</td>\n",
       "      <td>3.781318e-07</td>\n",
       "      <td>3.752633e-07</td>\n",
       "      <td>5.635559e-08</td>\n",
       "      <td>2.097110e-07</td>\n",
       "      <td>9.927493e-05</td>\n",
       "      <td>4.888705e-03</td>\n",
       "      <td>4.320411e-02</td>\n",
       "      <td>8.554713e-02</td>\n",
       "      <td>4.410052e-02</td>\n",
       "    </tr>\n",
       "    <tr>\n",
       "      <th>9</th>\n",
       "      <td>2.520272e-07</td>\n",
       "      <td>1.250960e-07</td>\n",
       "      <td>5.447811e-07</td>\n",
       "      <td>4.599480e-07</td>\n",
       "      <td>7.582652e-08</td>\n",
       "      <td>4.333803e-07</td>\n",
       "      <td>1.282256e-04</td>\n",
       "      <td>5.265365e-03</td>\n",
       "      <td>4.410052e-02</td>\n",
       "      <td>8.414933e-02</td>\n",
       "    </tr>\n",
       "  </tbody>\n",
       "</table>\n",
       "</div>"
      ],
      "text/plain": [
       "              0             1             2             3             4  \\\n",
       "0  1.038217e-01  3.781686e-02  1.840839e-03  1.013038e-05  8.652204e-09   \n",
       "1  3.781686e-02  1.018298e-01  3.907701e-02  2.134296e-03  1.585353e-05   \n",
       "2  1.840839e-03  3.907701e-02  9.909606e-02  4.004341e-02  2.592649e-03   \n",
       "3  1.013038e-05  2.134296e-03  4.004341e-02  9.722045e-02  4.058052e-02   \n",
       "4  8.652204e-09  1.585353e-05  2.592649e-03  4.058052e-02  9.465773e-02   \n",
       "5  4.499302e-08  2.551539e-08  2.970352e-05  3.158885e-03  4.112732e-02   \n",
       "6  2.484550e-07  6.033666e-08  5.567989e-08  4.540734e-05  3.674209e-03   \n",
       "7  2.281947e-07  2.579995e-07  4.694419e-08  1.168523e-07  6.368950e-05   \n",
       "8  8.982292e-08  3.781318e-07  3.752633e-07  5.635559e-08  2.097110e-07   \n",
       "9  2.520272e-07  1.250960e-07  5.447811e-07  4.599480e-07  7.582652e-08   \n",
       "\n",
       "              5             6             7             8             9  \n",
       "0  4.499302e-08  2.484550e-07  2.281947e-07  8.982292e-08  2.520272e-07  \n",
       "1  2.551539e-08  6.033666e-08  2.579995e-07  3.781318e-07  1.250960e-07  \n",
       "2  2.970352e-05  5.567989e-08  4.694419e-08  3.752633e-07  5.447811e-07  \n",
       "3  3.158885e-03  4.540734e-05  1.168523e-07  5.635559e-08  4.599480e-07  \n",
       "4  4.112732e-02  3.674209e-03  6.368950e-05  2.097110e-07  7.582652e-08  \n",
       "5  9.028060e-02  4.157850e-02  4.249863e-03  9.927493e-05  4.333803e-07  \n",
       "6  4.157850e-02  8.755923e-02  4.206276e-02  4.888705e-03  1.282256e-04  \n",
       "7  4.249863e-03  4.206276e-02  8.837557e-02  4.320411e-02  5.265365e-03  \n",
       "8  9.927493e-05  4.888705e-03  4.320411e-02  8.554713e-02  4.410052e-02  \n",
       "9  4.333803e-07  1.282256e-04  5.265365e-03  4.410052e-02  8.414933e-02  "
      ]
     },
     "execution_count": 163,
     "metadata": {},
     "output_type": "execute_result"
    }
   ],
   "source": [
    "sumpsflets = np.reshape(subim*Nelec,-1)\n",
    "x = subim_flat\n",
    "A = psflets_flat.T\n",
    "right = np.dot(np.transpose(A),x)\n",
    "Cinv = np.dot(np.transpose(A),A)\n",
    "C = np.linalg.inv(Cinv)\n",
    "coefs2 = np.dot(left,right)\n",
    "print coefs2\n",
    "print coef\n",
    "import pandas as pd\n",
    "df = pd.DataFrame(data=Cinv)\n",
    "df"
   ]
  },
  {
   "cell_type": "code",
   "execution_count": 187,
   "metadata": {},
   "outputs": [
    {
     "name": "stdout",
     "output_type": "stream",
     "text": [
      "[  8.36914584e-03   9.71942144e-02   1.24568967e+00   4.85315231e+00\n",
      "   7.82761818e+00   8.78953079e+00   9.22344047e+00   9.75942182e+00\n",
      "   1.03366595e+01   1.09537093e+01   1.17170004e+01   1.25887064e+01\n",
      "   1.35931775e+01   1.47113787e+01   1.58049908e+01   1.67012367e+01\n",
      "   1.71757125e+01   1.75870260e+01   1.80836216e+01   1.85913175e+01\n",
      "   1.70223436e+01   1.03571405e+01   3.03675836e+00   3.48716876e-01\n",
      "   1.56939391e-02   1.85383312e-02   1.11728846e+00   1.57654281e+01\n",
      "   6.18381017e+01   9.67073310e+01   1.03351188e+02   1.06288370e+02\n",
      "   1.07457127e+02   1.09200287e+02   1.11509701e+02   1.12948176e+02\n",
      "   1.15380036e+02   1.17349923e+02   1.19332164e+02   1.21273726e+02\n",
      "   1.22778742e+02   1.24271421e+02   1.27199067e+02   1.27159103e+02\n",
      "   1.28022613e+02   1.13592655e+02   6.62721778e+01   1.90021625e+01\n",
      "   2.15541932e+00   8.66642450e-02   4.64581259e-02   2.80660223e+00\n",
      "   3.96828873e+01   1.55726811e+02   2.41016863e+02   2.52896074e+02\n",
      "   2.57951116e+02   2.56449351e+02   2.56735322e+02   2.58729268e+02\n",
      "   2.56679073e+02   2.57360271e+02   2.56251479e+02   2.54782997e+02\n",
      "   2.53658246e+02   2.52691000e+02   2.54299501e+02   2.60492449e+02\n",
      "   2.58084156e+02   2.58016757e+02   2.26195329e+02   1.29759063e+02\n",
      "   3.68714503e+01   4.16854321e+00   1.67366384e-01   2.31166027e-02\n",
      "   1.39235408e+00   1.96534506e+01   7.70765064e+01   1.20177152e+02\n",
      "   1.27791925e+02   1.31090294e+02   1.31936102e+02   1.33538225e+02\n",
      "   1.35880432e+02   1.36918932e+02   1.39216256e+02   1.40850905e+02\n",
      "   1.42445327e+02   1.44042730e+02   1.45258200e+02   1.46798609e+02\n",
      "   1.50246884e+02   1.49844881e+02   1.50575046e+02   1.33206324e+02\n",
      "   7.74069884e+01   2.21479016e+01   2.51025731e+00   1.00901499e-01\n",
      "   1.26798784e-02   1.48274888e-01   1.92868671e+00   7.52069585e+00\n",
      "   1.20475846e+01   1.33942136e+01   1.39881314e+01   1.46675411e+01\n",
      "   1.54106697e+01   1.62209964e+01   1.71949955e+01   1.83111671e+01\n",
      "   1.95598765e+01   2.09364968e+01   2.22758844e+01   2.33642621e+01\n",
      "   2.39534043e+01   2.45078783e+01   2.50601602e+01   2.56561868e+01\n",
      "   2.33614783e+01   1.41168813e+01   4.12448682e+00   4.73325113e-01\n",
      "   2.24295888e-02   7.98698388e-01   8.57091568e-01   8.61673468e-01\n",
      "   6.88491663e-01   4.16676063e-01   3.15906599e-01   3.17086259e-01\n",
      "   3.55162534e-01   3.98322692e-01   4.46126746e-01   5.13177764e-01\n",
      "   5.90911397e-01   6.95041729e-01   8.21066062e-01   9.68871841e-01\n",
      "   1.14002721e+00   1.25149034e+00   1.31435432e+00   1.41546319e+00\n",
      "   1.51564530e+00   1.47881251e+00   1.05919094e+00   5.47445435e-01\n",
      "   3.87928909e-01   4.31800794e-01]\n",
      "[  0   0   0   5  13  13   9  10  12   7   8  13  13  13  18  16  18  26\n",
      "  17  20  22  10   2   2   0   0   0  16  64  90 122 112  93 102 115  93\n",
      " 111 111 122 128 122 117 125 116 148 123  59  26   0   0   0   1  42 151\n",
      " 266 239 279 247 270 242 254 259 252 247 257 260 257 251 244 247 213 140\n",
      "  40   0   1   0   1  16  90 115 149 148 145 139 145 132 140 145 137 155\n",
      " 151 154 164 147 148 131  69  19   5   0   0   0   2   6   6   9  14  17\n",
      "  18   9  17  11  20  22  30  25  20  26  23  23  15  22   6   0   0   0\n",
      "   2   1   1   1   0   1   0   0   0   0   1   0   1   0   0   1   2   1\n",
      "   1   5   2   0   1   1]\n"
     ]
    }
   ],
   "source": [
    "print np.reshape(subim*Nelec,-1)\n",
    "print subim_flat"
   ]
  },
  {
   "cell_type": "code",
   "execution_count": 194,
   "metadata": {},
   "outputs": [
    {
     "name": "stdout",
     "output_type": "stream",
     "text": [
      "[ 1009.69949343  1082.5808662   1004.90373994   947.97632249   977.80226055\n",
      "  1004.96213425  1045.63562269   996.39692379   957.57649455  1021.46614213]\n",
      "[ 1029.41823826  1055.36635742  1011.03572279   957.09061157  1001.41691338\n",
      "   974.09039007  1063.13357213   976.65161888   956.23135385  1002.07668355]\n"
     ]
    },
    {
     "data": {
      "text/html": [
       "<div>\n",
       "<style scoped>\n",
       "    .dataframe tbody tr th:only-of-type {\n",
       "        vertical-align: middle;\n",
       "    }\n",
       "\n",
       "    .dataframe tbody tr th {\n",
       "        vertical-align: top;\n",
       "    }\n",
       "\n",
       "    .dataframe thead th {\n",
       "        text-align: right;\n",
       "    }\n",
       "</style>\n",
       "<table border=\"1\" class=\"dataframe\">\n",
       "  <thead>\n",
       "    <tr style=\"text-align: right;\">\n",
       "      <th></th>\n",
       "      <th>0</th>\n",
       "      <th>1</th>\n",
       "      <th>2</th>\n",
       "      <th>3</th>\n",
       "      <th>4</th>\n",
       "      <th>5</th>\n",
       "      <th>6</th>\n",
       "      <th>7</th>\n",
       "      <th>8</th>\n",
       "      <th>9</th>\n",
       "    </tr>\n",
       "  </thead>\n",
       "  <tbody>\n",
       "    <tr>\n",
       "      <th>0</th>\n",
       "      <td>7.734472e-04</td>\n",
       "      <td>2.157569e-04</td>\n",
       "      <td>1.015925e-05</td>\n",
       "      <td>5.566459e-08</td>\n",
       "      <td>2.388645e-09</td>\n",
       "      <td>3.760930e-08</td>\n",
       "      <td>1.326292e-07</td>\n",
       "      <td>1.090138e-07</td>\n",
       "      <td>5.624654e-08</td>\n",
       "      <td>2.430884e-07</td>\n",
       "    </tr>\n",
       "    <tr>\n",
       "      <th>1</th>\n",
       "      <td>2.157569e-04</td>\n",
       "      <td>5.585638e-04</td>\n",
       "      <td>2.135959e-04</td>\n",
       "      <td>1.162064e-05</td>\n",
       "      <td>8.647409e-08</td>\n",
       "      <td>1.094544e-09</td>\n",
       "      <td>2.859788e-08</td>\n",
       "      <td>1.174503e-07</td>\n",
       "      <td>1.509469e-07</td>\n",
       "      <td>7.810491e-08</td>\n",
       "    </tr>\n",
       "    <tr>\n",
       "      <th>2</th>\n",
       "      <td>1.015925e-05</td>\n",
       "      <td>2.135959e-04</td>\n",
       "      <td>5.433293e-04</td>\n",
       "      <td>2.181984e-04</td>\n",
       "      <td>1.415082e-05</td>\n",
       "      <td>1.644270e-07</td>\n",
       "      <td>1.144279e-09</td>\n",
       "      <td>2.049863e-08</td>\n",
       "      <td>1.491961e-07</td>\n",
       "      <td>2.309696e-07</td>\n",
       "    </tr>\n",
       "    <tr>\n",
       "      <th>3</th>\n",
       "      <td>5.566459e-08</td>\n",
       "      <td>1.162064e-05</td>\n",
       "      <td>2.181984e-04</td>\n",
       "      <td>5.302746e-04</td>\n",
       "      <td>2.218581e-04</td>\n",
       "      <td>1.743905e-05</td>\n",
       "      <td>2.507104e-07</td>\n",
       "      <td>1.135271e-09</td>\n",
       "      <td>2.505959e-08</td>\n",
       "      <td>2.765784e-07</td>\n",
       "    </tr>\n",
       "    <tr>\n",
       "      <th>4</th>\n",
       "      <td>2.388645e-09</td>\n",
       "      <td>8.647409e-08</td>\n",
       "      <td>1.415082e-05</td>\n",
       "      <td>2.218581e-04</td>\n",
       "      <td>5.168332e-04</td>\n",
       "      <td>2.264001e-04</td>\n",
       "      <td>2.023953e-05</td>\n",
       "      <td>3.500155e-07</td>\n",
       "      <td>2.217204e-09</td>\n",
       "      <td>7.705220e-08</td>\n",
       "    </tr>\n",
       "    <tr>\n",
       "      <th>5</th>\n",
       "      <td>3.760930e-08</td>\n",
       "      <td>1.094544e-09</td>\n",
       "      <td>1.644270e-07</td>\n",
       "      <td>1.743905e-05</td>\n",
       "      <td>2.264001e-04</td>\n",
       "      <td>5.006253e-04</td>\n",
       "      <td>2.311844e-04</td>\n",
       "      <td>2.358952e-05</td>\n",
       "      <td>5.499433e-07</td>\n",
       "      <td>8.529147e-09</td>\n",
       "    </tr>\n",
       "    <tr>\n",
       "      <th>6</th>\n",
       "      <td>1.326292e-07</td>\n",
       "      <td>2.859788e-08</td>\n",
       "      <td>1.144279e-09</td>\n",
       "      <td>2.507104e-07</td>\n",
       "      <td>2.023953e-05</td>\n",
       "      <td>2.311844e-04</td>\n",
       "      <td>4.880761e-04</td>\n",
       "      <td>2.324718e-04</td>\n",
       "      <td>2.691534e-05</td>\n",
       "      <td>6.998262e-07</td>\n",
       "    </tr>\n",
       "    <tr>\n",
       "      <th>7</th>\n",
       "      <td>1.090138e-07</td>\n",
       "      <td>1.174503e-07</td>\n",
       "      <td>2.049863e-08</td>\n",
       "      <td>1.135271e-09</td>\n",
       "      <td>3.500155e-07</td>\n",
       "      <td>2.358952e-05</td>\n",
       "      <td>2.324718e-04</td>\n",
       "      <td>4.795250e-04</td>\n",
       "      <td>2.350915e-04</td>\n",
       "      <td>2.872404e-05</td>\n",
       "    </tr>\n",
       "    <tr>\n",
       "      <th>8</th>\n",
       "      <td>5.624654e-08</td>\n",
       "      <td>1.509469e-07</td>\n",
       "      <td>1.491961e-07</td>\n",
       "      <td>2.505959e-08</td>\n",
       "      <td>2.217204e-09</td>\n",
       "      <td>5.499433e-07</td>\n",
       "      <td>2.691534e-05</td>\n",
       "      <td>2.350915e-04</td>\n",
       "      <td>4.743217e-04</td>\n",
       "      <td>2.627378e-04</td>\n",
       "    </tr>\n",
       "    <tr>\n",
       "      <th>9</th>\n",
       "      <td>2.430884e-07</td>\n",
       "      <td>7.810491e-08</td>\n",
       "      <td>2.309696e-07</td>\n",
       "      <td>2.765784e-07</td>\n",
       "      <td>7.705220e-08</td>\n",
       "      <td>8.529147e-09</td>\n",
       "      <td>6.998262e-07</td>\n",
       "      <td>2.872404e-05</td>\n",
       "      <td>2.627378e-04</td>\n",
       "      <td>7.069240e-04</td>\n",
       "    </tr>\n",
       "  </tbody>\n",
       "</table>\n",
       "</div>"
      ],
      "text/plain": [
       "              0             1             2             3             4  \\\n",
       "0  7.734472e-04  2.157569e-04  1.015925e-05  5.566459e-08  2.388645e-09   \n",
       "1  2.157569e-04  5.585638e-04  2.135959e-04  1.162064e-05  8.647409e-08   \n",
       "2  1.015925e-05  2.135959e-04  5.433293e-04  2.181984e-04  1.415082e-05   \n",
       "3  5.566459e-08  1.162064e-05  2.181984e-04  5.302746e-04  2.218581e-04   \n",
       "4  2.388645e-09  8.647409e-08  1.415082e-05  2.218581e-04  5.168332e-04   \n",
       "5  3.760930e-08  1.094544e-09  1.644270e-07  1.743905e-05  2.264001e-04   \n",
       "6  1.326292e-07  2.859788e-08  1.144279e-09  2.507104e-07  2.023953e-05   \n",
       "7  1.090138e-07  1.174503e-07  2.049863e-08  1.135271e-09  3.500155e-07   \n",
       "8  5.624654e-08  1.509469e-07  1.491961e-07  2.505959e-08  2.217204e-09   \n",
       "9  2.430884e-07  7.810491e-08  2.309696e-07  2.765784e-07  7.705220e-08   \n",
       "\n",
       "              5             6             7             8             9  \n",
       "0  3.760930e-08  1.326292e-07  1.090138e-07  5.624654e-08  2.430884e-07  \n",
       "1  1.094544e-09  2.859788e-08  1.174503e-07  1.509469e-07  7.810491e-08  \n",
       "2  1.644270e-07  1.144279e-09  2.049863e-08  1.491961e-07  2.309696e-07  \n",
       "3  1.743905e-05  2.507104e-07  1.135271e-09  2.505959e-08  2.765784e-07  \n",
       "4  2.264001e-04  2.023953e-05  3.500155e-07  2.217204e-09  7.705220e-08  \n",
       "5  5.006253e-04  2.311844e-04  2.358952e-05  5.499433e-07  8.529147e-09  \n",
       "6  2.311844e-04  4.880761e-04  2.324718e-04  2.691534e-05  6.998262e-07  \n",
       "7  2.358952e-05  2.324718e-04  4.795250e-04  2.350915e-04  2.872404e-05  \n",
       "8  5.499433e-07  2.691534e-05  2.350915e-04  4.743217e-04  2.627378e-04  \n",
       "9  8.529147e-09  6.998262e-07  2.872404e-05  2.627378e-04  7.069240e-04  "
      ]
     },
     "execution_count": 194,
     "metadata": {},
     "output_type": "execute_result"
    },
    {
     "data": {
      "image/png": "[encoded data removed]",
      "text/plain": [
       "<matplotlib.figure.Figure at 0x1c251bf250>"
      ]
     },
     "metadata": {},
     "output_type": "display_data"
    }
   ],
   "source": [
    "sumpsflets = np.reshape(subim*Nelec,-1)\n",
    "x = subim_flat\n",
    "A = psflets_flat.T\n",
    "Ninv = np.linalg.inv(np.diag(sumpsflets))\n",
    "right = np.dot(np.transpose(A),np.dot(Ninv,x))\n",
    "Cinv = np.dot(np.transpose(A),np.dot(Ninv,A))\n",
    "C = np.linalg.inv(Cinv)\n",
    "coefs2 = np.dot(C,right)\n",
    "print coefs2\n",
    "print coef\n",
    "plt.plot(coefs2)\n",
    "plt.plot(coef)\n",
    "import pandas as pd\n",
    "df = pd.DataFrame(data=Cinv)\n",
    "df\n"
   ]
  },
  {
   "cell_type": "code",
   "execution_count": 195,
   "metadata": {},
   "outputs": [
    {
     "data": {
      "text/html": [
       "<div>\n",
       "<style scoped>\n",
       "    .dataframe tbody tr th:only-of-type {\n",
       "        vertical-align: middle;\n",
       "    }\n",
       "\n",
       "    .dataframe tbody tr th {\n",
       "        vertical-align: top;\n",
       "    }\n",
       "\n",
       "    .dataframe thead th {\n",
       "        text-align: right;\n",
       "    }\n",
       "</style>\n",
       "<table border=\"1\" class=\"dataframe\">\n",
       "  <thead>\n",
       "    <tr style=\"text-align: right;\">\n",
       "      <th></th>\n",
       "      <th>0</th>\n",
       "      <th>1</th>\n",
       "      <th>2</th>\n",
       "      <th>3</th>\n",
       "      <th>4</th>\n",
       "      <th>5</th>\n",
       "      <th>6</th>\n",
       "      <th>7</th>\n",
       "      <th>8</th>\n",
       "      <th>9</th>\n",
       "    </tr>\n",
       "  </thead>\n",
       "  <tbody>\n",
       "    <tr>\n",
       "      <th>0</th>\n",
       "      <td>2.747264e-02</td>\n",
       "      <td>4.318693e-03</td>\n",
       "      <td>-2.179829e-04</td>\n",
       "      <td>0.000050</td>\n",
       "      <td>-0.000013</td>\n",
       "      <td>0.000005</td>\n",
       "      <td>0.000001</td>\n",
       "      <td>2.277440e-06</td>\n",
       "      <td>1.163512e-08</td>\n",
       "      <td>4.542546e-06</td>\n",
       "    </tr>\n",
       "    <tr>\n",
       "      <th>1</th>\n",
       "      <td>4.318693e-03</td>\n",
       "      <td>2.273227e-02</td>\n",
       "      <td>4.802638e-03</td>\n",
       "      <td>-0.000293</td>\n",
       "      <td>0.000072</td>\n",
       "      <td>-0.000020</td>\n",
       "      <td>0.000007</td>\n",
       "      <td>-1.299198e-07</td>\n",
       "      <td>3.622440e-06</td>\n",
       "      <td>3.294230e-07</td>\n",
       "    </tr>\n",
       "    <tr>\n",
       "      <th>2</th>\n",
       "      <td>-2.179829e-04</td>\n",
       "      <td>4.802638e-03</td>\n",
       "      <td>2.224853e-02</td>\n",
       "      <td>0.005013</td>\n",
       "      <td>-0.000289</td>\n",
       "      <td>0.000076</td>\n",
       "      <td>-0.000023</td>\n",
       "      <td>7.413944e-06</td>\n",
       "      <td>2.079646e-07</td>\n",
       "      <td>4.499250e-06</td>\n",
       "    </tr>\n",
       "    <tr>\n",
       "      <th>3</th>\n",
       "      <td>5.032201e-05</td>\n",
       "      <td>-2.926043e-04</td>\n",
       "      <td>5.012935e-03</td>\n",
       "      <td>0.021864</td>\n",
       "      <td>0.005189</td>\n",
       "      <td>-0.000267</td>\n",
       "      <td>0.000080</td>\n",
       "      <td>-2.426958e-05</td>\n",
       "      <td>7.348341e-06</td>\n",
       "      <td>3.478876e-06</td>\n",
       "    </tr>\n",
       "    <tr>\n",
       "      <th>4</th>\n",
       "      <td>-1.339374e-05</td>\n",
       "      <td>7.154025e-05</td>\n",
       "      <td>-2.888467e-04</td>\n",
       "      <td>0.005189</td>\n",
       "      <td>0.021460</td>\n",
       "      <td>0.005405</td>\n",
       "      <td>-0.000264</td>\n",
       "      <td>8.161484e-05</td>\n",
       "      <td>-2.441367e-05</td>\n",
       "      <td>6.603404e-06</td>\n",
       "    </tr>\n",
       "    <tr>\n",
       "      <th>5</th>\n",
       "      <td>4.591565e-06</td>\n",
       "      <td>-2.032603e-05</td>\n",
       "      <td>7.625768e-05</td>\n",
       "      <td>-0.000267</td>\n",
       "      <td>0.005405</td>\n",
       "      <td>0.020965</td>\n",
       "      <td>0.005634</td>\n",
       "      <td>-2.346800e-04</td>\n",
       "      <td>7.725068e-05</td>\n",
       "      <td>-1.681522e-05</td>\n",
       "    </tr>\n",
       "    <tr>\n",
       "      <th>6</th>\n",
       "      <td>1.077780e-06</td>\n",
       "      <td>6.741974e-06</td>\n",
       "      <td>-2.287725e-05</td>\n",
       "      <td>0.000080</td>\n",
       "      <td>-0.000264</td>\n",
       "      <td>0.005634</td>\n",
       "      <td>0.020572</td>\n",
       "      <td>5.746442e-03</td>\n",
       "      <td>-1.822801e-04</td>\n",
       "      <td>5.266418e-05</td>\n",
       "    </tr>\n",
       "    <tr>\n",
       "      <th>7</th>\n",
       "      <td>2.277440e-06</td>\n",
       "      <td>-1.299198e-07</td>\n",
       "      <td>7.413944e-06</td>\n",
       "      <td>-0.000024</td>\n",
       "      <td>0.000082</td>\n",
       "      <td>-0.000235</td>\n",
       "      <td>0.005746</td>\n",
       "      <td>2.030361e-02</td>\n",
       "      <td>5.847476e-03</td>\n",
       "      <td>-1.069790e-04</td>\n",
       "    </tr>\n",
       "    <tr>\n",
       "      <th>8</th>\n",
       "      <td>1.163512e-08</td>\n",
       "      <td>3.622440e-06</td>\n",
       "      <td>2.079646e-07</td>\n",
       "      <td>0.000007</td>\n",
       "      <td>-0.000024</td>\n",
       "      <td>0.000077</td>\n",
       "      <td>-0.000182</td>\n",
       "      <td>5.847476e-03</td>\n",
       "      <td>2.018732e-02</td>\n",
       "      <td>5.706236e-03</td>\n",
       "    </tr>\n",
       "    <tr>\n",
       "      <th>9</th>\n",
       "      <td>4.542546e-06</td>\n",
       "      <td>3.294230e-07</td>\n",
       "      <td>4.499250e-06</td>\n",
       "      <td>0.000003</td>\n",
       "      <td>0.000007</td>\n",
       "      <td>-0.000017</td>\n",
       "      <td>0.000053</td>\n",
       "      <td>-1.069790e-04</td>\n",
       "      <td>5.706236e-03</td>\n",
       "      <td>2.596822e-02</td>\n",
       "    </tr>\n",
       "  </tbody>\n",
       "</table>\n",
       "</div>"
      ],
      "text/plain": [
       "              0             1             2         3         4         5  \\\n",
       "0  2.747264e-02  4.318693e-03 -2.179829e-04  0.000050 -0.000013  0.000005   \n",
       "1  4.318693e-03  2.273227e-02  4.802638e-03 -0.000293  0.000072 -0.000020   \n",
       "2 -2.179829e-04  4.802638e-03  2.224853e-02  0.005013 -0.000289  0.000076   \n",
       "3  5.032201e-05 -2.926043e-04  5.012935e-03  0.021864  0.005189 -0.000267   \n",
       "4 -1.339374e-05  7.154025e-05 -2.888467e-04  0.005189  0.021460  0.005405   \n",
       "5  4.591565e-06 -2.032603e-05  7.625768e-05 -0.000267  0.005405  0.020965   \n",
       "6  1.077780e-06  6.741974e-06 -2.287725e-05  0.000080 -0.000264  0.005634   \n",
       "7  2.277440e-06 -1.299198e-07  7.413944e-06 -0.000024  0.000082 -0.000235   \n",
       "8  1.163512e-08  3.622440e-06  2.079646e-07  0.000007 -0.000024  0.000077   \n",
       "9  4.542546e-06  3.294230e-07  4.499250e-06  0.000003  0.000007 -0.000017   \n",
       "\n",
       "          6             7             8             9  \n",
       "0  0.000001  2.277440e-06  1.163512e-08  4.542546e-06  \n",
       "1  0.000007 -1.299198e-07  3.622440e-06  3.294230e-07  \n",
       "2 -0.000023  7.413944e-06  2.079646e-07  4.499250e-06  \n",
       "3  0.000080 -2.426958e-05  7.348341e-06  3.478876e-06  \n",
       "4 -0.000264  8.161484e-05 -2.441367e-05  6.603404e-06  \n",
       "5  0.005634 -2.346800e-04  7.725068e-05 -1.681522e-05  \n",
       "6  0.020572  5.746442e-03 -1.822801e-04  5.266418e-05  \n",
       "7  0.005746  2.030361e-02  5.847476e-03 -1.069790e-04  \n",
       "8 -0.000182  5.847476e-03  2.018732e-02  5.706236e-03  \n",
       "9  0.000053 -1.069790e-04  5.706236e-03  2.596822e-02  "
      ]
     },
     "execution_count": 195,
     "metadata": {},
     "output_type": "execute_result"
    }
   ],
   "source": [
    "import scipy as sp\n",
    "Q = sp.linalg.sqrtm(Cinv)\n",
    "df = pd.DataFrame(data=Q)\n",
    "df"
   ]
  },
  {
   "cell_type": "code",
   "execution_count": 274,
   "metadata": {},
   "outputs": [
    {
     "data": {
      "text/plain": [
       "0.031622776601683916"
      ]
     },
     "execution_count": 274,
     "metadata": {},
     "output_type": "execute_result"
    }
   ],
   "source": [
    "np.sum(Q[0])"
   ]
  },
  {
   "cell_type": "code",
   "execution_count": 276,
   "metadata": {},
   "outputs": [
    {
     "name": "stdout",
     "output_type": "stream",
     "text": [
      "[ 0.03162278  0.03162278  0.03162278  0.03162278  0.03162278  0.03162278\n",
      "  0.03162278  0.03162278  0.03162278  0.03162278]\n",
      "1.0\n",
      "3180.01850514\n",
      "3178.99792594\n"
     ]
    },
    {
     "data": {
      "text/html": [
       "<div>\n",
       "<style scoped>\n",
       "    .dataframe tbody tr th:only-of-type {\n",
       "        vertical-align: middle;\n",
       "    }\n",
       "\n",
       "    .dataframe tbody tr th {\n",
       "        vertical-align: top;\n",
       "    }\n",
       "\n",
       "    .dataframe thead th {\n",
       "        text-align: right;\n",
       "    }\n",
       "</style>\n",
       "<table border=\"1\" class=\"dataframe\">\n",
       "  <thead>\n",
       "    <tr style=\"text-align: right;\">\n",
       "      <th></th>\n",
       "      <th>0</th>\n",
       "      <th>1</th>\n",
       "      <th>2</th>\n",
       "      <th>3</th>\n",
       "      <th>4</th>\n",
       "      <th>5</th>\n",
       "      <th>6</th>\n",
       "      <th>7</th>\n",
       "      <th>8</th>\n",
       "      <th>9</th>\n",
       "    </tr>\n",
       "  </thead>\n",
       "  <tbody>\n",
       "    <tr>\n",
       "      <th>0</th>\n",
       "      <td>8.687611e-01</td>\n",
       "      <td>0.136569</td>\n",
       "      <td>-0.006893</td>\n",
       "      <td>0.001591</td>\n",
       "      <td>-0.000424</td>\n",
       "      <td>0.000145</td>\n",
       "      <td>0.000034</td>\n",
       "      <td>0.000072</td>\n",
       "      <td>3.679347e-07</td>\n",
       "      <td>0.000144</td>\n",
       "    </tr>\n",
       "    <tr>\n",
       "      <th>1</th>\n",
       "      <td>1.365691e-01</td>\n",
       "      <td>0.718858</td>\n",
       "      <td>0.151873</td>\n",
       "      <td>-0.009253</td>\n",
       "      <td>0.002262</td>\n",
       "      <td>-0.000643</td>\n",
       "      <td>0.000213</td>\n",
       "      <td>-0.000004</td>\n",
       "      <td>1.145516e-04</td>\n",
       "      <td>0.000010</td>\n",
       "    </tr>\n",
       "    <tr>\n",
       "      <th>2</th>\n",
       "      <td>-6.893223e-03</td>\n",
       "      <td>0.151873</td>\n",
       "      <td>0.703560</td>\n",
       "      <td>0.158523</td>\n",
       "      <td>-0.009134</td>\n",
       "      <td>0.002411</td>\n",
       "      <td>-0.000723</td>\n",
       "      <td>0.000234</td>\n",
       "      <td>6.576418e-06</td>\n",
       "      <td>0.000142</td>\n",
       "    </tr>\n",
       "    <tr>\n",
       "      <th>3</th>\n",
       "      <td>1.591322e-03</td>\n",
       "      <td>-0.009253</td>\n",
       "      <td>0.158523</td>\n",
       "      <td>0.691416</td>\n",
       "      <td>0.164080</td>\n",
       "      <td>-0.008455</td>\n",
       "      <td>0.002523</td>\n",
       "      <td>-0.000767</td>\n",
       "      <td>2.323749e-04</td>\n",
       "      <td>0.000110</td>\n",
       "    </tr>\n",
       "    <tr>\n",
       "      <th>4</th>\n",
       "      <td>-4.235471e-04</td>\n",
       "      <td>0.002262</td>\n",
       "      <td>-0.009134</td>\n",
       "      <td>0.164080</td>\n",
       "      <td>0.678622</td>\n",
       "      <td>0.170932</td>\n",
       "      <td>-0.008356</td>\n",
       "      <td>0.002581</td>\n",
       "      <td>-7.720279e-04</td>\n",
       "      <td>0.000209</td>\n",
       "    </tr>\n",
       "    <tr>\n",
       "      <th>5</th>\n",
       "      <td>1.451980e-04</td>\n",
       "      <td>-0.000643</td>\n",
       "      <td>0.002411</td>\n",
       "      <td>-0.008455</td>\n",
       "      <td>0.170932</td>\n",
       "      <td>0.662972</td>\n",
       "      <td>0.178148</td>\n",
       "      <td>-0.007421</td>\n",
       "      <td>2.442881e-03</td>\n",
       "      <td>-0.000532</td>\n",
       "    </tr>\n",
       "    <tr>\n",
       "      <th>6</th>\n",
       "      <td>3.408239e-05</td>\n",
       "      <td>0.000213</td>\n",
       "      <td>-0.000723</td>\n",
       "      <td>0.002523</td>\n",
       "      <td>-0.008356</td>\n",
       "      <td>0.178148</td>\n",
       "      <td>0.650542</td>\n",
       "      <td>0.181718</td>\n",
       "      <td>-5.764203e-03</td>\n",
       "      <td>0.001665</td>\n",
       "    </tr>\n",
       "    <tr>\n",
       "      <th>7</th>\n",
       "      <td>7.201898e-05</td>\n",
       "      <td>-0.000004</td>\n",
       "      <td>0.000234</td>\n",
       "      <td>-0.000767</td>\n",
       "      <td>0.002581</td>\n",
       "      <td>-0.007421</td>\n",
       "      <td>0.181718</td>\n",
       "      <td>0.642057</td>\n",
       "      <td>1.849134e-01</td>\n",
       "      <td>-0.003383</td>\n",
       "    </tr>\n",
       "    <tr>\n",
       "      <th>8</th>\n",
       "      <td>3.679347e-07</td>\n",
       "      <td>0.000115</td>\n",
       "      <td>0.000007</td>\n",
       "      <td>0.000232</td>\n",
       "      <td>-0.000772</td>\n",
       "      <td>0.002443</td>\n",
       "      <td>-0.005764</td>\n",
       "      <td>0.184913</td>\n",
       "      <td>6.383790e-01</td>\n",
       "      <td>0.180447</td>\n",
       "    </tr>\n",
       "    <tr>\n",
       "      <th>9</th>\n",
       "      <td>1.436479e-04</td>\n",
       "      <td>0.000010</td>\n",
       "      <td>0.000142</td>\n",
       "      <td>0.000110</td>\n",
       "      <td>0.000209</td>\n",
       "      <td>-0.000532</td>\n",
       "      <td>0.001665</td>\n",
       "      <td>-0.003383</td>\n",
       "      <td>1.804470e-01</td>\n",
       "      <td>0.821187</td>\n",
       "    </tr>\n",
       "  </tbody>\n",
       "</table>\n",
       "</div>"
      ],
      "text/plain": [
       "              0         1         2         3         4         5         6  \\\n",
       "0  8.687611e-01  0.136569 -0.006893  0.001591 -0.000424  0.000145  0.000034   \n",
       "1  1.365691e-01  0.718858  0.151873 -0.009253  0.002262 -0.000643  0.000213   \n",
       "2 -6.893223e-03  0.151873  0.703560  0.158523 -0.009134  0.002411 -0.000723   \n",
       "3  1.591322e-03 -0.009253  0.158523  0.691416  0.164080 -0.008455  0.002523   \n",
       "4 -4.235471e-04  0.002262 -0.009134  0.164080  0.678622  0.170932 -0.008356   \n",
       "5  1.451980e-04 -0.000643  0.002411 -0.008455  0.170932  0.662972  0.178148   \n",
       "6  3.408239e-05  0.000213 -0.000723  0.002523 -0.008356  0.178148  0.650542   \n",
       "7  7.201898e-05 -0.000004  0.000234 -0.000767  0.002581 -0.007421  0.181718   \n",
       "8  3.679347e-07  0.000115  0.000007  0.000232 -0.000772  0.002443 -0.005764   \n",
       "9  1.436479e-04  0.000010  0.000142  0.000110  0.000209 -0.000532  0.001665   \n",
       "\n",
       "          7             8         9  \n",
       "0  0.000072  3.679347e-07  0.000144  \n",
       "1 -0.000004  1.145516e-04  0.000010  \n",
       "2  0.000234  6.576418e-06  0.000142  \n",
       "3 -0.000767  2.323749e-04  0.000110  \n",
       "4  0.002581 -7.720279e-04  0.000209  \n",
       "5 -0.007421  2.442881e-03 -0.000532  \n",
       "6  0.181718 -5.764203e-03  0.001665  \n",
       "7  0.642057  1.849134e-01 -0.003383  \n",
       "8  0.184913  6.383790e-01  0.180447  \n",
       "9 -0.003383  1.804470e-01  0.821187  "
      ]
     },
     "execution_count": 276,
     "metadata": {},
     "output_type": "execute_result"
    }
   ],
   "source": [
    "s = np.sum(Q,axis=1)\n",
    "print s\n",
    "R = Q/s[np.newaxis,:]\n",
    "Ctilde_inv = np.diag(s**2)\n",
    "Ctilde = np.dot(np.dot(R,C),R.T)\n",
    "# eigvec,R = np.linalg.eig(Cinv)\n",
    "# print eigvec\n",
    "# Ctildeinv = np.diag(eigvec)\n",
    "# Cinv_check = np.dot(R,np.dot(Ctildeinv,R.T))\n",
    "# Ctilde = np.linalg.inv(Ctildeinv)\n",
    "# pd.DataFrame(data=Cinv_check)\n",
    "print np.sum(np.dot(R.T,R)[1])\n",
    "print np.linalg.norm(coefs2)\n",
    "print np.linalg.norm(np.dot(R.T,coefs2))\n",
    "pd.DataFrame(data=R)\n",
    "\n",
    "\n"
   ]
  },
  {
   "cell_type": "code",
   "execution_count": 197,
   "metadata": {},
   "outputs": [
    {
     "data": {
      "text/html": [
       "<div>\n",
       "<style scoped>\n",
       "    .dataframe tbody tr th:only-of-type {\n",
       "        vertical-align: middle;\n",
       "    }\n",
       "\n",
       "    .dataframe tbody tr th {\n",
       "        vertical-align: top;\n",
       "    }\n",
       "\n",
       "    .dataframe thead th {\n",
       "        text-align: right;\n",
       "    }\n",
       "</style>\n",
       "<table border=\"1\" class=\"dataframe\">\n",
       "  <thead>\n",
       "    <tr style=\"text-align: right;\">\n",
       "      <th></th>\n",
       "      <th>0</th>\n",
       "      <th>1</th>\n",
       "      <th>2</th>\n",
       "      <th>3</th>\n",
       "      <th>4</th>\n",
       "      <th>5</th>\n",
       "      <th>6</th>\n",
       "      <th>7</th>\n",
       "      <th>8</th>\n",
       "      <th>9</th>\n",
       "    </tr>\n",
       "  </thead>\n",
       "  <tbody>\n",
       "    <tr>\n",
       "      <th>0</th>\n",
       "      <td>7.734472e-04</td>\n",
       "      <td>2.157569e-04</td>\n",
       "      <td>1.015925e-05</td>\n",
       "      <td>5.566459e-08</td>\n",
       "      <td>2.388645e-09</td>\n",
       "      <td>3.760930e-08</td>\n",
       "      <td>1.326292e-07</td>\n",
       "      <td>1.090138e-07</td>\n",
       "      <td>5.624654e-08</td>\n",
       "      <td>2.430884e-07</td>\n",
       "    </tr>\n",
       "    <tr>\n",
       "      <th>1</th>\n",
       "      <td>2.157569e-04</td>\n",
       "      <td>5.585638e-04</td>\n",
       "      <td>2.135959e-04</td>\n",
       "      <td>1.162064e-05</td>\n",
       "      <td>8.647409e-08</td>\n",
       "      <td>1.094544e-09</td>\n",
       "      <td>2.859788e-08</td>\n",
       "      <td>1.174503e-07</td>\n",
       "      <td>1.509469e-07</td>\n",
       "      <td>7.810491e-08</td>\n",
       "    </tr>\n",
       "    <tr>\n",
       "      <th>2</th>\n",
       "      <td>1.015925e-05</td>\n",
       "      <td>2.135959e-04</td>\n",
       "      <td>5.433293e-04</td>\n",
       "      <td>2.181984e-04</td>\n",
       "      <td>1.415082e-05</td>\n",
       "      <td>1.644270e-07</td>\n",
       "      <td>1.144279e-09</td>\n",
       "      <td>2.049863e-08</td>\n",
       "      <td>1.491961e-07</td>\n",
       "      <td>2.309696e-07</td>\n",
       "    </tr>\n",
       "    <tr>\n",
       "      <th>3</th>\n",
       "      <td>5.566459e-08</td>\n",
       "      <td>1.162064e-05</td>\n",
       "      <td>2.181984e-04</td>\n",
       "      <td>5.302746e-04</td>\n",
       "      <td>2.218581e-04</td>\n",
       "      <td>1.743905e-05</td>\n",
       "      <td>2.507104e-07</td>\n",
       "      <td>1.135271e-09</td>\n",
       "      <td>2.505959e-08</td>\n",
       "      <td>2.765784e-07</td>\n",
       "    </tr>\n",
       "    <tr>\n",
       "      <th>4</th>\n",
       "      <td>2.388645e-09</td>\n",
       "      <td>8.647409e-08</td>\n",
       "      <td>1.415082e-05</td>\n",
       "      <td>2.218581e-04</td>\n",
       "      <td>5.168332e-04</td>\n",
       "      <td>2.264001e-04</td>\n",
       "      <td>2.023953e-05</td>\n",
       "      <td>3.500155e-07</td>\n",
       "      <td>2.217204e-09</td>\n",
       "      <td>7.705220e-08</td>\n",
       "    </tr>\n",
       "    <tr>\n",
       "      <th>5</th>\n",
       "      <td>3.760930e-08</td>\n",
       "      <td>1.094544e-09</td>\n",
       "      <td>1.644270e-07</td>\n",
       "      <td>1.743905e-05</td>\n",
       "      <td>2.264001e-04</td>\n",
       "      <td>5.006253e-04</td>\n",
       "      <td>2.311844e-04</td>\n",
       "      <td>2.358952e-05</td>\n",
       "      <td>5.499433e-07</td>\n",
       "      <td>8.529147e-09</td>\n",
       "    </tr>\n",
       "    <tr>\n",
       "      <th>6</th>\n",
       "      <td>1.326292e-07</td>\n",
       "      <td>2.859788e-08</td>\n",
       "      <td>1.144279e-09</td>\n",
       "      <td>2.507104e-07</td>\n",
       "      <td>2.023953e-05</td>\n",
       "      <td>2.311844e-04</td>\n",
       "      <td>4.880761e-04</td>\n",
       "      <td>2.324718e-04</td>\n",
       "      <td>2.691534e-05</td>\n",
       "      <td>6.998262e-07</td>\n",
       "    </tr>\n",
       "    <tr>\n",
       "      <th>7</th>\n",
       "      <td>1.090138e-07</td>\n",
       "      <td>1.174503e-07</td>\n",
       "      <td>2.049863e-08</td>\n",
       "      <td>1.135271e-09</td>\n",
       "      <td>3.500155e-07</td>\n",
       "      <td>2.358952e-05</td>\n",
       "      <td>2.324718e-04</td>\n",
       "      <td>4.795250e-04</td>\n",
       "      <td>2.350915e-04</td>\n",
       "      <td>2.872404e-05</td>\n",
       "    </tr>\n",
       "    <tr>\n",
       "      <th>8</th>\n",
       "      <td>5.624654e-08</td>\n",
       "      <td>1.509469e-07</td>\n",
       "      <td>1.491961e-07</td>\n",
       "      <td>2.505959e-08</td>\n",
       "      <td>2.217204e-09</td>\n",
       "      <td>5.499433e-07</td>\n",
       "      <td>2.691534e-05</td>\n",
       "      <td>2.350915e-04</td>\n",
       "      <td>4.743217e-04</td>\n",
       "      <td>2.627378e-04</td>\n",
       "    </tr>\n",
       "    <tr>\n",
       "      <th>9</th>\n",
       "      <td>2.430884e-07</td>\n",
       "      <td>7.810491e-08</td>\n",
       "      <td>2.309696e-07</td>\n",
       "      <td>2.765784e-07</td>\n",
       "      <td>7.705220e-08</td>\n",
       "      <td>8.529147e-09</td>\n",
       "      <td>6.998262e-07</td>\n",
       "      <td>2.872404e-05</td>\n",
       "      <td>2.627378e-04</td>\n",
       "      <td>7.069240e-04</td>\n",
       "    </tr>\n",
       "  </tbody>\n",
       "</table>\n",
       "</div>"
      ],
      "text/plain": [
       "              0             1             2             3             4  \\\n",
       "0  7.734472e-04  2.157569e-04  1.015925e-05  5.566459e-08  2.388645e-09   \n",
       "1  2.157569e-04  5.585638e-04  2.135959e-04  1.162064e-05  8.647409e-08   \n",
       "2  1.015925e-05  2.135959e-04  5.433293e-04  2.181984e-04  1.415082e-05   \n",
       "3  5.566459e-08  1.162064e-05  2.181984e-04  5.302746e-04  2.218581e-04   \n",
       "4  2.388645e-09  8.647409e-08  1.415082e-05  2.218581e-04  5.168332e-04   \n",
       "5  3.760930e-08  1.094544e-09  1.644270e-07  1.743905e-05  2.264001e-04   \n",
       "6  1.326292e-07  2.859788e-08  1.144279e-09  2.507104e-07  2.023953e-05   \n",
       "7  1.090138e-07  1.174503e-07  2.049863e-08  1.135271e-09  3.500155e-07   \n",
       "8  5.624654e-08  1.509469e-07  1.491961e-07  2.505959e-08  2.217204e-09   \n",
       "9  2.430884e-07  7.810491e-08  2.309696e-07  2.765784e-07  7.705220e-08   \n",
       "\n",
       "              5             6             7             8             9  \n",
       "0  3.760930e-08  1.326292e-07  1.090138e-07  5.624654e-08  2.430884e-07  \n",
       "1  1.094544e-09  2.859788e-08  1.174503e-07  1.509469e-07  7.810491e-08  \n",
       "2  1.644270e-07  1.144279e-09  2.049863e-08  1.491961e-07  2.309696e-07  \n",
       "3  1.743905e-05  2.507104e-07  1.135271e-09  2.505959e-08  2.765784e-07  \n",
       "4  2.264001e-04  2.023953e-05  3.500155e-07  2.217204e-09  7.705220e-08  \n",
       "5  5.006253e-04  2.311844e-04  2.358952e-05  5.499433e-07  8.529147e-09  \n",
       "6  2.311844e-04  4.880761e-04  2.324718e-04  2.691534e-05  6.998262e-07  \n",
       "7  2.358952e-05  2.324718e-04  4.795250e-04  2.350915e-04  2.872404e-05  \n",
       "8  5.499433e-07  2.691534e-05  2.350915e-04  4.743217e-04  2.627378e-04  \n",
       "9  8.529147e-09  6.998262e-07  2.872404e-05  2.627378e-04  7.069240e-04  "
      ]
     },
     "execution_count": 197,
     "metadata": {},
     "output_type": "execute_result"
    }
   ],
   "source": [
    "pd.DataFrame(data=Cinv)"
   ]
  },
  {
   "cell_type": "code",
   "execution_count": 198,
   "metadata": {},
   "outputs": [
    {
     "data": {
      "text/html": [
       "<div>\n",
       "<style scoped>\n",
       "    .dataframe tbody tr th:only-of-type {\n",
       "        vertical-align: middle;\n",
       "    }\n",
       "\n",
       "    .dataframe tbody tr th {\n",
       "        vertical-align: top;\n",
       "    }\n",
       "\n",
       "    .dataframe thead th {\n",
       "        text-align: right;\n",
       "    }\n",
       "</style>\n",
       "<table border=\"1\" class=\"dataframe\">\n",
       "  <thead>\n",
       "    <tr style=\"text-align: right;\">\n",
       "      <th></th>\n",
       "      <th>0</th>\n",
       "      <th>1</th>\n",
       "      <th>2</th>\n",
       "      <th>3</th>\n",
       "      <th>4</th>\n",
       "      <th>5</th>\n",
       "      <th>6</th>\n",
       "      <th>7</th>\n",
       "      <th>8</th>\n",
       "      <th>9</th>\n",
       "    </tr>\n",
       "  </thead>\n",
       "  <tbody>\n",
       "    <tr>\n",
       "      <th>0</th>\n",
       "      <td>1.000000e+03</td>\n",
       "      <td>1.084007e-12</td>\n",
       "      <td>1.566886e-12</td>\n",
       "      <td>1.973644e-12</td>\n",
       "      <td>4.704766e-13</td>\n",
       "      <td>4.424441e-13</td>\n",
       "      <td>2.410884e-13</td>\n",
       "      <td>2.062135e-13</td>\n",
       "      <td>-4.402034e-13</td>\n",
       "      <td>4.405920e-13</td>\n",
       "    </tr>\n",
       "    <tr>\n",
       "      <th>1</th>\n",
       "      <td>1.193874e-12</td>\n",
       "      <td>1.000000e+03</td>\n",
       "      <td>4.465956e-13</td>\n",
       "      <td>-4.328951e-13</td>\n",
       "      <td>1.238365e-12</td>\n",
       "      <td>3.927543e-13</td>\n",
       "      <td>-2.459259e-13</td>\n",
       "      <td>9.425893e-13</td>\n",
       "      <td>1.362799e-12</td>\n",
       "      <td>5.048739e-13</td>\n",
       "    </tr>\n",
       "    <tr>\n",
       "      <th>2</th>\n",
       "      <td>1.614585e-12</td>\n",
       "      <td>3.954041e-13</td>\n",
       "      <td>1.000000e+03</td>\n",
       "      <td>-3.943976e-14</td>\n",
       "      <td>7.756921e-15</td>\n",
       "      <td>-3.256844e-13</td>\n",
       "      <td>8.850875e-13</td>\n",
       "      <td>-8.340411e-14</td>\n",
       "      <td>3.250733e-13</td>\n",
       "      <td>5.933032e-13</td>\n",
       "    </tr>\n",
       "    <tr>\n",
       "      <th>3</th>\n",
       "      <td>1.980524e-12</td>\n",
       "      <td>-4.376654e-13</td>\n",
       "      <td>-9.869702e-14</td>\n",
       "      <td>1.000000e+03</td>\n",
       "      <td>-5.522832e-13</td>\n",
       "      <td>7.454553e-13</td>\n",
       "      <td>7.034309e-13</td>\n",
       "      <td>5.352422e-13</td>\n",
       "      <td>2.042810e-14</td>\n",
       "      <td>4.836131e-13</td>\n",
       "    </tr>\n",
       "    <tr>\n",
       "      <th>4</th>\n",
       "      <td>4.743130e-13</td>\n",
       "      <td>1.237227e-12</td>\n",
       "      <td>-1.214769e-13</td>\n",
       "      <td>-6.334758e-13</td>\n",
       "      <td>1.000000e+03</td>\n",
       "      <td>1.993751e-12</td>\n",
       "      <td>-4.876598e-13</td>\n",
       "      <td>2.353952e-12</td>\n",
       "      <td>1.215028e-12</td>\n",
       "      <td>1.912248e-12</td>\n",
       "    </tr>\n",
       "    <tr>\n",
       "      <th>5</th>\n",
       "      <td>4.438471e-13</td>\n",
       "      <td>4.027736e-13</td>\n",
       "      <td>-2.712018e-13</td>\n",
       "      <td>7.028230e-13</td>\n",
       "      <td>1.971726e-12</td>\n",
       "      <td>1.000000e+03</td>\n",
       "      <td>-1.748890e-14</td>\n",
       "      <td>7.322187e-13</td>\n",
       "      <td>2.842171e-13</td>\n",
       "      <td>-9.237056e-14</td>\n",
       "    </tr>\n",
       "    <tr>\n",
       "      <th>6</th>\n",
       "      <td>2.416984e-13</td>\n",
       "      <td>-2.363970e-13</td>\n",
       "      <td>8.816225e-13</td>\n",
       "      <td>6.891675e-13</td>\n",
       "      <td>-4.950891e-13</td>\n",
       "      <td>-1.384378e-13</td>\n",
       "      <td>1.000000e+03</td>\n",
       "      <td>-4.588506e-13</td>\n",
       "      <td>-3.126388e-13</td>\n",
       "      <td>-6.181722e-13</td>\n",
       "    </tr>\n",
       "    <tr>\n",
       "      <th>7</th>\n",
       "      <td>2.053900e-13</td>\n",
       "      <td>9.448034e-13</td>\n",
       "      <td>-8.125549e-14</td>\n",
       "      <td>5.560882e-13</td>\n",
       "      <td>2.358866e-12</td>\n",
       "      <td>8.205061e-13</td>\n",
       "      <td>-3.870634e-13</td>\n",
       "      <td>1.000000e+03</td>\n",
       "      <td>3.410605e-13</td>\n",
       "      <td>-4.263256e-13</td>\n",
       "    </tr>\n",
       "    <tr>\n",
       "      <th>8</th>\n",
       "      <td>-4.401859e-13</td>\n",
       "      <td>1.362754e-12</td>\n",
       "      <td>3.309383e-13</td>\n",
       "      <td>2.070794e-14</td>\n",
       "      <td>1.254560e-12</td>\n",
       "      <td>2.071758e-13</td>\n",
       "      <td>-3.130328e-13</td>\n",
       "      <td>3.154448e-13</td>\n",
       "      <td>1.000000e+03</td>\n",
       "      <td>4.547474e-13</td>\n",
       "    </tr>\n",
       "    <tr>\n",
       "      <th>9</th>\n",
       "      <td>4.407484e-13</td>\n",
       "      <td>5.047325e-13</td>\n",
       "      <td>5.944053e-13</td>\n",
       "      <td>4.857925e-13</td>\n",
       "      <td>1.920158e-12</td>\n",
       "      <td>-9.832259e-14</td>\n",
       "      <td>-5.997332e-13</td>\n",
       "      <td>-5.061070e-13</td>\n",
       "      <td>3.410605e-13</td>\n",
       "      <td>1.000000e+03</td>\n",
       "    </tr>\n",
       "  </tbody>\n",
       "</table>\n",
       "</div>"
      ],
      "text/plain": [
       "              0             1             2             3             4  \\\n",
       "0  1.000000e+03  1.084007e-12  1.566886e-12  1.973644e-12  4.704766e-13   \n",
       "1  1.193874e-12  1.000000e+03  4.465956e-13 -4.328951e-13  1.238365e-12   \n",
       "2  1.614585e-12  3.954041e-13  1.000000e+03 -3.943976e-14  7.756921e-15   \n",
       "3  1.980524e-12 -4.376654e-13 -9.869702e-14  1.000000e+03 -5.522832e-13   \n",
       "4  4.743130e-13  1.237227e-12 -1.214769e-13 -6.334758e-13  1.000000e+03   \n",
       "5  4.438471e-13  4.027736e-13 -2.712018e-13  7.028230e-13  1.971726e-12   \n",
       "6  2.416984e-13 -2.363970e-13  8.816225e-13  6.891675e-13 -4.950891e-13   \n",
       "7  2.053900e-13  9.448034e-13 -8.125549e-14  5.560882e-13  2.358866e-12   \n",
       "8 -4.401859e-13  1.362754e-12  3.309383e-13  2.070794e-14  1.254560e-12   \n",
       "9  4.407484e-13  5.047325e-13  5.944053e-13  4.857925e-13  1.920158e-12   \n",
       "\n",
       "              5             6             7             8             9  \n",
       "0  4.424441e-13  2.410884e-13  2.062135e-13 -4.402034e-13  4.405920e-13  \n",
       "1  3.927543e-13 -2.459259e-13  9.425893e-13  1.362799e-12  5.048739e-13  \n",
       "2 -3.256844e-13  8.850875e-13 -8.340411e-14  3.250733e-13  5.933032e-13  \n",
       "3  7.454553e-13  7.034309e-13  5.352422e-13  2.042810e-14  4.836131e-13  \n",
       "4  1.993751e-12 -4.876598e-13  2.353952e-12  1.215028e-12  1.912248e-12  \n",
       "5  1.000000e+03 -1.748890e-14  7.322187e-13  2.842171e-13 -9.237056e-14  \n",
       "6 -1.384378e-13  1.000000e+03 -4.588506e-13 -3.126388e-13 -6.181722e-13  \n",
       "7  8.205061e-13 -3.870634e-13  1.000000e+03  3.410605e-13 -4.263256e-13  \n",
       "8  2.071758e-13 -3.130328e-13  3.154448e-13  1.000000e+03  4.547474e-13  \n",
       "9 -9.832259e-14 -5.997332e-13 -5.061070e-13  3.410605e-13  1.000000e+03  "
      ]
     },
     "execution_count": 198,
     "metadata": {},
     "output_type": "execute_result"
    }
   ],
   "source": [
    "pd.DataFrame(data=Ctilde)"
   ]
  },
  {
   "cell_type": "code",
   "execution_count": 199,
   "metadata": {},
   "outputs": [
    {
     "data": {
      "text/html": [
       "<div>\n",
       "<style scoped>\n",
       "    .dataframe tbody tr th:only-of-type {\n",
       "        vertical-align: middle;\n",
       "    }\n",
       "\n",
       "    .dataframe tbody tr th {\n",
       "        vertical-align: top;\n",
       "    }\n",
       "\n",
       "    .dataframe thead th {\n",
       "        text-align: right;\n",
       "    }\n",
       "</style>\n",
       "<table border=\"1\" class=\"dataframe\">\n",
       "  <thead>\n",
       "    <tr style=\"text-align: right;\">\n",
       "      <th></th>\n",
       "      <th>0</th>\n",
       "      <th>1</th>\n",
       "      <th>2</th>\n",
       "      <th>3</th>\n",
       "      <th>4</th>\n",
       "      <th>5</th>\n",
       "      <th>6</th>\n",
       "      <th>7</th>\n",
       "      <th>8</th>\n",
       "      <th>9</th>\n",
       "    </tr>\n",
       "  </thead>\n",
       "  <tbody>\n",
       "    <tr>\n",
       "      <th>0</th>\n",
       "      <td>8.687611e-01</td>\n",
       "      <td>0.136569</td>\n",
       "      <td>-0.006893</td>\n",
       "      <td>0.001591</td>\n",
       "      <td>-0.000424</td>\n",
       "      <td>0.000145</td>\n",
       "      <td>0.000034</td>\n",
       "      <td>0.000072</td>\n",
       "      <td>3.679347e-07</td>\n",
       "      <td>0.000144</td>\n",
       "    </tr>\n",
       "    <tr>\n",
       "      <th>1</th>\n",
       "      <td>1.365691e-01</td>\n",
       "      <td>0.718858</td>\n",
       "      <td>0.151873</td>\n",
       "      <td>-0.009253</td>\n",
       "      <td>0.002262</td>\n",
       "      <td>-0.000643</td>\n",
       "      <td>0.000213</td>\n",
       "      <td>-0.000004</td>\n",
       "      <td>1.145516e-04</td>\n",
       "      <td>0.000010</td>\n",
       "    </tr>\n",
       "    <tr>\n",
       "      <th>2</th>\n",
       "      <td>-6.893223e-03</td>\n",
       "      <td>0.151873</td>\n",
       "      <td>0.703560</td>\n",
       "      <td>0.158523</td>\n",
       "      <td>-0.009134</td>\n",
       "      <td>0.002411</td>\n",
       "      <td>-0.000723</td>\n",
       "      <td>0.000234</td>\n",
       "      <td>6.576418e-06</td>\n",
       "      <td>0.000142</td>\n",
       "    </tr>\n",
       "    <tr>\n",
       "      <th>3</th>\n",
       "      <td>1.591322e-03</td>\n",
       "      <td>-0.009253</td>\n",
       "      <td>0.158523</td>\n",
       "      <td>0.691416</td>\n",
       "      <td>0.164080</td>\n",
       "      <td>-0.008455</td>\n",
       "      <td>0.002523</td>\n",
       "      <td>-0.000767</td>\n",
       "      <td>2.323749e-04</td>\n",
       "      <td>0.000110</td>\n",
       "    </tr>\n",
       "    <tr>\n",
       "      <th>4</th>\n",
       "      <td>-4.235471e-04</td>\n",
       "      <td>0.002262</td>\n",
       "      <td>-0.009134</td>\n",
       "      <td>0.164080</td>\n",
       "      <td>0.678622</td>\n",
       "      <td>0.170932</td>\n",
       "      <td>-0.008356</td>\n",
       "      <td>0.002581</td>\n",
       "      <td>-7.720279e-04</td>\n",
       "      <td>0.000209</td>\n",
       "    </tr>\n",
       "    <tr>\n",
       "      <th>5</th>\n",
       "      <td>1.451980e-04</td>\n",
       "      <td>-0.000643</td>\n",
       "      <td>0.002411</td>\n",
       "      <td>-0.008455</td>\n",
       "      <td>0.170932</td>\n",
       "      <td>0.662972</td>\n",
       "      <td>0.178148</td>\n",
       "      <td>-0.007421</td>\n",
       "      <td>2.442881e-03</td>\n",
       "      <td>-0.000532</td>\n",
       "    </tr>\n",
       "    <tr>\n",
       "      <th>6</th>\n",
       "      <td>3.408239e-05</td>\n",
       "      <td>0.000213</td>\n",
       "      <td>-0.000723</td>\n",
       "      <td>0.002523</td>\n",
       "      <td>-0.008356</td>\n",
       "      <td>0.178148</td>\n",
       "      <td>0.650542</td>\n",
       "      <td>0.181718</td>\n",
       "      <td>-5.764203e-03</td>\n",
       "      <td>0.001665</td>\n",
       "    </tr>\n",
       "    <tr>\n",
       "      <th>7</th>\n",
       "      <td>7.201898e-05</td>\n",
       "      <td>-0.000004</td>\n",
       "      <td>0.000234</td>\n",
       "      <td>-0.000767</td>\n",
       "      <td>0.002581</td>\n",
       "      <td>-0.007421</td>\n",
       "      <td>0.181718</td>\n",
       "      <td>0.642057</td>\n",
       "      <td>1.849134e-01</td>\n",
       "      <td>-0.003383</td>\n",
       "    </tr>\n",
       "    <tr>\n",
       "      <th>8</th>\n",
       "      <td>3.679347e-07</td>\n",
       "      <td>0.000115</td>\n",
       "      <td>0.000007</td>\n",
       "      <td>0.000232</td>\n",
       "      <td>-0.000772</td>\n",
       "      <td>0.002443</td>\n",
       "      <td>-0.005764</td>\n",
       "      <td>0.184913</td>\n",
       "      <td>6.383790e-01</td>\n",
       "      <td>0.180447</td>\n",
       "    </tr>\n",
       "    <tr>\n",
       "      <th>9</th>\n",
       "      <td>1.436479e-04</td>\n",
       "      <td>0.000010</td>\n",
       "      <td>0.000142</td>\n",
       "      <td>0.000110</td>\n",
       "      <td>0.000209</td>\n",
       "      <td>-0.000532</td>\n",
       "      <td>0.001665</td>\n",
       "      <td>-0.003383</td>\n",
       "      <td>1.804470e-01</td>\n",
       "      <td>0.821187</td>\n",
       "    </tr>\n",
       "  </tbody>\n",
       "</table>\n",
       "</div>"
      ],
      "text/plain": [
       "              0         1         2         3         4         5         6  \\\n",
       "0  8.687611e-01  0.136569 -0.006893  0.001591 -0.000424  0.000145  0.000034   \n",
       "1  1.365691e-01  0.718858  0.151873 -0.009253  0.002262 -0.000643  0.000213   \n",
       "2 -6.893223e-03  0.151873  0.703560  0.158523 -0.009134  0.002411 -0.000723   \n",
       "3  1.591322e-03 -0.009253  0.158523  0.691416  0.164080 -0.008455  0.002523   \n",
       "4 -4.235471e-04  0.002262 -0.009134  0.164080  0.678622  0.170932 -0.008356   \n",
       "5  1.451980e-04 -0.000643  0.002411 -0.008455  0.170932  0.662972  0.178148   \n",
       "6  3.408239e-05  0.000213 -0.000723  0.002523 -0.008356  0.178148  0.650542   \n",
       "7  7.201898e-05 -0.000004  0.000234 -0.000767  0.002581 -0.007421  0.181718   \n",
       "8  3.679347e-07  0.000115  0.000007  0.000232 -0.000772  0.002443 -0.005764   \n",
       "9  1.436479e-04  0.000010  0.000142  0.000110  0.000209 -0.000532  0.001665   \n",
       "\n",
       "          7             8         9  \n",
       "0  0.000072  3.679347e-07  0.000144  \n",
       "1 -0.000004  1.145516e-04  0.000010  \n",
       "2  0.000234  6.576418e-06  0.000142  \n",
       "3 -0.000767  2.323749e-04  0.000110  \n",
       "4  0.002581 -7.720279e-04  0.000209  \n",
       "5 -0.007421  2.442881e-03 -0.000532  \n",
       "6  0.181718 -5.764203e-03  0.001665  \n",
       "7  0.642057  1.849134e-01 -0.003383  \n",
       "8  0.184913  6.383790e-01  0.180447  \n",
       "9 -0.003383  1.804470e-01  0.821187  "
      ]
     },
     "execution_count": 199,
     "metadata": {},
     "output_type": "execute_result"
    }
   ],
   "source": [
    "pd.DataFrame(data=R)"
   ]
  },
  {
   "cell_type": "code",
   "execution_count": 200,
   "metadata": {
    "collapsed": true
   },
   "outputs": [],
   "source": [
    "ftilde = np.dot(R.T,coefs2)"
   ]
  },
  {
   "cell_type": "code",
   "execution_count": 201,
   "metadata": {},
   "outputs": [
    {
     "data": {
      "text/plain": [
       "[<matplotlib.lines.Line2D at 0x1c256f3850>]"
      ]
     },
     "execution_count": 201,
     "metadata": {},
     "output_type": "execute_result"
    },
    {
     "data": {
      "image/png": "[encoded data removed]",
      "text/plain": [
       "<matplotlib.figure.Figure at 0x1c255456d0>"
      ]
     },
     "metadata": {},
     "output_type": "display_data"
    }
   ],
   "source": [
    "plt.plot(ftilde)\n",
    "plt.plot(coefs2)"
   ]
  },
  {
   "cell_type": "code",
   "execution_count": 202,
   "metadata": {},
   "outputs": [
    {
     "name": "stdout",
     "output_type": "stream",
     "text": [
      "6158.30269334\n"
     ]
    },
    {
     "data": {
      "image/png": "[encoded data removed]",
      "text/plain": [
       "<matplotlib.figure.Figure at 0x1c256537d0>"
      ]
     },
     "metadata": {},
     "output_type": "display_data"
    }
   ],
   "source": [
    "res = poisson-np.reshape(np.dot(A,ftilde),subim.shape)\n",
    "plt.imshow(res)\n",
    "plt.colorbar(orientation='horizontal')\n",
    "print np.sum(res**2)"
   ]
  },
  {
   "cell_type": "code",
   "execution_count": 205,
   "metadata": {},
   "outputs": [
    {
     "name": "stdout",
     "output_type": "stream",
     "text": [
      "5983.40627738\n"
     ]
    },
    {
     "data": {
      "image/png": "[encoded data removed]",
      "text/plain": [
       "<matplotlib.figure.Figure at 0x1c245c1090>"
      ]
     },
     "metadata": {},
     "output_type": "display_data"
    }
   ],
   "source": [
    "res = poisson-np.reshape(np.dot(A,coef),subim.shape)\n",
    "plt.imshow(res)\n",
    "plt.colorbar(orientation='horizontal')\n",
    "print np.sum(res**2)"
   ]
  },
  {
   "cell_type": "code",
   "execution_count": 79,
   "metadata": {},
   "outputs": [
    {
     "data": {
      "text/html": [
       "<div>\n",
       "<style scoped>\n",
       "    .dataframe tbody tr th:only-of-type {\n",
       "        vertical-align: middle;\n",
       "    }\n",
       "\n",
       "    .dataframe tbody tr th {\n",
       "        vertical-align: top;\n",
       "    }\n",
       "\n",
       "    .dataframe thead th {\n",
       "        text-align: right;\n",
       "    }\n",
       "</style>\n",
       "<table border=\"1\" class=\"dataframe\">\n",
       "  <thead>\n",
       "    <tr style=\"text-align: right;\">\n",
       "      <th></th>\n",
       "      <th>0</th>\n",
       "      <th>1</th>\n",
       "      <th>2</th>\n",
       "      <th>3</th>\n",
       "      <th>4</th>\n",
       "      <th>5</th>\n",
       "      <th>6</th>\n",
       "      <th>7</th>\n",
       "      <th>8</th>\n",
       "      <th>9</th>\n",
       "    </tr>\n",
       "  </thead>\n",
       "  <tbody>\n",
       "    <tr>\n",
       "      <th>0</th>\n",
       "      <td>1.000000e+03</td>\n",
       "      <td>1.047164e-12</td>\n",
       "      <td>1.542670e-12</td>\n",
       "      <td>1.991906e-12</td>\n",
       "      <td>4.865038e-13</td>\n",
       "      <td>4.442494e-13</td>\n",
       "      <td>2.420484e-13</td>\n",
       "      <td>2.050090e-13</td>\n",
       "      <td>-4.404810e-13</td>\n",
       "      <td>4.401479e-13</td>\n",
       "    </tr>\n",
       "    <tr>\n",
       "      <th>1</th>\n",
       "      <td>1.183358e-12</td>\n",
       "      <td>1.000000e+03</td>\n",
       "      <td>3.873132e-13</td>\n",
       "      <td>-4.613495e-13</td>\n",
       "      <td>1.164422e-12</td>\n",
       "      <td>3.901602e-13</td>\n",
       "      <td>-2.500752e-13</td>\n",
       "      <td>9.494771e-13</td>\n",
       "      <td>1.362466e-12</td>\n",
       "      <td>5.052070e-13</td>\n",
       "    </tr>\n",
       "    <tr>\n",
       "      <th>2</th>\n",
       "      <td>1.591648e-12</td>\n",
       "      <td>3.043960e-13</td>\n",
       "      <td>1.000000e+03</td>\n",
       "      <td>6.667713e-14</td>\n",
       "      <td>2.702058e-13</td>\n",
       "      <td>-3.383922e-13</td>\n",
       "      <td>8.948923e-13</td>\n",
       "      <td>-9.800312e-14</td>\n",
       "      <td>3.308465e-13</td>\n",
       "      <td>5.939693e-13</td>\n",
       "    </tr>\n",
       "    <tr>\n",
       "      <th>3</th>\n",
       "      <td>1.999778e-12</td>\n",
       "      <td>-4.935485e-13</td>\n",
       "      <td>-5.824559e-14</td>\n",
       "      <td>1.000000e+03</td>\n",
       "      <td>-6.077263e-13</td>\n",
       "      <td>4.119348e-13</td>\n",
       "      <td>7.892916e-13</td>\n",
       "      <td>5.280457e-13</td>\n",
       "      <td>3.641532e-14</td>\n",
       "      <td>4.818368e-13</td>\n",
       "    </tr>\n",
       "    <tr>\n",
       "      <th>4</th>\n",
       "      <td>4.862728e-13</td>\n",
       "      <td>1.164545e-12</td>\n",
       "      <td>1.641657e-13</td>\n",
       "      <td>-7.136695e-13</td>\n",
       "      <td>1.000000e+03</td>\n",
       "      <td>1.764369e-12</td>\n",
       "      <td>-3.280897e-13</td>\n",
       "      <td>2.212372e-12</td>\n",
       "      <td>1.261213e-12</td>\n",
       "      <td>1.908695e-12</td>\n",
       "    </tr>\n",
       "    <tr>\n",
       "      <th>5</th>\n",
       "      <td>4.475986e-13</td>\n",
       "      <td>4.012577e-13</td>\n",
       "      <td>-2.678575e-13</td>\n",
       "      <td>3.837688e-13</td>\n",
       "      <td>1.915488e-12</td>\n",
       "      <td>1.000000e+03</td>\n",
       "      <td>1.867192e-13</td>\n",
       "      <td>9.082254e-13</td>\n",
       "      <td>3.268497e-13</td>\n",
       "      <td>-1.154632e-13</td>\n",
       "    </tr>\n",
       "    <tr>\n",
       "      <th>6</th>\n",
       "      <td>2.419082e-13</td>\n",
       "      <td>-2.423133e-13</td>\n",
       "      <td>8.931239e-13</td>\n",
       "      <td>7.634229e-13</td>\n",
       "      <td>-2.714065e-13</td>\n",
       "      <td>7.857264e-14</td>\n",
       "      <td>1.000000e+03</td>\n",
       "      <td>-4.708012e-13</td>\n",
       "      <td>-4.831691e-13</td>\n",
       "      <td>-5.329071e-13</td>\n",
       "    </tr>\n",
       "    <tr>\n",
       "      <th>7</th>\n",
       "      <td>2.044334e-13</td>\n",
       "      <td>9.502762e-13</td>\n",
       "      <td>-9.851634e-14</td>\n",
       "      <td>5.561742e-13</td>\n",
       "      <td>2.221975e-12</td>\n",
       "      <td>9.333929e-13</td>\n",
       "      <td>-3.687920e-13</td>\n",
       "      <td>1.000000e+03</td>\n",
       "      <td>2.842171e-13</td>\n",
       "      <td>-4.973799e-13</td>\n",
       "    </tr>\n",
       "    <tr>\n",
       "      <th>8</th>\n",
       "      <td>-4.399681e-13</td>\n",
       "      <td>1.360916e-12</td>\n",
       "      <td>3.353250e-13</td>\n",
       "      <td>3.126327e-14</td>\n",
       "      <td>1.292535e-12</td>\n",
       "      <td>2.305231e-13</td>\n",
       "      <td>-4.308748e-13</td>\n",
       "      <td>3.055963e-13</td>\n",
       "      <td>1.000000e+03</td>\n",
       "      <td>5.115908e-13</td>\n",
       "    </tr>\n",
       "    <tr>\n",
       "      <th>9</th>\n",
       "      <td>4.407388e-13</td>\n",
       "      <td>5.050290e-13</td>\n",
       "      <td>5.937839e-13</td>\n",
       "      <td>4.820915e-13</td>\n",
       "      <td>1.916001e-12</td>\n",
       "      <td>-1.087304e-13</td>\n",
       "      <td>-5.294150e-13</td>\n",
       "      <td>-5.481175e-13</td>\n",
       "      <td>3.979039e-13</td>\n",
       "      <td>1.000000e+03</td>\n",
       "    </tr>\n",
       "  </tbody>\n",
       "</table>\n",
       "</div>"
      ],
      "text/plain": [
       "              0             1             2             3             4  \\\n",
       "0  1.000000e+03  1.047164e-12  1.542670e-12  1.991906e-12  4.865038e-13   \n",
       "1  1.183358e-12  1.000000e+03  3.873132e-13 -4.613495e-13  1.164422e-12   \n",
       "2  1.591648e-12  3.043960e-13  1.000000e+03  6.667713e-14  2.702058e-13   \n",
       "3  1.999778e-12 -4.935485e-13 -5.824559e-14  1.000000e+03 -6.077263e-13   \n",
       "4  4.862728e-13  1.164545e-12  1.641657e-13 -7.136695e-13  1.000000e+03   \n",
       "5  4.475986e-13  4.012577e-13 -2.678575e-13  3.837688e-13  1.915488e-12   \n",
       "6  2.419082e-13 -2.423133e-13  8.931239e-13  7.634229e-13 -2.714065e-13   \n",
       "7  2.044334e-13  9.502762e-13 -9.851634e-14  5.561742e-13  2.221975e-12   \n",
       "8 -4.399681e-13  1.360916e-12  3.353250e-13  3.126327e-14  1.292535e-12   \n",
       "9  4.407388e-13  5.050290e-13  5.937839e-13  4.820915e-13  1.916001e-12   \n",
       "\n",
       "              5             6             7             8             9  \n",
       "0  4.442494e-13  2.420484e-13  2.050090e-13 -4.404810e-13  4.401479e-13  \n",
       "1  3.901602e-13 -2.500752e-13  9.494771e-13  1.362466e-12  5.052070e-13  \n",
       "2 -3.383922e-13  8.948923e-13 -9.800312e-14  3.308465e-13  5.939693e-13  \n",
       "3  4.119348e-13  7.892916e-13  5.280457e-13  3.641532e-14  4.818368e-13  \n",
       "4  1.764369e-12 -3.280897e-13  2.212372e-12  1.261213e-12  1.908695e-12  \n",
       "5  1.000000e+03  1.867192e-13  9.082254e-13  3.268497e-13 -1.154632e-13  \n",
       "6  7.857264e-14  1.000000e+03 -4.708012e-13 -4.831691e-13 -5.329071e-13  \n",
       "7  9.333929e-13 -3.687920e-13  1.000000e+03  2.842171e-13 -4.973799e-13  \n",
       "8  2.305231e-13 -4.308748e-13  3.055963e-13  1.000000e+03  5.115908e-13  \n",
       "9 -1.087304e-13 -5.294150e-13 -5.481175e-13  3.979039e-13  1.000000e+03  "
      ]
     },
     "execution_count": 79,
     "metadata": {},
     "output_type": "execute_result"
    }
   ],
   "source": [
    "pd.DataFrame(data=Ctilde)"
   ]
  },
  {
   "cell_type": "code",
   "execution_count": 78,
   "metadata": {},
   "outputs": [
    {
     "data": {
      "text/html": [
       "<div>\n",
       "<style scoped>\n",
       "    .dataframe tbody tr th:only-of-type {\n",
       "        vertical-align: middle;\n",
       "    }\n",
       "\n",
       "    .dataframe tbody tr th {\n",
       "        vertical-align: top;\n",
       "    }\n",
       "\n",
       "    .dataframe thead th {\n",
       "        text-align: right;\n",
       "    }\n",
       "</style>\n",
       "<table border=\"1\" class=\"dataframe\">\n",
       "  <thead>\n",
       "    <tr style=\"text-align: right;\">\n",
       "      <th></th>\n",
       "      <th>0</th>\n",
       "      <th>1</th>\n",
       "      <th>2</th>\n",
       "      <th>3</th>\n",
       "      <th>4</th>\n",
       "      <th>5</th>\n",
       "      <th>6</th>\n",
       "      <th>7</th>\n",
       "      <th>8</th>\n",
       "      <th>9</th>\n",
       "    </tr>\n",
       "  </thead>\n",
       "  <tbody>\n",
       "    <tr>\n",
       "      <th>0</th>\n",
       "      <td>7.734472e-04</td>\n",
       "      <td>2.157569e-04</td>\n",
       "      <td>1.015925e-05</td>\n",
       "      <td>5.566459e-08</td>\n",
       "      <td>2.388645e-09</td>\n",
       "      <td>3.760930e-08</td>\n",
       "      <td>1.326292e-07</td>\n",
       "      <td>1.090138e-07</td>\n",
       "      <td>5.624654e-08</td>\n",
       "      <td>2.430884e-07</td>\n",
       "    </tr>\n",
       "    <tr>\n",
       "      <th>1</th>\n",
       "      <td>2.157569e-04</td>\n",
       "      <td>5.585638e-04</td>\n",
       "      <td>2.135959e-04</td>\n",
       "      <td>1.162064e-05</td>\n",
       "      <td>8.647409e-08</td>\n",
       "      <td>1.094544e-09</td>\n",
       "      <td>2.859788e-08</td>\n",
       "      <td>1.174503e-07</td>\n",
       "      <td>1.509469e-07</td>\n",
       "      <td>7.810491e-08</td>\n",
       "    </tr>\n",
       "    <tr>\n",
       "      <th>2</th>\n",
       "      <td>1.015925e-05</td>\n",
       "      <td>2.135959e-04</td>\n",
       "      <td>5.433293e-04</td>\n",
       "      <td>2.181984e-04</td>\n",
       "      <td>1.415082e-05</td>\n",
       "      <td>1.644270e-07</td>\n",
       "      <td>1.144279e-09</td>\n",
       "      <td>2.049863e-08</td>\n",
       "      <td>1.491961e-07</td>\n",
       "      <td>2.309696e-07</td>\n",
       "    </tr>\n",
       "    <tr>\n",
       "      <th>3</th>\n",
       "      <td>5.566459e-08</td>\n",
       "      <td>1.162064e-05</td>\n",
       "      <td>2.181984e-04</td>\n",
       "      <td>5.302746e-04</td>\n",
       "      <td>2.218581e-04</td>\n",
       "      <td>1.743905e-05</td>\n",
       "      <td>2.507104e-07</td>\n",
       "      <td>1.135271e-09</td>\n",
       "      <td>2.505959e-08</td>\n",
       "      <td>2.765784e-07</td>\n",
       "    </tr>\n",
       "    <tr>\n",
       "      <th>4</th>\n",
       "      <td>2.388645e-09</td>\n",
       "      <td>8.647409e-08</td>\n",
       "      <td>1.415082e-05</td>\n",
       "      <td>2.218581e-04</td>\n",
       "      <td>5.168332e-04</td>\n",
       "      <td>2.264001e-04</td>\n",
       "      <td>2.023953e-05</td>\n",
       "      <td>3.500155e-07</td>\n",
       "      <td>2.217204e-09</td>\n",
       "      <td>7.705220e-08</td>\n",
       "    </tr>\n",
       "    <tr>\n",
       "      <th>5</th>\n",
       "      <td>3.760930e-08</td>\n",
       "      <td>1.094544e-09</td>\n",
       "      <td>1.644270e-07</td>\n",
       "      <td>1.743905e-05</td>\n",
       "      <td>2.264001e-04</td>\n",
       "      <td>5.006253e-04</td>\n",
       "      <td>2.311844e-04</td>\n",
       "      <td>2.358952e-05</td>\n",
       "      <td>5.499433e-07</td>\n",
       "      <td>8.529147e-09</td>\n",
       "    </tr>\n",
       "    <tr>\n",
       "      <th>6</th>\n",
       "      <td>1.326292e-07</td>\n",
       "      <td>2.859788e-08</td>\n",
       "      <td>1.144279e-09</td>\n",
       "      <td>2.507104e-07</td>\n",
       "      <td>2.023953e-05</td>\n",
       "      <td>2.311844e-04</td>\n",
       "      <td>4.880761e-04</td>\n",
       "      <td>2.324718e-04</td>\n",
       "      <td>2.691534e-05</td>\n",
       "      <td>6.998262e-07</td>\n",
       "    </tr>\n",
       "    <tr>\n",
       "      <th>7</th>\n",
       "      <td>1.090138e-07</td>\n",
       "      <td>1.174503e-07</td>\n",
       "      <td>2.049863e-08</td>\n",
       "      <td>1.135271e-09</td>\n",
       "      <td>3.500155e-07</td>\n",
       "      <td>2.358952e-05</td>\n",
       "      <td>2.324718e-04</td>\n",
       "      <td>4.795250e-04</td>\n",
       "      <td>2.350915e-04</td>\n",
       "      <td>2.872404e-05</td>\n",
       "    </tr>\n",
       "    <tr>\n",
       "      <th>8</th>\n",
       "      <td>5.624654e-08</td>\n",
       "      <td>1.509469e-07</td>\n",
       "      <td>1.491961e-07</td>\n",
       "      <td>2.505959e-08</td>\n",
       "      <td>2.217204e-09</td>\n",
       "      <td>5.499433e-07</td>\n",
       "      <td>2.691534e-05</td>\n",
       "      <td>2.350915e-04</td>\n",
       "      <td>4.743217e-04</td>\n",
       "      <td>2.627378e-04</td>\n",
       "    </tr>\n",
       "    <tr>\n",
       "      <th>9</th>\n",
       "      <td>2.430884e-07</td>\n",
       "      <td>7.810491e-08</td>\n",
       "      <td>2.309696e-07</td>\n",
       "      <td>2.765784e-07</td>\n",
       "      <td>7.705220e-08</td>\n",
       "      <td>8.529147e-09</td>\n",
       "      <td>6.998262e-07</td>\n",
       "      <td>2.872404e-05</td>\n",
       "      <td>2.627378e-04</td>\n",
       "      <td>7.069240e-04</td>\n",
       "    </tr>\n",
       "  </tbody>\n",
       "</table>\n",
       "</div>"
      ],
      "text/plain": [
       "              0             1             2             3             4  \\\n",
       "0  7.734472e-04  2.157569e-04  1.015925e-05  5.566459e-08  2.388645e-09   \n",
       "1  2.157569e-04  5.585638e-04  2.135959e-04  1.162064e-05  8.647409e-08   \n",
       "2  1.015925e-05  2.135959e-04  5.433293e-04  2.181984e-04  1.415082e-05   \n",
       "3  5.566459e-08  1.162064e-05  2.181984e-04  5.302746e-04  2.218581e-04   \n",
       "4  2.388645e-09  8.647409e-08  1.415082e-05  2.218581e-04  5.168332e-04   \n",
       "5  3.760930e-08  1.094544e-09  1.644270e-07  1.743905e-05  2.264001e-04   \n",
       "6  1.326292e-07  2.859788e-08  1.144279e-09  2.507104e-07  2.023953e-05   \n",
       "7  1.090138e-07  1.174503e-07  2.049863e-08  1.135271e-09  3.500155e-07   \n",
       "8  5.624654e-08  1.509469e-07  1.491961e-07  2.505959e-08  2.217204e-09   \n",
       "9  2.430884e-07  7.810491e-08  2.309696e-07  2.765784e-07  7.705220e-08   \n",
       "\n",
       "              5             6             7             8             9  \n",
       "0  3.760930e-08  1.326292e-07  1.090138e-07  5.624654e-08  2.430884e-07  \n",
       "1  1.094544e-09  2.859788e-08  1.174503e-07  1.509469e-07  7.810491e-08  \n",
       "2  1.644270e-07  1.144279e-09  2.049863e-08  1.491961e-07  2.309696e-07  \n",
       "3  1.743905e-05  2.507104e-07  1.135271e-09  2.505959e-08  2.765784e-07  \n",
       "4  2.264001e-04  2.023953e-05  3.500155e-07  2.217204e-09  7.705220e-08  \n",
       "5  5.006253e-04  2.311844e-04  2.358952e-05  5.499433e-07  8.529147e-09  \n",
       "6  2.311844e-04  4.880761e-04  2.324718e-04  2.691534e-05  6.998262e-07  \n",
       "7  2.358952e-05  2.324718e-04  4.795250e-04  2.350915e-04  2.872404e-05  \n",
       "8  5.499433e-07  2.691534e-05  2.350915e-04  4.743217e-04  2.627378e-04  \n",
       "9  8.529147e-09  6.998262e-07  2.872404e-05  2.627378e-04  7.069240e-04  "
      ]
     },
     "execution_count": 78,
     "metadata": {},
     "output_type": "execute_result"
    }
   ],
   "source": [
    "pd.DataFrame(data=np.dot(R.T,np.dot(Ctilde_inv,R)))"
   ]
  },
  {
   "cell_type": "code",
   "execution_count": 98,
   "metadata": {},
   "outputs": [
    {
     "name": "stdout",
     "output_type": "stream",
     "text": [
      "Expected SNR: 31.6227766017\n",
      "Estimated SNR: 30.9676343937\n",
      "Mean: 999.641133786\n",
      "Std: 32.280190378\n"
     ]
    },
    {
     "data": {
      "image/png": "[encoded data removed]",
      "text/plain": [
       "<matplotlib.figure.Figure at 0x10efe5d90>"
      ]
     },
     "metadata": {},
     "output_type": "display_data"
    },
    {
     "data": {
      "image/png": "[encoded data removed]",
      "text/plain": [
       "<matplotlib.figure.Figure at 0x1051c2c50>"
      ]
     },
     "metadata": {},
     "output_type": "display_data"
    },
    {
     "data": {
      "image/png": "[encoded data removed]",
      "text/plain": [
       "<matplotlib.figure.Figure at 0x1c1f59cc90>"
      ]
     },
     "metadata": {},
     "output_type": "display_data"
    }
   ],
   "source": [
    "subim = psflet_subarr[4]#np.sum(psflet_subarr,axis=0)\n",
    "# subim = np.sum(psflet_subarr,axis=0)\n",
    "sumpsflets = subim+1e-10\n",
    "Nelec = 1000\n",
    "Niter = 10000\n",
    "vals = np.zeros((10,Niter))\n",
    "for i in range(Niter):\n",
    "    poisson = np.random.poisson(subim*Nelec)\n",
    "    subim_flat = np.reshape(poisson/np.sqrt(sumpsflets), -1)\n",
    "    psflets_flat = np.reshape(psflet_subarr, (psflet_subarr.shape[0], -1))\n",
    "    sumpsflets_flat = np.reshape(sumpsflets,-1)\n",
    "    vals[:,i] = np.linalg.lstsq(psflets_flat.T/(np.sqrt(sumpsflets_flat[:,np.newaxis])), subim_flat)[0]\n",
    "estSNR = np.mean(vals,axis=1)/np.std(vals,axis=1)\n",
    "plt.figure()\n",
    "plt.imshow(poisson)\n",
    "plt.figure()\n",
    "plt.plot(estSNR)\n",
    "plt.title('SNR')\n",
    "print \"Expected SNR:\",np.sqrt(Nelec)\n",
    "print \"Estimated SNR:\",estSNR[4]\n",
    "\n",
    "plt.figure()\n",
    "plt.plot(vals[4])\n",
    "plt.title('Extraction results')\n",
    "\n",
    "print 'Mean:',np.mean(vals[4])\n",
    "print 'Std:',np.std(vals[4])"
   ]
  },
  {
   "cell_type": "code",
   "execution_count": 76,
   "metadata": {},
   "outputs": [
    {
     "data": {
      "text/plain": [
       "(150, 10)"
      ]
     },
     "execution_count": 76,
     "metadata": {},
     "output_type": "execute_result"
    }
   ],
   "source": [
    "subim[np.newaxis,:].shape\n",
    "psflets_flat.T.shape"
   ]
  },
  {
   "cell_type": "code",
   "execution_count": 277,
   "metadata": {
    "collapsed": true
   },
   "outputs": [],
   "source": [
    "# subim = psflet_subarr[3]+psflet_subarr[4]+psflet_subarr[5]\n",
    "# sumpsflets = psflet_subarr[3]+psflet_subarr[4]+psflet_subarr[5]+1e-10\n",
    "def calcSNR(Nelec,subim,psflet_subarr,pixnoise=0,npix=0,Niter=10000,plot=True):\n",
    "    #sumpsflets = subim*Nelec+pixnoise+1e-10\n",
    "    vals = np.zeros((10,Niter))\n",
    "    for i in range(Niter):\n",
    "        # subtract mean of background (assumed known)\n",
    "        img = np.random.poisson(subim*Nelec)+np.random.poisson(pixnoise,subim.shape)-pixnoise\n",
    "#         subim_flat = np.reshape(img/np.sqrt(sumpsflets), -1)\n",
    "#         psflets_flat = np.reshape(psflet_subarr, (psflet_subarr.shape[0], -1))\n",
    "#         sumpsflets_flat = np.reshape(sumpsflets,-1)\n",
    "#         vals[:,i] = np.linalg.lstsq(psflets_flat.T/(np.sqrt(sumpsflets_flat[:,np.newaxis])), subim_flat)[0]\n",
    "        x = np.reshape(img,-1)\n",
    "        psflets_flat = np.reshape(psflet_subarr, (psflet_subarr.shape[0], -1))\n",
    "        variance = np.reshape(img+pixnoise+1,-1)\n",
    "        A = psflets_flat.T\n",
    "        Ninv = np.linalg.inv(np.diag(variance))\n",
    "        right = np.dot(np.transpose(A),np.dot(Ninv,x))\n",
    "        Cinv = np.dot(np.transpose(A),np.dot(Ninv,A))\n",
    "        C = np.linalg.inv(Cinv)\n",
    "        f = np.dot(C,right)\n",
    "        Q = sp.linalg.sqrtm(Cinv)\n",
    "        s = np.sum(Q,axis=1)\n",
    "        R = Q/s[np.newaxis,:]\n",
    "        Ctilde_inv = np.diag(s**2)\n",
    "        Ctilde = np.dot(np.dot(R,C),R.T)\n",
    "        vals[:,i] = np.dot(R,f)\n",
    "\n",
    "    estSNR = np.mean(vals,axis=1)/np.std(vals,axis=1)\n",
    "    if plot:\n",
    "        plt.figure()\n",
    "        plt.imshow(img)\n",
    "        plt.colorbar(orientation='horizontal')\n",
    "        plt.figure()\n",
    "        plt.plot(estSNR)\n",
    "        plt.title('SNR')\n",
    "        SNR = Nelec/(np.sqrt(Nelec+npix*pixnoise))\n",
    "        print \"Expected SNR:\",SNR\n",
    "        print \"Estimated SNR:\",estSNR[4]\n",
    "        print \"Change:\",100*(SNR-estSNR[4])/SNR,\"%\"\n",
    "\n",
    "        plt.figure()\n",
    "        plt.plot(vals[4])\n",
    "        plt.title('Extraction results')\n",
    "\n",
    "        print 'Mean:',np.mean(vals[4])\n",
    "        print 'Std:',np.std(vals[4])\n",
    "    return estSNR,vals"
   ]
  },
  {
   "cell_type": "code",
   "execution_count": 156,
   "metadata": {
    "collapsed": true
   },
   "outputs": [],
   "source": [
    "Nelec = 1000"
   ]
  },
  {
   "cell_type": "code",
   "execution_count": 97,
   "metadata": {},
   "outputs": [
    {
     "name": "stdout",
     "output_type": "stream",
     "text": [
      "Expected SNR: 31.6227766017\n",
      "Estimated SNR: 30.7577016161\n",
      "Change: 2.7356073013 %\n",
      "Mean: 796.608025005\n",
      "Std: 25.899465277\n"
     ]
    },
    {
     "data": {
      "text/plain": [
       "array([  2.57132442e-02,   1.10545907e-02,   4.42679633e-01,\n",
       "         2.30761283e+01,   3.07577016e+01,   2.69894946e+01,\n",
       "         3.18068080e-01,  -1.43264083e-02,   1.21083747e-02,\n",
       "         4.26662721e-03])"
      ]
     },
     "execution_count": 97,
     "metadata": {},
     "output_type": "execute_result"
    },
    {
     "data": {
      "image/png": "[encoded data removed]",
      "text/plain": [
       "<matplotlib.figure.Figure at 0x1c23c5bd50>"
      ]
     },
     "metadata": {},
     "output_type": "display_data"
    },
    {
     "data": {
      "image/png": "[encoded data removed]",
      "text/plain": [
       "<matplotlib.figure.Figure at 0x1c2445ebd0>"
      ]
     },
     "metadata": {},
     "output_type": "display_data"
    },
    {
     "data": {
      "image/png": "[encoded data removed]",
      "text/plain": [
       "<matplotlib.figure.Figure at 0x1c244a9c10>"
      ]
     },
     "metadata": {},
     "output_type": "display_data"
    }
   ],
   "source": [
    "subim = psflet_subarr[4]\n",
    "calcSNR(Nelec=Nelec,\n",
    "        subim=subim,\n",
    "        psflet_subarr=psflet_subarr,\n",
    "        pixnoise=0,\n",
    "        npix=0,\n",
    "        plot=True)\n"
   ]
  },
  {
   "cell_type": "code",
   "execution_count": 98,
   "metadata": {},
   "outputs": [
    {
     "name": "stdout",
     "output_type": "stream",
     "text": [
      "Expected SNR: 31.6227766017\n",
      "Estimated SNR: 30.2364911003\n",
      "Change: 4.38381967158 %\n",
      "Mean: 965.720605249\n",
      "Std: 31.938911233\n"
     ]
    },
    {
     "data": {
      "text/plain": [
       "array([  4.41647161e-03,   3.61707089e-01,   2.22621102e+01,\n",
       "         3.20128514e+01,   3.02364911e+01,   3.19807643e+01,\n",
       "         2.30514677e+01,   8.38364765e-01,  -1.40290249e-02,\n",
       "         3.04891060e-02])"
      ]
     },
     "execution_count": 98,
     "metadata": {},
     "output_type": "execute_result"
    },
    {
     "data": {
      "image/png": "[encoded data removed]",
      "text/plain": [
       "<matplotlib.figure.Figure at 0x1c24476a50>"
      ]
     },
     "metadata": {},
     "output_type": "display_data"
    },
    {
     "data": {
      "image/png": "[encoded data removed]",
      "text/plain": [
       "<matplotlib.figure.Figure at 0x1c24f53c50>"
      ]
     },
     "metadata": {},
     "output_type": "display_data"
    },
    {
     "data": {
      "image/png": "[encoded data removed]",
      "text/plain": [
       "<matplotlib.figure.Figure at 0x1c24fab090>"
      ]
     },
     "metadata": {},
     "output_type": "display_data"
    }
   ],
   "source": [
    "subim = psflet_subarr[3]+psflet_subarr[4]+psflet_subarr[5]\n",
    "calcSNR(Nelec=Nelec,\n",
    "        subim=subim,\n",
    "        psflet_subarr=psflet_subarr,\n",
    "        pixnoise=0,\n",
    "        npix=0,\n",
    "        plot=True)\n"
   ]
  },
  {
   "cell_type": "code",
   "execution_count": 279,
   "metadata": {},
   "outputs": [
    {
     "name": "stdout",
     "output_type": "stream",
     "text": [
      "Expected SNR: 10.0\n",
      "Estimated SNR: 9.98081149587\n",
      "Change: 0.191885041347 %\n",
      "Mean: 93.9804129338\n",
      "Std: 9.41610939879\n"
     ]
    },
    {
     "data": {
      "image/png": "[encoded data removed]",
      "text/plain": [
       "<matplotlib.figure.Figure at 0x1c260f2a50>"
      ]
     },
     "metadata": {},
     "output_type": "display_data"
    },
    {
     "data": {
      "image/png": "[encoded data removed]",
      "text/plain": [
       "<matplotlib.figure.Figure at 0x1c27d84910>"
      ]
     },
     "metadata": {},
     "output_type": "display_data"
    },
    {
     "data": {
      "image/png": "[encoded data removed]",
      "text/plain": [
       "<matplotlib.figure.Figure at 0x1c252486d0>"
      ]
     },
     "metadata": {},
     "output_type": "display_data"
    }
   ],
   "source": [
    "subim = np.sum(psflet_subarr,axis=0)\n",
    "est,vals = calcSNR(Nelec=100,\n",
    "        subim=subim,\n",
    "        psflet_subarr=psflet_subarr,\n",
    "        pixnoise=0,\n",
    "        npix=0,\n",
    "        plot=True)\n",
    "\n"
   ]
  },
  {
   "cell_type": "code",
   "execution_count": 207,
   "metadata": {},
   "outputs": [
    {
     "data": {
      "text/plain": [
       "[<matplotlib.lines.Line2D at 0x10e693bd0>,\n",
       " <matplotlib.lines.Line2D at 0x10e693c90>,\n",
       " <matplotlib.lines.Line2D at 0x10e693d50>,\n",
       " <matplotlib.lines.Line2D at 0x10e693e10>,\n",
       " <matplotlib.lines.Line2D at 0x10e693ed0>,\n",
       " <matplotlib.lines.Line2D at 0x10e693f90>,\n",
       " <matplotlib.lines.Line2D at 0x10e6a0090>,\n",
       " <matplotlib.lines.Line2D at 0x10e6a0150>,\n",
       " <matplotlib.lines.Line2D at 0x10e6a0210>,\n",
       " <matplotlib.lines.Line2D at 0x10e6a02d0>]"
      ]
     },
     "execution_count": 207,
     "metadata": {},
     "output_type": "execute_result"
    },
    {
     "data": {
      "image/png": "[encoded data removed]",
      "text/plain": [
       "<matplotlib.figure.Figure at 0x1c24ec9590>"
      ]
     },
     "metadata": {},
     "output_type": "display_data"
    }
   ],
   "source": [
    "plt.plot(vals[:,500:510])"
   ]
  },
  {
   "cell_type": "code",
   "execution_count": 172,
   "metadata": {},
   "outputs": [
    {
     "name": "stdout",
     "output_type": "stream",
     "text": [
      "Expected SNR: 9.53462589246\n",
      "Estimated SNR: 6.88169078276\n",
      "Change: 27.8242181667 %\n",
      "Mean: 1000.24890453\n",
      "Std: 145.349295124\n"
     ]
    },
    {
     "data": {
      "text/plain": [
       "array([ -1.16564273e-02,   9.98796925e-03,  -1.34675929e-02,\n",
       "        -1.03571127e-02,   6.88169078e+00,   1.23015588e-02,\n",
       "         3.05834008e-03,  -8.97785608e-03,   1.35429766e-02,\n",
       "        -1.03598799e-02])"
      ]
     },
     "execution_count": 172,
     "metadata": {},
     "output_type": "execute_result"
    },
    {
     "data": {
      "image/png": "[encoded data removed]",
      "text/plain": [
       "<matplotlib.figure.Figure at 0x1c178dc4d0>"
      ]
     },
     "metadata": {},
     "output_type": "display_data"
    },
    {
     "data": {
      "image/png": "[encoded data removed]",
      "text/plain": [
       "<matplotlib.figure.Figure at 0x1c19dcd790>"
      ]
     },
     "metadata": {},
     "output_type": "display_data"
    },
    {
     "data": {
      "image/png": "[encoded data removed]",
      "text/plain": [
       "<matplotlib.figure.Figure at 0x1c19af0550>"
      ]
     },
     "metadata": {},
     "output_type": "display_data"
    }
   ],
   "source": [
    "subim = psflet_subarr[4]\n",
    "calcSNR(Nelec=Nelec,\n",
    "        subim=subim,\n",
    "        psflet_subarr=psflet_subarr,\n",
    "        pixnoise=1000,\n",
    "        npix=10,\n",
    "        plot=True)\n"
   ]
  },
  {
   "cell_type": "markdown",
   "metadata": {},
   "source": [
    "This is the main function that suggests that an npix of ~6 is appropriate for the regime we are in (<1000 electrons)"
   ]
  },
  {
   "cell_type": "code",
   "execution_count": 208,
   "metadata": {},
   "outputs": [
    {
     "data": {
      "text/plain": [
       "[<matplotlib.lines.Line2D at 0x10e301950>]"
      ]
     },
     "execution_count": 208,
     "metadata": {},
     "output_type": "execute_result"
    },
    {
     "data": {
      "image/png": "[encoded data removed]",
      "text/plain": [
       "<matplotlib.figure.Figure at 0x10e3018d0>"
      ]
     },
     "metadata": {},
     "output_type": "display_data"
    }
   ],
   "source": [
    "noiselist = np.arange(0,1000,100)  # mean number of electrons from background\n",
    "estvals = []\n",
    "compvals = []\n",
    "npix = 6\n",
    "Nelec=2000\n",
    "for val in noiselist:\n",
    "#     subim = psflet_subarr[4]\n",
    "    subim = np.sum(psflet_subarr,axis=0)\n",
    "    estSNR = calcSNR(Nelec=Nelec,\n",
    "        subim=subim,\n",
    "        psflet_subarr=psflet_subarr,\n",
    "        pixnoise=val,\n",
    "        npix=npix,\n",
    "        plot=False)\n",
    "    estvals.append(estSNR[4])\n",
    "    compvals.append(Nelec/(np.sqrt(Nelec+npix*val)))\n",
    "plt.plot(noiselist,estvals)\n",
    "plt.plot(noiselist,np.array(compvals)*0.54)"
   ]
  },
  {
   "cell_type": "markdown",
   "metadata": {},
   "source": [
    "### Here we try to calculate the overlap fraction of two neighboring PSFs"
   ]
  },
  {
   "cell_type": "code",
   "execution_count": 188,
   "metadata": {},
   "outputs": [
    {
     "data": {
      "text/plain": [
       "0.081430537510390921"
      ]
     },
     "execution_count": 188,
     "metadata": {},
     "output_type": "execute_result"
    }
   ],
   "source": [
    "np.sum(psflet_subarr[4]*psflet_subarr[5]+psflet_subarr[4]*psflet_subarr[3])"
   ]
  },
  {
   "cell_type": "code",
   "execution_count": 191,
   "metadata": {},
   "outputs": [
    {
     "data": {
      "text/plain": [
       "<matplotlib.image.AxesImage at 0x10deb90d0>"
      ]
     },
     "execution_count": 191,
     "metadata": {},
     "output_type": "execute_result"
    },
    {
     "data": {
      "image/png": "[encoded data removed]",
      "text/plain": [
       "<matplotlib.figure.Figure at 0x10c706850>"
      ]
     },
     "metadata": {},
     "output_type": "display_data"
    },
    {
     "data": {
      "image/png": "[encoded data removed]",
      "text/plain": [
       "<matplotlib.figure.Figure at 0x10c730ed0>"
      ]
     },
     "metadata": {},
     "output_type": "display_data"
    }
   ],
   "source": [
    "plt.figure()\n",
    "plt.imshow(psflet_subarr[4])\n",
    "plt.figure()\n",
    "\n",
    "plt.imshow(psflet_subarr[3])\n"
   ]
  },
  {
   "cell_type": "code",
   "execution_count": 204,
   "metadata": {},
   "outputs": [
    {
     "name": "stdout",
     "output_type": "stream",
     "text": [
      "0.402294711401\n",
      "0.810877565754\n"
     ]
    },
    {
     "data": {
      "text/plain": [
       "<matplotlib.colorbar.Colorbar at 0x10e97abd0>"
      ]
     },
     "execution_count": 204,
     "metadata": {},
     "output_type": "execute_result"
    },
    {
     "data": {
      "image/png": "[encoded data removed]",
      "text/plain": [
       "<matplotlib.figure.Figure at 0x10e86ef10>"
      ]
     },
     "metadata": {},
     "output_type": "display_data"
    }
   ],
   "source": [
    "print np.sum(np.minimum(psflet_subarr[4],psflet_subarr[3])+np.minimum(psflet_subarr[4],psflet_subarr[6]))\n",
    "val=0\n",
    "img=np.zeros_like(subim)\n",
    "for i in range(10):\n",
    "    if i!=4:\n",
    "        img += np.minimum(psflet_subarr[4],psflet_subarr[i])\n",
    "        val+=np.sum(np.minimum(psflet_subarr[4],psflet_subarr[i]))\n",
    "print val\n",
    "plt.imshow(img)\n",
    "plt.colorbar()\n"
   ]
  },
  {
   "cell_type": "code",
   "execution_count": 2,
   "metadata": {},
   "outputs": [
    {
     "name": "stdout",
     "output_type": "stream",
     "text": [
      "crispy - INFO - Read data from HDU 0 of ..//ReferenceFiles/wavecalR50_660/polychromeR50stack.fits\n",
      "crispy - INFO - Reduced cube will have 19 wavelength bins\n",
      "crispy - WARNING - No PSFLet widths found - assuming critical samping at central wavelength\n"
     ]
    }
   ],
   "source": [
    "from crispy.unitTests import testOptExt\n",
    "im = Image(filename = par.wavecalDir + 'polychromeR%dstack.fits' % (par.R))\n",
    "spec,var = testOptExt(par,im,54,54,smoothandmask=False)"
   ]
  },
  {
   "cell_type": "code",
   "execution_count": 5,
   "metadata": {},
   "outputs": [
    {
     "data": {
      "text/plain": [
       "[<matplotlib.lines.Line2D at 0x1c0a9bb310>]"
      ]
     },
     "execution_count": 5,
     "metadata": {},
     "output_type": "execute_result"
    },
    {
     "data": {
      "image/png": "[encoded data removed]",
      "text/plain": [
       "<matplotlib.figure.Figure at 0x1c0aae6610>"
      ]
     },
     "metadata": {},
     "output_type": "display_data"
    }
   ],
   "source": [
    "plt.plot(spec)"
   ]
  },
  {
   "cell_type": "code",
   "execution_count": 116,
   "metadata": {},
   "outputs": [
    {
     "name": "stdout",
     "output_type": "stream",
     "text": [
      "[  0.   1.   2.   3.   4.   5.   6.   7.   8.   9.  10.  11.  12.  13.  14.\n",
      "  15.  16.  17.  18.  19.  20.  21.  22.  23.  24.  25.] [ 2.48430467  2.4846161   2.48488505  2.48511378  2.48530457  2.48545978\n",
      "  2.48558134  2.48567283  2.4857371   2.48577668  2.48579567  2.48579714\n",
      "  2.48578521  2.48576374  2.48573718  2.48571006  2.48568725  2.48567393\n",
      "  2.48567578  2.48569841  2.485748    2.48583112  2.48595499  2.48612681\n",
      "  2.48635425  2.48664551] [ 576.74744611  582.56776822  588.44268775  594.37264881  600.35835049\n",
      "  606.40062819  612.50047722  618.66004432  624.87883289  631.15786097\n",
      "  637.49968826  643.90332588  650.37139018  656.90367092  663.50229484\n",
      "  670.16694683  676.90053916  683.70230327  690.57396904  697.51721008\n",
      "  704.53206937  711.61970547  718.78123942  726.01815774  733.33105824\n",
      "  740.72074028  748.18813204  755.7341012 ]\n"
     ]
    }
   ],
   "source": [
    "from crispy.tools.locate_psflets import PSFLets\n",
    "PSFlet_tool = PSFLets(load=True, infiledir=par.wavecalDir)\n",
    "i=54\n",
    "j=54\n",
    "xindx = PSFlet_tool.xindx\n",
    "yindx = PSFlet_tool.yindx\n",
    "Nmax = PSFlet_tool.nlam_max\n",
    "\n",
    "\n",
    "_x = xindx[i, j, :PSFlet_tool.nlam[i, j]]\n",
    "_y = yindx[i, j, :PSFlet_tool.nlam[i, j]]\n",
    "_lam = PSFlet_tool.lam_indx[i, j, :PSFlet_tool.nlam[i, j]]\n",
    "X = _x-y0\n",
    "X = X[1:-1]\n",
    "Y = _y-x0\n",
    "Y = Y[1:-1]\n",
    "lam = _lam[1:-1]\n",
    "print X,Y,_lam"
   ]
  },
  {
   "cell_type": "code",
   "execution_count": 117,
   "metadata": {},
   "outputs": [
    {
     "name": "stdout",
     "output_type": "stream",
     "text": [
      "0.0446018525614\n",
      "3.27742529873\n",
      "57.1886856588\n",
      "267.776676199\n",
      "464.059651946\n",
      "503.382148237\n",
      "517.63097062\n",
      "520.938413141\n",
      "524.682808036\n",
      "534.528985074\n",
      "535.782353331\n",
      "542.845373307\n",
      "547.14135606\n",
      "550.165539601\n",
      "554.385271925\n",
      "557.797197134\n",
      "563.948038094\n",
      "580.779276101\n",
      "582.289961553\n",
      "586.381659471\n",
      "538.023559796\n",
      "337.269050645\n",
      "108.522932829\n",
      "14.2039514417\n",
      "0.670589282647\n"
     ]
    }
   ],
   "source": [
    "subim = np.sum(psflet_subarr,axis=0)\n",
    "subim*=1000\n",
    "spec = np.zeros(subim.shape[1])\n",
    "subim_res = subim.copy()\n",
    "sig = 2./2.35*lam/par.FWHMlam\n",
    "y = np.mean(Y)                  \n",
    "for i in range(subim.shape[1]):\n",
    "    weights = np.exp(-(np.arange(subim.shape[0])-y)**2/2./sig[i]**2)/sig[i]/np.sqrt(2.*np.pi)\n",
    "    spec[i] = np.sum(subim[:,i]*weights)/np.sum(weights**2)\n",
    "    subim_res[:,i] -= spec[i]*weights\n",
    "    print spec[i]"
   ]
  },
  {
   "cell_type": "code",
   "execution_count": 120,
   "metadata": {},
   "outputs": [
    {
     "data": {
      "text/plain": [
       "<matplotlib.colorbar.Colorbar at 0x1c1739d710>"
      ]
     },
     "execution_count": 120,
     "metadata": {},
     "output_type": "execute_result"
    },
    {
     "data": {
      "image/png": "[encoded data removed]",
      "text/plain": [
       "<matplotlib.figure.Figure at 0x1c17087950>"
      ]
     },
     "metadata": {},
     "output_type": "display_data"
    }
   ],
   "source": [
    "plt.imshow(subim)\n",
    "plt.colorbar(orientation='horizontal')"
   ]
  },
  {
   "cell_type": "code",
   "execution_count": 119,
   "metadata": {},
   "outputs": [
    {
     "data": {
      "text/plain": [
       "<matplotlib.colorbar.Colorbar at 0x1c1707ac90>"
      ]
     },
     "execution_count": 119,
     "metadata": {},
     "output_type": "execute_result"
    },
    {
     "data": {
      "image/png": "[encoded data removed]",
      "text/plain": [
       "<matplotlib.figure.Figure at 0x1c16fb1e10>"
      ]
     },
     "metadata": {},
     "output_type": "display_data"
    }
   ],
   "source": [
    "plt.figure(figsize=(10,5))\n",
    "plt.imshow(subim_res)\n",
    "plt.colorbar(orientation='horizontal')"
   ]
  },
  {
   "cell_type": "code",
   "execution_count": 200,
   "metadata": {
    "collapsed": true
   },
   "outputs": [],
   "source": [
    "from crispy.tools.locate_psflets import PSFLets\n",
    "\n",
    "def calcSNROptExt(Nelec,subim,pixnoise=0,npix=0,Niter=10000,plot=True):\n",
    "    PSFlet_tool = PSFLets(load=True, infiledir=par.wavecalDir)\n",
    "    xindx = PSFlet_tool.xindx\n",
    "    yindx = PSFlet_tool.yindx\n",
    "    Nmax = PSFlet_tool.nlam_max\n",
    "\n",
    "    i=lensX+54\n",
    "    j=lensY+54\n",
    "    _x = xindx[i, j, :PSFlet_tool.nlam[i, j]]\n",
    "    _y = yindx[i, j, :PSFlet_tool.nlam[i, j]]\n",
    "    _lam = PSFlet_tool.lam_indx[i, j, :PSFlet_tool.nlam[i, j]]\n",
    "    X = _x-y0\n",
    "    X = X[1:-1]\n",
    "    Y = _y-x0\n",
    "    Y = Y[1:-1]\n",
    "    lam = _lam[1:-1]\n",
    "\n",
    "    vals = np.zeros((subim.shape[1],Niter))\n",
    "    for j in range(Niter):\n",
    "        # subtract mean of background (assumed known)\n",
    "        img = np.random.poisson(subim*Nelec)+np.random.poisson(pixnoise,subim.shape)-pixnoise\n",
    "        spec = np.zeros(subim.shape[1])\n",
    "        sig = 2./2.35*lam/par.FWHMlam\n",
    "        y = np.mean(Y)                  \n",
    "        for i in range(img.shape[1]):\n",
    "            weights = np.exp(-(np.arange(img.shape[0])-y)**2/2./sig[i]**2)/sig[i]/np.sqrt(2.*np.pi)\n",
    "            vals[i,j] = np.sum(img[:,i]*weights)/np.sum(weights**2)    \n",
    "    estSNR = np.mean(vals,axis=1)/np.std(vals,axis=1)\n",
    "    estSNR_central = np.mean(0.5*(vals[13,:]+vals[14,:]))/np.std(0.5*(vals[13,:]+vals[14,:]))\n",
    "    if plot:\n",
    "        plt.figure()\n",
    "        plt.imshow(img)\n",
    "        plt.colorbar(orientation='horizontal')\n",
    "        plt.figure()\n",
    "        plt.plot(estSNR)\n",
    "        plt.title('SNR')\n",
    "        SNR = Nelec/(np.sqrt(Nelec+npix*pixnoise))\n",
    "        print \"Expected SNR:\",SNR\n",
    "        print \"Estimated SNR:\",estSNR_central\n",
    "        print \"Change:\",100*(SNR-estSNR_central)/SNR,\"%\"\n",
    "\n",
    "        plt.figure()\n",
    "        plt.plot(vals[4])\n",
    "        plt.title('Extraction results')\n",
    "\n",
    "        print 'Mean:',np.mean(0.5*(vals[13,:]+vals[14,:]))\n",
    "        print 'Std:',np.std(0.5*(vals[13,:]+vals[14,:]))\n",
    "    return estSNR_central"
   ]
  },
  {
   "cell_type": "code",
   "execution_count": 198,
   "metadata": {},
   "outputs": [
    {
     "name": "stdout",
     "output_type": "stream",
     "text": [
      "Expected SNR: 31.6227766017\n",
      "Estimated SNR: 31.2107892037\n",
      "Change: 1.30281854503 %\n",
      "Mean: 549.900953784\n",
      "Std: 17.6189378037\n"
     ]
    },
    {
     "data": {
      "text/plain": [
       "array([  0.27040382,   2.14276031,   8.13595503,  16.05282627,\n",
       "        19.98479726,  20.46354341,  20.64617222,  20.76131422,\n",
       "        21.20873272,  21.03647236,  21.63223922,  21.15233367,\n",
       "        21.38052993,  21.92690443,  21.83935768,  22.18571597,\n",
       "        21.91702882,  22.32115096,  22.01193149,  22.58144857,\n",
       "        20.97975538,  16.01598351,   8.53553894,   2.89301963,   0.58626053])"
      ]
     },
     "execution_count": 198,
     "metadata": {},
     "output_type": "execute_result"
    },
    {
     "data": {
      "image/png": "[encoded data removed]",
      "text/plain": [
       "<matplotlib.figure.Figure at 0x1c0b14a8d0>"
      ]
     },
     "metadata": {},
     "output_type": "display_data"
    },
    {
     "data": {
      "image/png": "[encoded data removed]",
      "text/plain": [
       "<matplotlib.figure.Figure at 0x1c16487090>"
      ]
     },
     "metadata": {},
     "output_type": "display_data"
    },
    {
     "data": {
      "image/png": "[encoded data removed]",
      "text/plain": [
       "<matplotlib.figure.Figure at 0x1c19d982d0>"
      ]
     },
     "metadata": {},
     "output_type": "display_data"
    }
   ],
   "source": [
    "subim = np.sum(psflet_subarr,axis=0)\n",
    "calcSNROptExt(Nelec=1000,\n",
    "        subim=subim,\n",
    "        pixnoise=0,\n",
    "        npix=6,\n",
    "        plot=True)"
   ]
  },
  {
   "cell_type": "code",
   "execution_count": 207,
   "metadata": {},
   "outputs": [
    {
     "data": {
      "text/plain": [
       "[<matplotlib.lines.Line2D at 0x1c1771bad0>]"
      ]
     },
     "execution_count": 207,
     "metadata": {},
     "output_type": "execute_result"
    },
    {
     "data": {
      "image/png": "[encoded data removed]",
      "text/plain": [
       "<matplotlib.figure.Figure at 0x1c173b3310>"
      ]
     },
     "metadata": {},
     "output_type": "display_data"
    }
   ],
   "source": [
    "noiselist = np.arange(0,1000,100)  # mean number of electrons from background\n",
    "estvals = []\n",
    "compvals = []\n",
    "npix = 5\n",
    "Nelec=300\n",
    "for val in noiselist:\n",
    "#     subim = psflet_subarr[4]\n",
    "    subim = np.sum(psflet_subarr,axis=0)\n",
    "    estSNR = calcSNROptExt(Nelec=Nelec,\n",
    "        subim=subim,\n",
    "        pixnoise=val,\n",
    "        npix=npix,\n",
    "        plot=False)\n",
    "    estvals.append(estSNR)\n",
    "    compvals.append(Nelec/(np.sqrt(Nelec+npix*val)))\n",
    "plt.figure(figsize=(10,8))\n",
    "plt.title('Optimal extraction')\n",
    "plt.plot(noiselist,estvals,label=\"Simulated\")\n",
    "plt.xlabel('Number of additive noise electrons per pixel')\n",
    "plt.ylabel('SNR')\n",
    "plt.plot(noiselist,np.array(compvals),label='Expected with npix=%d' % npix)\n",
    "plt.legend()"
   ]
  },
  {
   "cell_type": "code",
   "execution_count": 208,
   "metadata": {},
   "outputs": [
    {
     "data": {
      "text/plain": [
       "<matplotlib.legend.Legend at 0x1c16e93190>"
      ]
     },
     "execution_count": 208,
     "metadata": {},
     "output_type": "execute_result"
    },
    {
     "data": {
      "image/png": "[encoded data removed]",
      "text/plain": [
       "<matplotlib.figure.Figure at 0x1c19af0410>"
      ]
     },
     "metadata": {},
     "output_type": "display_data"
    }
   ],
   "source": [
    "plt.figure(figsize=(10,8))\n",
    "plt.title('Optimal extraction')\n",
    "plt.plot(noiselist,estvals,label=\"Simulated\")\n",
    "plt.xlabel('Number of additive noise electrons per pixel')\n",
    "plt.ylabel('SNR')\n",
    "plt.plot(noiselist,np.array(compvals),label='Expected with npix=%d' % npix)\n",
    "plt.legend()"
   ]
  },
  {
   "cell_type": "markdown",
   "metadata": {},
   "source": [
    "## Test with Richardson-Lucy deconvolution"
   ]
  },
  {
   "cell_type": "code",
   "execution_count": 177,
   "metadata": {
    "collapsed": true
   },
   "outputs": [],
   "source": [
    "# subim = psflet_subarr[3]+psflet_subarr[4]+psflet_subarr[5]\n",
    "# sumpsflets = psflet_subarr[3]+psflet_subarr[4]+psflet_subarr[5]+1e-10\n",
    "from crispy.tools.reduction import RL\n",
    "def calcSNR_RL(Nelec,subim,psflet_subarr,pixnoise=0,npix=0,Niter=10000,plot=True):\n",
    "    sumpsflets = subim*Nelec+pixnoise+1e-10\n",
    "    vals = np.zeros((10,Niter))\n",
    "    for i in range(Niter):\n",
    "        # subtract mean of background (assumed known)\n",
    "        img = np.random.poisson(subim*Nelec)+np.random.poisson(pixnoise,subim.shape)-pixnoise\n",
    "#         subim_flat = np.reshape(img/np.sqrt(sumpsflets), -1)\n",
    "#         psflets_flat = np.reshape(psflet_subarr, (psflet_subarr.shape[0], -1))\n",
    "#         sumpsflets_flat = np.reshape(sumpsflets,-1)\n",
    "#         vals[:,i] = np.linalg.lstsq(psflets_flat.T/(np.sqrt(sumpsflets_flat[:,np.newaxis])), subim_flat)[0]\n",
    "        vals[:,i] = RL(img,psflets=psflet_subarr)[0]\n",
    "    estSNR = np.mean(vals,axis=1)/np.std(vals,axis=1)\n",
    "    if plot:\n",
    "        plt.figure()\n",
    "        plt.imshow(img)\n",
    "        plt.colorbar(orientation='horizontal')\n",
    "        plt.figure()\n",
    "        plt.plot(estSNR)\n",
    "        plt.title('SNR')\n",
    "        SNR = Nelec/(np.sqrt(Nelec+npix*pixnoise))\n",
    "        print \"Expected SNR:\",SNR\n",
    "        print \"Estimated SNR:\",estSNR[4]\n",
    "        print \"Change:\",100*(SNR-estSNR[4])/SNR,\"%\"\n",
    "\n",
    "        plt.figure()\n",
    "        plt.plot(vals[4])\n",
    "        plt.title('Extraction results')\n",
    "\n",
    "        print 'Mean:',np.mean(vals[4])\n",
    "        print 'Std:',np.std(vals[4])\n",
    "    return estSNR"
   ]
  },
  {
   "cell_type": "code",
   "execution_count": 178,
   "metadata": {},
   "outputs": [
    {
     "name": "stdout",
     "output_type": "stream",
     "text": [
      "Expected SNR: 31.6227766017\n",
      "Estimated SNR: 16.3542561444\n",
      "Change: 48.2833011459 %\n",
      "Mean: 1000.03944128\n",
      "Std: 61.1485739525\n"
     ]
    },
    {
     "data": {
      "text/plain": [
       "array([ 25.29353844,  19.03189105,  17.99034366,  17.26681037,\n",
       "        16.35425614,  15.38258849,  14.89139398,  14.27061078,\n",
       "        14.59881942,  21.86956021])"
      ]
     },
     "execution_count": 178,
     "metadata": {},
     "output_type": "execute_result"
    },
    {
     "data": {
      "image/png": "[encoded data removed]",
      "text/plain": [
       "<matplotlib.figure.Figure at 0x1c16efa350>"
      ]
     },
     "metadata": {},
     "output_type": "display_data"
    },
    {
     "data": {
      "image/png": "[encoded data removed]",
      "text/plain": [
       "<matplotlib.figure.Figure at 0x1c19b9c550>"
      ]
     },
     "metadata": {},
     "output_type": "display_data"
    },
    {
     "data": {
      "image/png": "[encoded data removed]",
      "text/plain": [
       "<matplotlib.figure.Figure at 0x1c19713cd0>"
      ]
     },
     "metadata": {},
     "output_type": "display_data"
    }
   ],
   "source": [
    "subim = np.sum(psflet_subarr,axis=0)\n",
    "calcSNR_RL(Nelec=1000,\n",
    "        subim=subim,\n",
    "        psflet_subarr=psflet_subarr,\n",
    "        pixnoise=0,\n",
    "        npix=10,\n",
    "        plot=True)"
   ]
  },
  {
   "cell_type": "markdown",
   "metadata": {},
   "source": [
    "### Attempt truncating the PSFLet templates to only the brightest pixels"
   ]
  },
  {
   "cell_type": "code",
   "execution_count": 150,
   "metadata": {},
   "outputs": [
    {
     "data": {
      "text/plain": [
       "<matplotlib.image.AxesImage at 0x1c19bea1d0>"
      ]
     },
     "execution_count": 150,
     "metadata": {},
     "output_type": "execute_result"
    },
    {
     "data": {
      "image/png": "[encoded data removed]",
      "text/plain": [
       "<matplotlib.figure.Figure at 0x1c17892cd0>"
      ]
     },
     "metadata": {},
     "output_type": "display_data"
    }
   ],
   "source": [
    "psflet_subarr.shape\n",
    "psflet_subarr_trunc = psflet_subarr.copy()\n",
    "for i in range(psflet_subarr.shape[0]):\n",
    "    psflet_subarr_trunc[i][psflet_subarr_trunc[i]<0.0*np.amax(psflet_subarr_trunc[i])] = 0.0\n",
    "plt.imshow(psflet_subarr_trunc[1])"
   ]
  },
  {
   "cell_type": "code",
   "execution_count": 196,
   "metadata": {
    "scrolled": false
   },
   "outputs": [
    {
     "name": "stdout",
     "output_type": "stream",
     "text": [
      "Expected SNR: 31.6227766017\n",
      "Estimated SNR: 16.2497674921\n",
      "Change: 48.6137232767 %\n",
      "Mean: 1000.11448588\n",
      "Std: 61.54638744\n",
      "Expected SNR: 31.6227766017\n",
      "Estimated SNR: 17.0778868326\n",
      "Change: 45.9949799862 %\n",
      "Mean: 999.480937119\n",
      "Std: 58.5248600669\n"
     ]
    },
    {
     "data": {
      "text/plain": [
       "array([ 25.93189601,  19.93480401,  18.74626713,  17.77729454,\n",
       "        17.07788683,  16.15315762,  15.41766018,  14.98195899,\n",
       "        15.69786372,  22.90833254])"
      ]
     },
     "execution_count": 196,
     "metadata": {},
     "output_type": "execute_result"
    },
    {
     "data": {
      "image/png": "[encoded data removed]",
      "text/plain": [
       "<matplotlib.figure.Figure at 0x1c16be1c50>"
      ]
     },
     "metadata": {},
     "output_type": "display_data"
    },
    {
     "data": {
      "image/png": "[encoded data removed]",
      "text/plain": [
       "<matplotlib.figure.Figure at 0x1c19bba350>"
      ]
     },
     "metadata": {},
     "output_type": "display_data"
    },
    {
     "data": {
      "image/png": "[encoded data removed]",
      "text/plain": [
       "<matplotlib.figure.Figure at 0x1c196f85d0>"
      ]
     },
     "metadata": {},
     "output_type": "display_data"
    },
    {
     "data": {
      "image/png": "[encoded data removed]",
      "text/plain": [
       "<matplotlib.figure.Figure at 0x1c1781f050>"
      ]
     },
     "metadata": {},
     "output_type": "display_data"
    },
    {
     "data": {
      "image/png": "[encoded data removed]",
      "text/plain": [
       "<matplotlib.figure.Figure at 0x1c0b9c9750>"
      ]
     },
     "metadata": {},
     "output_type": "display_data"
    },
    {
     "data": {
      "image/png": "[encoded data removed]",
      "text/plain": [
       "<matplotlib.figure.Figure at 0x1c0b11f910>"
      ]
     },
     "metadata": {},
     "output_type": "display_data"
    }
   ],
   "source": [
    "subim = np.sum(psflet_subarr,axis=0)\n",
    "calcSNR_RL(Nelec=1000,\n",
    "        subim=subim,\n",
    "        psflet_subarr=psflet_subarr,\n",
    "        pixnoise=0,\n",
    "        npix=10,\n",
    "        plot=True)\n",
    "subim = np.sum(psflet_subarr,axis=0)\n",
    "calcSNR(Nelec=1000,\n",
    "        subim=subim,\n",
    "        psflet_subarr=psflet_subarr,\n",
    "        pixnoise=0,\n",
    "        npix=10,\n",
    "        plot=True)"
   ]
  },
  {
   "cell_type": "code",
   "execution_count": 269,
   "metadata": {
    "collapsed": true
   },
   "outputs": [],
   "source": [
    "from crispy.tools.reduction import RL\n",
    "from crispy.tools.reduction import calculateWaveList\n",
    "par.nchanperspec_lstsq = 1.\n",
    "def calcSNRtotal(Nelec,subim,psflet_subarr,pixnoise=0,npix=0,Niter=10000,plot=True):\n",
    "    #sumpsflets = subim*Nelec+pixnoise+1e-10\n",
    "    lstsq = np.zeros((10,Niter))\n",
    "    RLvals = np.zeros((10,Niter))\n",
    "    optext = np.zeros((subim.shape[1],Niter))\n",
    "    PSFlet_tool = PSFLets(load=True, infiledir=par.wavecalDir)\n",
    "    xindx = PSFlet_tool.xindx\n",
    "    yindx = PSFlet_tool.yindx\n",
    "    Nmax = PSFlet_tool.nlam_max\n",
    "    i=lensX+54\n",
    "    j=lensY+54\n",
    "    _x = xindx[i, j, :PSFlet_tool.nlam[i, j]]\n",
    "    _y = yindx[i, j, :PSFlet_tool.nlam[i, j]]\n",
    "    _lam = PSFlet_tool.lam_indx[i, j, :PSFlet_tool.nlam[i, j]]\n",
    "    X = _x-y0\n",
    "    X = X[1:-1]\n",
    "    Y = _y-x0\n",
    "    Y = Y[1:-1]\n",
    "    lam = _lam[1:-1]\n",
    "\n",
    "    psflets_flat = np.reshape(psflet_subarr, (psflet_subarr.shape[0], -1))\n",
    "    variance = np.reshape(subim*Nelec+pixnoise+1e-10,-1)\n",
    "    A = psflets_flat.T\n",
    "    Ninv = np.linalg.inv(np.diag(variance))\n",
    "    Cinv = np.dot(np.transpose(A),np.dot(Ninv,A))\n",
    "    C = np.linalg.inv(Cinv)\n",
    "    Q = sp.linalg.sqrtm(Cinv)\n",
    "    s = np.sum(Q,axis=1)\n",
    "    R = Q/s[np.newaxis,:]\n",
    "    Ctilde_inv = np.diag(s**2)\n",
    "    Ctilde = np.dot(np.dot(R,C),R.T)\n",
    "\n",
    "    for j in range(Niter):\n",
    "        # subtract mean of background (assumed known)\n",
    "        img = np.random.poisson(subim*Nelec)+np.random.poisson(pixnoise,subim.shape)-pixnoise\n",
    "#         subim_flat = np.reshape(img/np.sqrt(sumpsflets), -1)\n",
    "#         psflets_flat = np.reshape(psflet_subarr, (psflet_subarr.shape[0], -1))\n",
    "#         sumpsflets_flat = np.reshape(sumpsflets,-1)\n",
    "#         vals[:,i] = np.linalg.lstsq(psflets_flat.T/(np.sqrt(sumpsflets_flat[:,np.newaxis])), subim_flat)[0]\n",
    "        x = np.reshape(img,-1)\n",
    "        right = np.dot(np.transpose(A),np.dot(Ninv,x))\n",
    "        f = np.dot(C,right)\n",
    "        lstsq[:,j] = np.dot(R,f)\n",
    "        RLvals[:,j] = np.dot(R,RL(img,psflets=psflet_subarr)[0])\n",
    "        \n",
    "        \n",
    "\n",
    "        spec = np.zeros(subim.shape[1])\n",
    "        sig = 2./2.35*lam/par.FWHMlam\n",
    "        y = np.mean(Y)                  \n",
    "        for i in range(img.shape[1]):\n",
    "            weights = np.exp(-(np.arange(img.shape[0])-y)**2/2./sig[i]**2)/sig[i]/np.sqrt(2.*np.pi)\n",
    "            optext[i,j] = np.sum(img[:,i]*weights)/np.sum(weights**2)    \n",
    "\n",
    "\n",
    "    estSNRlstsq = np.mean(lstsq,axis=1)/np.std(lstsq,axis=1)\n",
    "    estSNRRL = np.mean(RLvals,axis=1)/np.std(RLvals,axis=1)\n",
    "    estSNROptExt = np.mean(0.5*(optext[13,:]+optext[14,:]))/np.std(0.5*(optext[13,:]+optext[14,:]))\n",
    "    if plot:\n",
    "        plt.figure()\n",
    "        plt.imshow(img)\n",
    "        plt.colorbar(orientation='horizontal')\n",
    "        plt.figure()\n",
    "        plt.imshow(img-np.reshape(np.dot(A,np.dot(R,f)),subim.shape))\n",
    "        plt.colorbar(orientation='horizontal')\n",
    "        plt.figure()\n",
    "        lamlist,_ = calculateWaveList(par,method='lstsq')\n",
    "        lamlist,_ = calculateWaveList(par,method='lstsq')\n",
    "        plt.plot(lamlist,lstsq[:,-1])\n",
    "        plt.plot(lamlist,RLvals[:,-1])\n",
    "        lamlist,_ = calculateWaveList(par,method='optext')\n",
    "        scale = np.mean(RLvals[:,-1])/np.mean(optext[4:-4,-1])\n",
    "        plt.plot(lamlist,scale*optext[3:-3,-1])\n",
    "        print np.mean(RLvals[:,-1]),np.mean(optext[4:-4,-1])\n",
    "\n",
    "#         plt.figure()\n",
    "#         plt.plot(estSNRlstsq)\n",
    "#         plt.plot(estSNRRL)\n",
    "#         plt.plot(estSNROptExt)\n",
    "#         plt.title('SNR')\n",
    "        SNR = Nelec/(np.sqrt(Nelec+npix*pixnoise))\n",
    "        print \"Expected SNR:\",SNR\n",
    "        print \"Estimated SNR lstsq:\",estSNRlstsq[4]\n",
    "        print \"Estimated SNR RL:\",estSNRRL[4]\n",
    "        print \"Estimated SNR OptExt:\",estSNROptExt\n",
    "\n",
    "#         plt.figure()\n",
    "#         plt.plot(vals[4])\n",
    "#         plt.title('Extraction results')\n",
    "\n",
    "#         print 'Mean:',np.mean(vals[4])\n",
    "#         print 'Std:',np.std(vals[4])\n",
    "    return estSNRlstsq,estSNRRL,estSNROptExt"
   ]
  },
  {
   "cell_type": "code",
   "execution_count": 282,
   "metadata": {},
   "outputs": [
    {
     "name": "stdout",
     "output_type": "stream",
     "text": [
      "crispy - INFO - Reduced cube will have 10 wavelength bins\n",
      "crispy - INFO - Reduced cube will have 10 wavelength bins\n",
      "crispy - INFO - Reduced cube will have 19 wavelength bins\n",
      "992.999999999 536.393409074\n",
      "Expected SNR: 31.6227766017\n",
      "Estimated SNR lstsq: 31.8692156613\n",
      "Estimated SNR RL: 31.0561844867\n",
      "Estimated SNR OptExt: 30.6799244454\n"
     ]
    },
    {
     "data": {
      "text/plain": [
       "(array([ 31.68598076,  31.06437293,  31.58336066,  31.45792868,\n",
       "         31.86921566,  31.45165786,  31.78434371,  31.84862373,\n",
       "         31.17173976,  31.70586442]),\n",
       " array([ 31.2446538 ,  30.06294286,  30.87041921,  30.56612   ,\n",
       "         31.05618449,  30.45449482,  30.75589086,  30.69770907,\n",
       "         29.34460984,  30.83179112]),\n",
       " 30.679924445362762)"
      ]
     },
     "execution_count": 282,
     "metadata": {},
     "output_type": "execute_result"
    },
    {
     "data": {
      "image/png": "[encoded data removed]",
      "text/plain": [
       "<matplotlib.figure.Figure at 0x1c25439450>"
      ]
     },
     "metadata": {},
     "output_type": "display_data"
    },
    {
     "data": {
      "image/png": "[encoded data removed]",
      "text/plain": [
       "<matplotlib.figure.Figure at 0x1c2705ff10>"
      ]
     },
     "metadata": {},
     "output_type": "display_data"
    },
    {
     "data": {
      "image/png": "[encoded data removed]",
      "text/plain": [
       "<matplotlib.figure.Figure at 0x1c27746550>"
      ]
     },
     "metadata": {},
     "output_type": "display_data"
    }
   ],
   "source": [
    "subim = np.sum(psflet_subarr,axis=0)\n",
    "calcSNRtotal(Nelec=1000,\n",
    "        subim=subim,\n",
    "        psflet_subarr=psflet_subarr,\n",
    "        pixnoise=0,\n",
    "        npix=5,\n",
    "        plot=True)"
   ]
  },
  {
   "cell_type": "markdown",
   "metadata": {},
   "source": [
    "# TODO: Use a finer sampling for the least squares (regenerate the polychrome)"
   ]
  }
 ],
 "metadata": {
  "kernelspec": {
   "display_name": "Python 2",
   "language": "python",
   "name": "python2"
  },
  "language_info": {
   "codemirror_mode": {
    "name": "ipython",
    "version": 2
   },
   "file_extension": ".py",
   "mimetype": "text/x-python",
   "name": "python",
   "nbconvert_exporter": "python",
   "pygments_lexer": "ipython2",
   "version": "2.7.14"
  }
 },
 "nbformat": 4,
 "nbformat_minor": 2
}
