{
 "cells": [
  {
   "cell_type": "markdown",
   "metadata": {},
   "source": [
    "# PISCES wavelength calibration"
   ]
  },
  {
   "cell_type": "markdown",
   "metadata": {},
   "source": [
    "We have PISCES VARIA calibration sets. We will show how to process them to build a new wavelength calibration"
   ]
  },
  {
   "cell_type": "code",
   "execution_count": 1,
   "metadata": {
    "ExecuteTime": {
     "end_time": "2018-04-02T15:06:57.839212Z",
     "start_time": "2018-04-02T15:06:56.932159Z"
    }
   },
   "outputs": [
    {
     "name": "stdout",
     "output_type": "stream",
     "text": [
      "Populating the interactive namespace from numpy and matplotlib\n"
     ]
    }
   ],
   "source": [
    "import numpy as np\n",
    "import glob\n",
    "from astropy.io import fits\n",
    "%pylab inline --no-import-all\n",
    "plt.rc('font', family='serif', serif='Times',size=20)\n",
    "plt.rc('text', usetex=True)\n",
    "plt.rc('xtick', labelsize=20)\n",
    "plt.rc('xtick.major', size=10)\n",
    "plt.rc('ytick.major', size=10)\n",
    "plt.rc('ytick', labelsize=20)\n",
    "plt.rc('axes', labelsize=20)\n",
    "plt.rc('figure',titlesize=20)\n",
    "plt.rc('image',origin='lower',interpolation='nearest')\n",
    "\n",
    "import sys\n",
    "import os"
   ]
  },
  {
   "cell_type": "markdown",
   "metadata": {},
   "source": [
    "### Import crispy-related stuff"
   ]
  },
  {
   "cell_type": "code",
   "execution_count": 2,
   "metadata": {
    "ExecuteTime": {
     "end_time": "2018-04-02T15:07:00.542829Z",
     "start_time": "2018-04-02T15:07:00.525811Z"
    }
   },
   "outputs": [
    {
     "data": {
      "text/plain": [
       "SIMPLE  =                    T / conforms to FITS standard                      \n",
       "BITPIX  =                    8 / array data type                                \n",
       "NAXIS   =                    0 / number of array dimensions                     \n",
       "EXTEND  =                    T                                                  \n",
       "COMMENT                                                                         \n",
       "COMMENT ************************************************************            \n",
       "COMMENT ********************** General parameters ******************            \n",
       "COMMENT ************************************************************            \n",
       "COMMENT                                                                         \n",
       "NLENS   =                  108 / # lenslets across array                        \n",
       "PITCH   =             0.000174 / Lenslet pitch (meters)                         \n",
       "INTERLAC=                    2 / Interlacing                                    \n",
       "PHILENS =    26.56505117707799 / Rotation angle of the lenslets (deg)           \n",
       "PIXSIZE =              1.3E-05 / Pixel size (meters)                            \n",
       "LENSAMP =                  0.5 / Lenslet sampling (lam/D)                       \n",
       "LSAMPWAV=                600.0 / Lenslet sampling wavelength (nm)               \n",
       "FWHM    =                    2 / FHWM of PSFLet at detector (pixels)            \n",
       "FWHMLAM =                660.0 / Wavelength at which FWHM is defined (nm)       \n",
       "NPIX    =                 1024 / Number of detector pixels                      \n",
       "DISPDIST=                    F / Use PISCES distortion/dispersion?              "
      ]
     },
     "execution_count": 2,
     "metadata": {},
     "output_type": "execute_result"
    }
   ],
   "source": [
    "os.chdir('/Users/mrizzo/IFS/crispy/crispy/PISCES/')\n",
    "\n",
    "import logging as log\n",
    "from crispy.tools.initLogger import getLogger\n",
    "log = getLogger('crispy')\n",
    "from crispy.tools.image import Image\n",
    "from params import Params\n",
    "par = Params()\n",
    "par.hdr"
   ]
  },
  {
   "cell_type": "code",
   "execution_count": 3,
   "metadata": {
    "ExecuteTime": {
     "end_time": "2018-04-02T03:47:47.761614Z",
     "start_time": "2018-04-02T03:47:47.755870Z"
    }
   },
   "outputs": [
    {
     "name": "stdout",
     "output_type": "stream",
     "text": [
      "..//ReferenceFiles/Calibra_170425/\n"
     ]
    }
   ],
   "source": [
    "print par.wavecalDir"
   ]
  },
  {
   "cell_type": "markdown",
   "metadata": {},
   "source": [
    "## Build wavelength calibration files"
   ]
  },
  {
   "cell_type": "code",
   "execution_count": 7,
   "metadata": {
    "ExecuteTime": {
     "end_time": "2018-04-02T15:33:38.060580Z",
     "start_time": "2018-04-02T15:28:08.339996Z"
    }
   },
   "outputs": [
    {
     "name": "stdout",
     "output_type": "stream",
     "text": [
      "crispy - INFO - Building calibration files, placing results in ..//ReferenceFiles/Calibra_170425/\n",
      "crispy - INFO - Read data from HDU 1 of ..//ReferenceFiles/Calibra_170425/det605.0.fits\n",
      "crispy - INFO - Read data from HDU 1 of ..//ReferenceFiles/Calibra_170425/det605.0.fits\n",
      "crispy - INFO - Initializing PSFlet location transformation coefficients\n",
      "crispy - INFO - Performing initial optimization of PSFlet location transformation coefficients for frame ..//ReferenceFiles/Calibra_170425/det605.0.fits\n",
      "crispy - INFO - Performing final optimization of PSFlet location transformation coefficients for frame ..//ReferenceFiles/Calibra_170425/det605.0.fits\n",
      "crispy - INFO - Read data from HDU 1 of ..//ReferenceFiles/Calibra_170425/det615.0.fits\n",
      "crispy - INFO - Initializing transformation coefficients with previous values\n",
      "crispy - INFO - Performing final optimization of PSFlet location transformation coefficients for frame ..//ReferenceFiles/Calibra_170425/det615.0.fits\n",
      "crispy - INFO - Read data from HDU 1 of ..//ReferenceFiles/Calibra_170425/det625.0.fits\n",
      "crispy - INFO - Initializing transformation coefficients with previous values\n",
      "crispy - INFO - Performing final optimization of PSFlet location transformation coefficients for frame ..//ReferenceFiles/Calibra_170425/det625.0.fits\n",
      "crispy - INFO - Read data from HDU 1 of ..//ReferenceFiles/Calibra_170425/det635.0.fits\n",
      "crispy - INFO - Initializing transformation coefficients with previous values\n",
      "crispy - INFO - Performing final optimization of PSFlet location transformation coefficients for frame ..//ReferenceFiles/Calibra_170425/det635.0.fits\n",
      "crispy - INFO - Read data from HDU 1 of ..//ReferenceFiles/Calibra_170425/det645.0.fits\n",
      "crispy - INFO - Initializing transformation coefficients with previous values\n",
      "crispy - INFO - Performing final optimization of PSFlet location transformation coefficients for frame ..//ReferenceFiles/Calibra_170425/det645.0.fits\n",
      "crispy - INFO - Read data from HDU 1 of ..//ReferenceFiles/Calibra_170425/det655.0.fits\n",
      "crispy - INFO - Initializing transformation coefficients with previous values\n",
      "crispy - INFO - Performing final optimization of PSFlet location transformation coefficients for frame ..//ReferenceFiles/Calibra_170425/det655.0.fits\n",
      "crispy - INFO - Read data from HDU 1 of ..//ReferenceFiles/Calibra_170425/det665.0.fits\n",
      "crispy - INFO - Initializing transformation coefficients with previous values\n",
      "crispy - INFO - Performing final optimization of PSFlet location transformation coefficients for frame ..//ReferenceFiles/Calibra_170425/det665.0.fits\n",
      "crispy - INFO - Read data from HDU 1 of ..//ReferenceFiles/Calibra_170425/det675.0.fits\n",
      "crispy - INFO - Initializing transformation coefficients with previous values\n",
      "crispy - INFO - Performing final optimization of PSFlet location transformation coefficients for frame ..//ReferenceFiles/Calibra_170425/det675.0.fits\n",
      "crispy - INFO - Read data from HDU 1 of ..//ReferenceFiles/Calibra_170425/det685.0.fits\n",
      "crispy - INFO - Initializing transformation coefficients with previous values\n",
      "crispy - INFO - Performing final optimization of PSFlet location transformation coefficients for frame ..//ReferenceFiles/Calibra_170425/det685.0.fits\n",
      "crispy - INFO - Read data from HDU 1 of ..//ReferenceFiles/Calibra_170425/det695.0.fits\n",
      "crispy - INFO - Initializing transformation coefficients with previous values\n",
      "crispy - INFO - Performing final optimization of PSFlet location transformation coefficients for frame ..//ReferenceFiles/Calibra_170425/det695.0.fits\n",
      "crispy - INFO - Read data from HDU 1 of ..//ReferenceFiles/Calibra_170425/det705.0.fits\n",
      "crispy - INFO - Initializing transformation coefficients with previous values\n",
      "crispy - INFO - Performing final optimization of PSFlet location transformation coefficients for frame ..//ReferenceFiles/Calibra_170425/det705.0.fits\n",
      "crispy - INFO - Read data from HDU 1 of ..//ReferenceFiles/Calibra_170425/det715.0.fits\n",
      "crispy - INFO - Initializing transformation coefficients with previous values\n",
      "crispy - INFO - Performing final optimization of PSFlet location transformation coefficients for frame ..//ReferenceFiles/Calibra_170425/det715.0.fits\n",
      "crispy - INFO - Read data from HDU 1 of ..//ReferenceFiles/Calibra_170425/det725.0.fits\n",
      "crispy - INFO - Initializing transformation coefficients with previous values\n",
      "crispy - INFO - Performing final optimization of PSFlet location transformation coefficients for frame ..//ReferenceFiles/Calibra_170425/det725.0.fits\n",
      "crispy - INFO - Saving wavelength solution to ..//ReferenceFiles/Calibra_170425/lamsol.dat\n",
      "crispy - INFO - Computing wavelength values at pixel centers\n",
      "crispy - INFO - Making high-resolution PSFLet models\n",
      "crispy - INFO - Starting parallel computation\n",
      "crispy - INFO - Computing PSFLet widths...\n",
      "crispy - INFO - Reduced cube will have 22 wavelength bins\n",
      "crispy - INFO - Making polychrome cube\n",
      "crispy - INFO - Saving polychrome cube\n",
      "crispy - INFO - Saving wavelength calibration cube\n",
      "crispy - INFO - Total time elapsed: 330 s\n"
     ]
    }
   ],
   "source": [
    "# We need to run the calibration for the first time\n",
    "from crispy.tools.wavecal import buildcalibrations\n",
    "par.gaussian_hires=False # since par.gaussian_hires is False, it will attempt to make high-resolution PSFLets\n",
    "par.lamlist = np.arange(605.,730.,10)\n",
    "par.filelist = [par.wavecalDir+'det'+str(wav)+'.fits' for wav in par.lamlist]\n",
    "buildcalibrations(par,\n",
    "                    inspect=True,\n",
    "                    inspect_first=False,\n",
    "                    genwavelengthsol=True, # Compute wavelength at the center of all pixels\n",
    "                    makehiresPSFlets=True, # this requires very high SNR on the monochromatic frames\n",
    "                    makePolychrome=True,   # This is needed to use least squares extraction\n",
    "                    makePSFWidths=True,    # Fit PSF widths from high-res PSFLet models\n",
    "                    upsample=3,            # upsampling factor of the high-resolution PSFLets\n",
    "                    nsubarr=4,             # the detector is divided into nsubarr^2 regions for PSFLet averaging\n",
    "                    apodize=False,          # to match PSFlet spot locations, only use the inner circular part of the \n",
    "                                           #detector, hence discarding the corners of the detector where lenslets are \n",
    "                                           #distorted\n",
    "                    finecal=False\n",
    "                  ) "
   ]
  },
  {
   "cell_type": "code",
   "execution_count": null,
   "metadata": {
    "ExecuteTime": {
     "end_time": "2018-04-02T03:50:22.043274Z",
     "start_time": "2018-04-02T03:47:46.950Z"
    },
    "collapsed": true
   },
   "outputs": [],
   "source": [
    "#par.lamlist = np.arange(615.,720.,10)\n",
    "\n",
    "from crispy.tools.reduction import calculateWaveList\n",
    "lam_midpts,lam_endpts = calculateWaveList(par,method='lstsq')\n",
    "print('Wavelengths at midpoints for lstsq (nm): ',lam_midpts)\n",
    "print('Wavelengths at endpoints for lstsq (nm): ',lam_endpts)\n",
    "lam_midpts,lam_endpts = calculateWaveList(par,method='optext')\n",
    "print('Wavelengths at midpoints for optext (nm): ',lam_midpts)\n",
    "print('Wavelengths at endpoints for optext (nm): ',lam_endpts)"
   ]
  },
  {
   "cell_type": "markdown",
   "metadata": {},
   "source": [
    "## Monochromatic updates"
   ]
  },
  {
   "cell_type": "code",
   "execution_count": null,
   "metadata": {
    "ExecuteTime": {
     "end_time": "2018-04-02T03:50:22.044773Z",
     "start_time": "2018-04-02T03:47:46.973Z"
    },
    "collapsed": true
   },
   "outputs": [],
   "source": [
    "from crispy.tools.wavecal import monochromatic_update\n",
    "from crispy.tools.image import Image\n",
    "# let's pretend that we got a new file\n",
    "# inImage = Image(par.codeRoot+\"/Inputs/Flat637.fits\")\n",
    "# inLam = 637.\n",
    "inImage = Image(par.wavecalDir+'det685.0.fits')\n",
    "inLam=685.\n",
    "\n",
    "# this adjusts the wavecal\n",
    "monochromatic_update(par,inImage,inLam,apodize=True)\n",
    "# but you still have to re-run buildcalibrations each time\n",
    "from crispy.tools.wavecal import buildcalibrations\n",
    "par.gaussian_hires=False # since par.gaussian_hires is False, it will attempt to make high-resolution PSFLets\n",
    "par.lamlist = np.arange(605.,730.,10)\n",
    "par.filelist = [par.wavecalDir+'det'+str(wav)+'.fits' for wav in par.lamlist]\n",
    "buildcalibrations(par,\n",
    "                    inspect=True,\n",
    "                    genwavelengthsol=False, # already done before\n",
    "                    makehiresPSFlets=False, # already done\n",
    "                    makePolychrome=True, # update the polychrome with the new wavecal!\n",
    "                    upsample=3,\n",
    "                    nsubarr=4\n",
    "                 )\n",
    "\n",
    "\n"
   ]
  },
  {
   "cell_type": "code",
   "execution_count": 10,
   "metadata": {
    "ExecuteTime": {
     "end_time": "2018-04-02T16:37:38.230181Z",
     "start_time": "2018-04-02T16:37:20.484099Z"
    }
   },
   "outputs": [
    {
     "name": "stdout",
     "output_type": "stream",
     "text": [
      "crispy - INFO - Read data from HDU 1 of ..//Inputs/Flat637.fits\n",
      "crispy - INFO - Reduced cube will have 22 wavelength bins\n",
      "crispy - INFO - Elapsed time: 1.606998s\n",
      "crispy - INFO - Read data from HDU 1 of ..//Inputs/BB.fits\n",
      "crispy - INFO - Reduced cube will have 22 wavelength bins\n",
      "crispy - INFO - Elapsed time: 1.525384s\n",
      "crispy - INFO - Read data from HDU 1 of ..//Inputs/BB.fits\n",
      "crispy - INFO - Reduced cube will have 22 wavelength bins\n",
      "crispy - INFO - Writing data to ..//SimResults/BB_red_lstsq_conv_resid.fits\n",
      "crispy - INFO - Writing data to ..//SimResults/BB_red_lstsq_conv_model.fits\n",
      "crispy - INFO - Elapsed time: 14.568753s\n"
     ]
    }
   ],
   "source": [
    "from crispy.IFS import reduceIFSMap\n",
    "from crispy.tools.image import Image\n",
    "\n",
    "cube = reduceIFSMap(par,par.codeRoot+\"/Inputs/Flat637.fits\",method='optext',smoothbad=False) # smoothbad=True is the default\n",
    "cube = reduceIFSMap(par,par.codeRoot+\"/Inputs/BB.fits\",method='optext',smoothbad=False)\n",
    "# cube = reduceIFSMap(par,par.codeRoot+\"/Inputs/BB.fits\",method='lstsq',fitbkgnd=False,smoothbad=False)\n",
    "cube = reduceIFSMap(par,par.codeRoot+\"/Inputs/BB.fits\",method='lstsq_conv',fitbkgnd=False,smoothbad=False,niter=1)\n",
    "# cube = reduceIFSMap(par,par.codeRoot+\"/Inputs/Flat637.fits\",method='lstsq_conv',pixnoise=1.0,fitbkgnd=False,smoothbad=False)\n",
    "# cube = reduceIFSMap(par,par.wavecalDir+\"det655.0.fits\",method='lstsq_conv',fitbkgnd=False,smoothbad=False)\n",
    "\n",
    "# # reduce an array directly instead of a FITS file\n",
    "# cube_array = Image(filename= par.wavecalDir+\"det655.0.fits\").data\n",
    "\n",
    "# # now cube_array is a simple 2D array. Function is the same, but the argument is changed from a string to an array.\n",
    "# # You can also specify name=\"my_name\" in the arguments, and it will output a file called \"my_name_red_optext.fits\"\n",
    "# # If name is unspecified, it creates a file with the date and time as a base, result of the function\n",
    "# # time.strftime(\"%Y%m%d-%H%M%S\")\n",
    "# cube = reduceIFSMap(par,cube_array,method='lstsq_conv',smoothbad=False)\n"
   ]
  },
  {
   "cell_type": "markdown",
   "metadata": {},
   "source": [
    "# Construct lenslet bad pixel/flatfield from broadband reduced cube"
   ]
  },
  {
   "cell_type": "markdown",
   "metadata": {},
   "source": [
    "The following only works if the reduced cube is first done WITHOUT already correcting for lenslet flatfield. To do this, run the but only AFTER running deleting the keywords in the parameters class:"
   ]
  },
  {
   "cell_type": "code",
   "execution_count": 5,
   "metadata": {
    "ExecuteTime": {
     "end_time": "2018-04-02T03:58:03.227134Z",
     "start_time": "2018-04-02T03:58:00.421910Z"
    }
   },
   "outputs": [
    {
     "name": "stdout",
     "output_type": "stream",
     "text": [
      "crispy - INFO - Read data from HDU 1 of ..//Inputs/BB.fits\n"
     ]
    },
    {
     "ename": "LinAlgError",
     "evalue": "Singular matrix",
     "output_type": "error",
     "traceback": [
      "\u001b[0;31m---------------------------------------------------------------------------\u001b[0m",
      "\u001b[0;31mLinAlgError\u001b[0m                               Traceback (most recent call last)",
      "\u001b[0;32m<ipython-input-5-938f40f3088b>\u001b[0m in \u001b[0;36m<module>\u001b[0;34m()\u001b[0m\n\u001b[1;32m      3\u001b[0m \u001b[0;32mif\u001b[0m \u001b[0mhasattr\u001b[0m\u001b[0;34m(\u001b[0m\u001b[0mpar\u001b[0m\u001b[0;34m,\u001b[0m\u001b[0;34m'lenslet_flat'\u001b[0m\u001b[0;34m)\u001b[0m\u001b[0;34m:\u001b[0m \u001b[0;32mdel\u001b[0m \u001b[0mpar\u001b[0m\u001b[0;34m.\u001b[0m\u001b[0mlenslet_flat\u001b[0m\u001b[0;34m\u001b[0m\u001b[0m\n\u001b[1;32m      4\u001b[0m \u001b[0;32mif\u001b[0m \u001b[0mhasattr\u001b[0m\u001b[0;34m(\u001b[0m\u001b[0mpar\u001b[0m\u001b[0;34m,\u001b[0m\u001b[0;34m'lenslet_mask'\u001b[0m\u001b[0;34m)\u001b[0m\u001b[0;34m:\u001b[0m \u001b[0;32mdel\u001b[0m \u001b[0mpar\u001b[0m\u001b[0;34m.\u001b[0m\u001b[0mlenslet_mask\u001b[0m\u001b[0;34m\u001b[0m\u001b[0m\n\u001b[0;32m----> 5\u001b[0;31m \u001b[0mcube\u001b[0m \u001b[0;34m=\u001b[0m \u001b[0mreduceIFSMap\u001b[0m\u001b[0;34m(\u001b[0m\u001b[0mpar\u001b[0m\u001b[0;34m,\u001b[0m\u001b[0mpar\u001b[0m\u001b[0;34m.\u001b[0m\u001b[0mcodeRoot\u001b[0m\u001b[0;34m+\u001b[0m\u001b[0;34m\"/Inputs/BB.fits\"\u001b[0m\u001b[0;34m,\u001b[0m\u001b[0mmethod\u001b[0m\u001b[0;34m=\u001b[0m\u001b[0;34m'lstsq'\u001b[0m\u001b[0;34m,\u001b[0m\u001b[0msmoothbad\u001b[0m\u001b[0;34m=\u001b[0m\u001b[0mFalse\u001b[0m\u001b[0;34m)\u001b[0m\u001b[0;34m\u001b[0m\u001b[0m\n\u001b[0m\u001b[1;32m      6\u001b[0m \u001b[0;31m# cubeOpt = reduceIFSMap(par,par.codeRoot+\"/Inputs/BB.fits\",method='optext',smoothbad=False)\u001b[0m\u001b[0;34m\u001b[0m\u001b[0;34m\u001b[0m\u001b[0m\n",
      "\u001b[0;32m/Users/mrizzo/anaconda2/lib/python2.7/site-packages/crispy-0.3-py2.7.egg/crispy/IFS.pyc\u001b[0m in \u001b[0;36mreduceIFSMap\u001b[0;34m(par, IFSimageName, method, smoothbad, name, hires, dy, fitbkgnd, specialPolychrome, returnall, niter, pixnoise, normpsflets)\u001b[0m\n\u001b[1;32m    370\u001b[0m             \u001b[0mniter\u001b[0m\u001b[0;34m=\u001b[0m\u001b[0mniter\u001b[0m\u001b[0;34m,\u001b[0m\u001b[0;34m\u001b[0m\u001b[0m\n\u001b[1;32m    371\u001b[0m             \u001b[0mpixnoise\u001b[0m\u001b[0;34m=\u001b[0m\u001b[0mpixnoise\u001b[0m\u001b[0;34m,\u001b[0m\u001b[0;34m\u001b[0m\u001b[0m\n\u001b[0;32m--> 372\u001b[0;31m             normpsflets=normpsflets)\n\u001b[0m\u001b[1;32m    373\u001b[0m     \u001b[0;32melif\u001b[0m \u001b[0mmethod\u001b[0m \u001b[0;34m==\u001b[0m \u001b[0;34m'optext'\u001b[0m\u001b[0;34m:\u001b[0m\u001b[0;34m\u001b[0m\u001b[0m\n\u001b[1;32m    374\u001b[0m         \u001b[0mreducedName\u001b[0m \u001b[0;34m+=\u001b[0m \u001b[0;34m'_red_optext'\u001b[0m\u001b[0;34m\u001b[0m\u001b[0m\n",
      "\u001b[0;32m/Users/mrizzo/anaconda2/lib/python2.7/site-packages/crispy-0.3-py2.7.egg/crispy/tools/reduction.pyc\u001b[0m in \u001b[0;36mlstsqExtract\u001b[0;34m(par, name, ifsimage, smoothandmask, ivar, dy, refine, hires, upsample, fitbkgnd, specialPolychrome, returnall, mode, niter, pixnoise, normpsflets)\u001b[0m\n\u001b[1;32m    276\u001b[0m                     ifsimage, xindx[:, i, j], yindx[:, i, j], psflets, dy, normpsflets=normpsflets)\n\u001b[1;32m    277\u001b[0m                 cube[:, j, i], ivarcube[:, j, i] = fit_cutout(\n\u001b[0;32m--> 278\u001b[0;31m                     subim.copy(), psflet_subarr.copy(), mode=mode, niter=niter, pixnoise=pixnoise)\n\u001b[0m\u001b[1;32m    279\u001b[0m             \u001b[0;32melse\u001b[0m\u001b[0;34m:\u001b[0m\u001b[0;34m\u001b[0m\u001b[0m\n\u001b[1;32m    280\u001b[0m                 \u001b[0mcube\u001b[0m\u001b[0;34m[\u001b[0m\u001b[0;34m:\u001b[0m\u001b[0;34m,\u001b[0m \u001b[0mj\u001b[0m\u001b[0;34m,\u001b[0m \u001b[0mi\u001b[0m\u001b[0;34m]\u001b[0m \u001b[0;34m=\u001b[0m \u001b[0mnp\u001b[0m\u001b[0;34m.\u001b[0m\u001b[0mNaN\u001b[0m\u001b[0;34m\u001b[0m\u001b[0m\n",
      "\u001b[0;32m/Users/mrizzo/anaconda2/lib/python2.7/site-packages/crispy-0.3-py2.7.egg/crispy/tools/reduction.pyc\u001b[0m in \u001b[0;36mfit_cutout\u001b[0;34m(subim, psflets, mode, niter, pixnoise)\u001b[0m\n\u001b[1;32m    628\u001b[0m         \u001b[0mNinv\u001b[0m \u001b[0;34m=\u001b[0m \u001b[0mnp\u001b[0m\u001b[0;34m.\u001b[0m\u001b[0mdiag\u001b[0m\u001b[0;34m(\u001b[0m\u001b[0;36m1.\u001b[0m \u001b[0;34m/\u001b[0m \u001b[0;34m(\u001b[0m\u001b[0mvar\u001b[0m \u001b[0;34m+\u001b[0m \u001b[0;36m1e-10\u001b[0m\u001b[0;34m)\u001b[0m\u001b[0;34m)\u001b[0m\u001b[0;34m\u001b[0m\u001b[0m\n\u001b[1;32m    629\u001b[0m         \u001b[0mCinv\u001b[0m \u001b[0;34m=\u001b[0m \u001b[0mnp\u001b[0m\u001b[0;34m.\u001b[0m\u001b[0mdot\u001b[0m\u001b[0;34m(\u001b[0m\u001b[0mA\u001b[0m\u001b[0;34m.\u001b[0m\u001b[0mT\u001b[0m\u001b[0;34m,\u001b[0m \u001b[0mnp\u001b[0m\u001b[0;34m.\u001b[0m\u001b[0mdot\u001b[0m\u001b[0;34m(\u001b[0m\u001b[0mNinv\u001b[0m\u001b[0;34m,\u001b[0m \u001b[0mA\u001b[0m\u001b[0;34m)\u001b[0m\u001b[0;34m)\u001b[0m\u001b[0;34m\u001b[0m\u001b[0m\n\u001b[0;32m--> 630\u001b[0;31m         \u001b[0mC\u001b[0m \u001b[0;34m=\u001b[0m \u001b[0mnp\u001b[0m\u001b[0;34m.\u001b[0m\u001b[0mlinalg\u001b[0m\u001b[0;34m.\u001b[0m\u001b[0minv\u001b[0m\u001b[0;34m(\u001b[0m\u001b[0mCinv\u001b[0m\u001b[0;34m)\u001b[0m\u001b[0;34m\u001b[0m\u001b[0m\n\u001b[0m\u001b[1;32m    631\u001b[0m         \u001b[0mright\u001b[0m \u001b[0;34m=\u001b[0m \u001b[0mnp\u001b[0m\u001b[0;34m.\u001b[0m\u001b[0mdot\u001b[0m\u001b[0;34m(\u001b[0m\u001b[0mA\u001b[0m\u001b[0;34m.\u001b[0m\u001b[0mT\u001b[0m\u001b[0;34m,\u001b[0m \u001b[0mnp\u001b[0m\u001b[0;34m.\u001b[0m\u001b[0mdot\u001b[0m\u001b[0;34m(\u001b[0m\u001b[0mNinv\u001b[0m\u001b[0;34m,\u001b[0m \u001b[0msubim_flat\u001b[0m\u001b[0;34m)\u001b[0m\u001b[0;34m)\u001b[0m\u001b[0;34m\u001b[0m\u001b[0m\n\u001b[1;32m    632\u001b[0m         \u001b[0mf\u001b[0m \u001b[0;34m=\u001b[0m \u001b[0mnp\u001b[0m\u001b[0;34m.\u001b[0m\u001b[0mdot\u001b[0m\u001b[0;34m(\u001b[0m\u001b[0mC\u001b[0m\u001b[0;34m,\u001b[0m \u001b[0mright\u001b[0m\u001b[0;34m)\u001b[0m\u001b[0;34m\u001b[0m\u001b[0m\n",
      "\u001b[0;32m/Users/mrizzo/anaconda2/lib/python2.7/site-packages/numpy/linalg/linalg.pyc\u001b[0m in \u001b[0;36minv\u001b[0;34m(a)\u001b[0m\n\u001b[1;32m    511\u001b[0m     \u001b[0msignature\u001b[0m \u001b[0;34m=\u001b[0m \u001b[0;34m'D->D'\u001b[0m \u001b[0;32mif\u001b[0m \u001b[0misComplexType\u001b[0m\u001b[0;34m(\u001b[0m\u001b[0mt\u001b[0m\u001b[0;34m)\u001b[0m \u001b[0;32melse\u001b[0m \u001b[0;34m'd->d'\u001b[0m\u001b[0;34m\u001b[0m\u001b[0m\n\u001b[1;32m    512\u001b[0m     \u001b[0mextobj\u001b[0m \u001b[0;34m=\u001b[0m \u001b[0mget_linalg_error_extobj\u001b[0m\u001b[0;34m(\u001b[0m\u001b[0m_raise_linalgerror_singular\u001b[0m\u001b[0;34m)\u001b[0m\u001b[0;34m\u001b[0m\u001b[0m\n\u001b[0;32m--> 513\u001b[0;31m     \u001b[0mainv\u001b[0m \u001b[0;34m=\u001b[0m \u001b[0m_umath_linalg\u001b[0m\u001b[0;34m.\u001b[0m\u001b[0minv\u001b[0m\u001b[0;34m(\u001b[0m\u001b[0ma\u001b[0m\u001b[0;34m,\u001b[0m \u001b[0msignature\u001b[0m\u001b[0;34m=\u001b[0m\u001b[0msignature\u001b[0m\u001b[0;34m,\u001b[0m \u001b[0mextobj\u001b[0m\u001b[0;34m=\u001b[0m\u001b[0mextobj\u001b[0m\u001b[0;34m)\u001b[0m\u001b[0;34m\u001b[0m\u001b[0m\n\u001b[0m\u001b[1;32m    514\u001b[0m     \u001b[0;32mreturn\u001b[0m \u001b[0mwrap\u001b[0m\u001b[0;34m(\u001b[0m\u001b[0mainv\u001b[0m\u001b[0;34m.\u001b[0m\u001b[0mastype\u001b[0m\u001b[0;34m(\u001b[0m\u001b[0mresult_t\u001b[0m\u001b[0;34m,\u001b[0m \u001b[0mcopy\u001b[0m\u001b[0;34m=\u001b[0m\u001b[0mFalse\u001b[0m\u001b[0;34m)\u001b[0m\u001b[0;34m)\u001b[0m\u001b[0;34m\u001b[0m\u001b[0m\n\u001b[1;32m    515\u001b[0m \u001b[0;34m\u001b[0m\u001b[0m\n",
      "\u001b[0;32m/Users/mrizzo/anaconda2/lib/python2.7/site-packages/numpy/linalg/linalg.pyc\u001b[0m in \u001b[0;36m_raise_linalgerror_singular\u001b[0;34m(err, flag)\u001b[0m\n\u001b[1;32m     88\u001b[0m \u001b[0;34m\u001b[0m\u001b[0m\n\u001b[1;32m     89\u001b[0m \u001b[0;32mdef\u001b[0m \u001b[0m_raise_linalgerror_singular\u001b[0m\u001b[0;34m(\u001b[0m\u001b[0merr\u001b[0m\u001b[0;34m,\u001b[0m \u001b[0mflag\u001b[0m\u001b[0;34m)\u001b[0m\u001b[0;34m:\u001b[0m\u001b[0;34m\u001b[0m\u001b[0m\n\u001b[0;32m---> 90\u001b[0;31m     \u001b[0;32mraise\u001b[0m \u001b[0mLinAlgError\u001b[0m\u001b[0;34m(\u001b[0m\u001b[0;34m\"Singular matrix\"\u001b[0m\u001b[0;34m)\u001b[0m\u001b[0;34m\u001b[0m\u001b[0m\n\u001b[0m\u001b[1;32m     91\u001b[0m \u001b[0;34m\u001b[0m\u001b[0m\n\u001b[1;32m     92\u001b[0m \u001b[0;32mdef\u001b[0m \u001b[0m_raise_linalgerror_nonposdef\u001b[0m\u001b[0;34m(\u001b[0m\u001b[0merr\u001b[0m\u001b[0;34m,\u001b[0m \u001b[0mflag\u001b[0m\u001b[0;34m)\u001b[0m\u001b[0;34m:\u001b[0m\u001b[0;34m\u001b[0m\u001b[0m\n",
      "\u001b[0;31mLinAlgError\u001b[0m: Singular matrix"
     ]
    }
   ],
   "source": [
    "from crispy.IFS import reduceIFSMap\n",
    "\n",
    "if hasattr(par,'lenslet_flat'): del par.lenslet_flat\n",
    "if hasattr(par,'lenslet_mask'): del par.lenslet_mask\n",
    "cube = reduceIFSMap(par,par.codeRoot+\"/Inputs/BB.fits\",method='lstsq',smoothbad=False)\n",
    "# cubeOpt = reduceIFSMap(par,par.codeRoot+\"/Inputs/BB.fits\",method='optext',smoothbad=False)\n"
   ]
  },
  {
   "cell_type": "code",
   "execution_count": null,
   "metadata": {
    "ExecuteTime": {
     "end_time": "2018-04-02T03:50:22.049692Z",
     "start_time": "2018-04-02T03:47:47.010Z"
    },
    "collapsed": true
   },
   "outputs": [],
   "source": [
    "from crispy.tools.imgtools import gen_lenslet_flat\n",
    "BBcube = Image(par.exportDir+\"/BB_red_lstsq.fits\")\n",
    "lenslet_flat,lenslet_mask = gen_lenslet_flat(BBcube)\n",
    "Image(data = lenslet_flat).write(par.exportDir+\"/lenslet_flat.fits\",clobber=True)\n",
    "Image(data = lenslet_mask).write(par.exportDir+\"/lenslet_mask.fits\",clobber=True)\n",
    "plt.figure(figsize=(10,10))\n",
    "plt.imshow(lenslet_flat*lenslet_mask, cmap='viridis',vmin=0.8,vmax=1.2)\n",
    "plt.colorbar(fraction=0.046, pad=0.04)\n",
    "plt.show()\n"
   ]
  },
  {
   "cell_type": "code",
   "execution_count": null,
   "metadata": {
    "ExecuteTime": {
     "end_time": "2018-04-02T03:50:22.051172Z",
     "start_time": "2018-04-02T03:47:47.013Z"
    },
    "collapsed": true
   },
   "outputs": [],
   "source": [
    "psflets = Image(par.wavecalDir+\"/hires_psflets_lam715.fits\").data\n",
    "fig, axarr = plt.subplots(4,4,figsize=(12,12))\n",
    "for i in range(psflets.shape[0]):\n",
    "    for j in range(psflets.shape[1]):\n",
    "        axarr[i,j].imshow(psflets[i,j],vmin=0.0)\n",
    "        axarr[i,j].axis('off')\n",
    "plt.subplots_adjust(wspace=0.0,hspace=0.05)\n",
    "plt.savefig(par.wavecalDir+\"psflets.png\")        \n",
    "plt.show()\n"
   ]
  },
  {
   "cell_type": "markdown",
   "metadata": {},
   "source": [
    "### Scratch work with the PSF width determination"
   ]
  },
  {
   "cell_type": "code",
   "execution_count": null,
   "metadata": {
    "ExecuteTime": {
     "end_time": "2018-04-02T03:50:22.052937Z",
     "start_time": "2018-04-02T03:47:47.030Z"
    },
    "collapsed": true
   },
   "outputs": [],
   "source": [
    "import re\n",
    "# par.wavecalDir = '../ReferenceFiles/wavecalR50_660/'\n",
    "hires_list = np.sort(glob.glob(par.wavecalDir + '/hires_psflets_lam???.fits'))\n",
    "hires_arrs = [fits.open(filename)[0].data for filename in hires_list]\n",
    "lam_hires = [int(re.sub('.*lam', '', re.sub('.fits', '', filename)))\n",
    "             for filename in hires_list]\n",
    "psflet_res = 3 # Oversampling of high-resolution PSFlet images\n"
   ]
  },
  {
   "cell_type": "code",
   "execution_count": null,
   "metadata": {
    "ExecuteTime": {
     "end_time": "2018-04-02T03:50:22.055245Z",
     "start_time": "2018-04-02T03:47:47.030Z"
    },
    "collapsed": true
   },
   "outputs": [],
   "source": [
    "print lam_hires\n",
    "print hires_arrs[0].shape\n",
    "print par.wavecalDir"
   ]
  },
  {
   "cell_type": "code",
   "execution_count": null,
   "metadata": {
    "ExecuteTime": {
     "end_time": "2018-04-02T03:50:22.057826Z",
     "start_time": "2018-04-02T03:47:47.032Z"
    },
    "collapsed": true
   },
   "outputs": [],
   "source": [
    "shape = hires_arrs[0].shape\n",
    "sigarr = np.zeros((len(hires_list), shape[0], shape[1]))\n",
    "_x = np.arange(shape[2])/float(psflet_res)\n",
    "_x -= _x[_x.shape[0]//2]\n",
    "\n",
    "for i in range(sigarr.shape[0]):\n",
    "    for j in range(sigarr.shape[1]):\n",
    "        for k in range(sigarr.shape[2]):                \n",
    "# for i in range(1):\n",
    "#     for j in range(1):\n",
    "#         for k in range(1):                \n",
    "            row = np.sum(hires_arrs[i][j, k, :, shape[3]//2-1:shape[3]//2+1],axis=1) \n",
    "#             row = np.sum(row.reshape((row.shape[0]//3,3)),axis=1)/3.\n",
    "#             xrow = np.sum(_x.reshape((_x.shape[0]//3,3)),axis=1)/3.\n",
    "            sigarr[i, j, k] = np.sum(row*_x**2)\n",
    "            sigarr[i, j, k] /= np.sum(row)\n",
    "\n",
    "    sigarr[i] = np.sqrt(sigarr[i])\n"
   ]
  },
  {
   "cell_type": "code",
   "execution_count": null,
   "metadata": {
    "ExecuteTime": {
     "end_time": "2018-04-02T03:50:22.060925Z",
     "start_time": "2018-04-02T03:47:47.033Z"
    },
    "collapsed": true
   },
   "outputs": [],
   "source": [
    "from crispy.tools.detutils import frebin\n",
    "#row = np.sum(hires_arrs[i][j, k, :, shape[3]//2-1:shape[3]//2+1],axis=1)\n",
    "#print _x.shape\n",
    "#sh= np.sum(row.reshape((row.shape[0]//3,3)),axis=1)/3.\n",
    "#xsh = np.sum(_x.reshape((_x.shape[0]//3,3)),axis=1)/3.\n",
    "#print sh.shape\n",
    "# plt.plot(xrow,row)\n",
    "plt.plot(_x,row)\n",
    "plt.plot(_x,np.exp(-_x**2/2./sigarr[i, j, k]**2)/np.sqrt(sigarr[i, j, k])/np.sqrt(2.*np.pi)/0.6)"
   ]
  },
  {
   "cell_type": "code",
   "execution_count": null,
   "metadata": {
    "ExecuteTime": {
     "end_time": "2018-04-02T03:50:22.064431Z",
     "start_time": "2018-04-02T03:47:47.035Z"
    },
    "collapsed": true
   },
   "outputs": [],
   "source": [
    "print sigarr[i, j, k]"
   ]
  },
  {
   "cell_type": "code",
   "execution_count": null,
   "metadata": {
    "ExecuteTime": {
     "end_time": "2018-04-02T03:50:22.067104Z",
     "start_time": "2018-04-02T03:47:47.037Z"
    },
    "collapsed": true
   },
   "outputs": [],
   "source": [
    "from crispy.tools.locate_psflets import PSFLets\n",
    "lam = np.loadtxt(par.wavecalDir + \"lamsol.dat\")[:, 0]\n",
    "allcoef = np.loadtxt(par.wavecalDir + \"lamsol.dat\")[:, 1:]\n",
    "psftool = PSFLets()\n",
    "lam1 = min(lam)\n",
    "lam2 = max(lam)\n",
    "psftool.genpixsol(par,lam, allcoef, order=3,lam1=lam1/1.02, lam2=lam2*1.02)\n"
   ]
  },
  {
   "cell_type": "code",
   "execution_count": null,
   "metadata": {
    "ExecuteTime": {
     "end_time": "2018-04-02T03:50:22.069957Z",
     "start_time": "2018-04-02T03:47:47.039Z"
    },
    "collapsed": true
   },
   "outputs": [],
   "source": [
    "from scipy import ndimage,interpolate\n",
    "from scipy import interpolate\n",
    "mean_x = psftool.xindx[:, :, psftool.xindx.shape[-1]//2]\n",
    "mean_y = psftool.yindx[:, :, psftool.yindx.shape[-1]//2]\n",
    "\n",
    "longsigarr = np.zeros((len(lam_hires), mean_x.shape[0], mean_x.shape[1]))\n",
    "\n",
    "ix = mean_x*hires_arrs[0].shape[1]/par.npix - 0.5\n",
    "iy = mean_y*hires_arrs[0].shape[0]/par.npix - 0.5\n",
    "\n",
    "for i in range(sigarr.shape[0]):\n",
    "    longsigarr[i] = ndimage.map_coordinates(sigarr[i], [iy, ix], order=3, mode='nearest')\n",
    "fullsigarr = np.ones((psftool.xindx.shape))\n",
    "for i in range(mean_x.shape[0]):\n",
    "    for j in range(mean_x.shape[1]):\n",
    "        if psftool.good[i,j]:\n",
    "            fit = interpolate.interp1d(np.asarray(lam_hires), longsigarr[:, i, j],\n",
    "                                       bounds_error=False, fill_value='extrapolate')\n",
    "            fullsigarr[i, j] = fit(psftool.lam_indx[i, j])"
   ]
  },
  {
   "cell_type": "code",
   "execution_count": null,
   "metadata": {
    "ExecuteTime": {
     "end_time": "2018-04-02T03:50:22.071566Z",
     "start_time": "2018-04-02T03:47:47.040Z"
    },
    "collapsed": true
   },
   "outputs": [],
   "source": [
    "plt.imshow(fullsigarr[:,:,10])\n",
    "plt.colorbar()\n"
   ]
  },
  {
   "cell_type": "code",
   "execution_count": null,
   "metadata": {
    "ExecuteTime": {
     "end_time": "2018-04-02T03:50:22.073373Z",
     "start_time": "2018-04-02T03:47:47.041Z"
    },
    "collapsed": true
   },
   "outputs": [],
   "source": [
    "from crispy.tools.reduction import _add_row\n",
    "polychromeR = fits.open(par.wavecalDir + 'polychromeR%d.fits' % (par.R))\n",
    "psflets = polychromeR[0].data\n",
    "print psflets.shape\n",
    "psflets2 = _add_row(psflets,n=1)\n",
    "print psflets2.shape\n",
    "print psflets2[-1:].shape"
   ]
  },
  {
   "cell_type": "markdown",
   "metadata": {},
   "source": [
    "If you are satisfied with the flatfielding and masking, move the two fits files into the wavecal directory and reduce things with the two class attributes defined. When you reload the parameter file, the two attributes automatically get reset."
   ]
  }
 ],
 "metadata": {
  "kernelspec": {
   "display_name": "Python 2",
   "language": "python",
   "name": "python2"
  },
  "latex_envs": {
   "LaTeX_envs_menu_present": true,
   "autoclose": false,
   "autocomplete": true,
   "bibliofile": "biblio.bib",
   "cite_by": "apalike",
   "current_citInitial": 1,
   "eqLabelWithNumbers": true,
   "eqNumInitial": 1,
   "hotkeys": {
    "equation": "Ctrl-E",
    "itemize": "Ctrl-I"
   },
   "labels_anchors": false,
   "latex_user_defs": false,
   "report_style_numbering": false,
   "user_envs_cfg": false
  },
  "toc": {
   "nav_menu": {},
   "number_sections": true,
   "sideBar": true,
   "skip_h1_title": false,
   "title_cell": "Table of Contents",
   "title_sidebar": "Contents",
   "toc_cell": false,
   "toc_position": {},
   "toc_section_display": true,
   "toc_window_display": false
  },
  "varInspector": {
   "cols": {
    "lenName": 16,
    "lenType": 16,
    "lenVar": 40
   },
   "kernels_config": {
    "python": {
     "delete_cmd_postfix": "",
     "delete_cmd_prefix": "del ",
     "library": "var_list.py",
     "varRefreshCmd": "print(var_dic_list())"
    },
    "r": {
     "delete_cmd_postfix": ") ",
     "delete_cmd_prefix": "rm(",
     "library": "var_list.r",
     "varRefreshCmd": "cat(var_dic_list()) "
    }
   },
   "types_to_exclude": [
    "module",
    "function",
    "builtin_function_or_method",
    "instance",
    "_Feature"
   ],
   "window_display": false
  }
 },
 "nbformat": 4,
 "nbformat_minor": 1
}
